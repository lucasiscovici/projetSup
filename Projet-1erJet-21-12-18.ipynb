{
 "cells": [
  {
   "cell_type": "markdown",
   "metadata": {
    "kernel": "SoS"
   },
   "source": [
    "## <center>Master 2 - MLDS - Paris Descartes </center>"
   ]
  },
  {
   "cell_type": "markdown",
   "metadata": {
    "kernel": "SoS"
   },
   "source": [
    "## <center>Projet Apprentissage Supervisé </center>\n",
    "<center><em>le 15 janvier 2019 avant minuit</em></center>"
   ]
  },
  {
   "cell_type": "markdown",
   "metadata": {
    "kernel": "SoS"
   },
   "source": [
    "<b><big>Lucas Iscovici <span style=\"float:right\">Mohamed Ben Hamdoune</span></big></b>"
   ]
  },
  {
   "cell_type": "markdown",
   "metadata": {
    "kernel": "SoS"
   },
   "source": [
    "## <center>Le SUJET</center> \n",
    "### <center>Détection de fraude dans des transactions bancaires</center>"
   ]
  },
  {
   "cell_type": "markdown",
   "metadata": {
    "kernel": "SoS"
   },
   "source": [
    "### <center>Objectif</center>\n",
    "<center>L’objectif de ce travail est la mise en pratique concrète d’un certain nombre de techniques\n",
    "d’apprentissage supervisé (<b>Bayesien Naïf, KNN, LDA, QDA, Linear SVM, Non Linear SVM,\n",
    "Régression logistique, CART et Random Forest</b>), à travers l’étude d’un cas pratique nécessitant\n",
    "l’utilisation de logiciels de traitement statistique de données <b>R ou python</b>.<br>L’application visée est :<br>\n",
    " <b>Détection de fraude dans des transactions bancaires</b> :<br> En résumé, il s’agit de travailler dans ce\n",
    "projet sur une base de données décrivant des transactions bancaires sur une période donnée,\n",
    "    l’objectif est la <b>détection des transactions frauduleuses</b>.<br>\n",
    "    Je vous encourage à faire preuve d’<b>originalité</b> : vous pouvez très bien utiliser des modèles qui n’ont\n",
    "pas été présentés au cours</center>"
   ]
  },
  {
   "cell_type": "markdown",
   "metadata": {
    "kernel": "SoS"
   },
   "source": [
    "### <center>Travail à faire</center>\n",
    "<center>Commencer par une <b>étude exploratoire</b> préliminaire<br>\n",
    "Utiliser les différentes techniques de <b>classification supervisée</b> vue en cours pour créer un\n",
    "<b>modèle de détection de la fraude</b>. Suivant les techniques utilisées (et les fonctions\n",
    "disponibles sous R), vous pourrez utiliser l’ensemble des variables disponibles ou\n",
    "uniquement les variables quantitatives, et réaliser ou non une <b>sélection de variables</b>.<br>\n",
    "Comparer l’ensemble de ces techniques à l’aide de courbes ROC (<b>AUC</b>), évaluées soit par\n",
    "<b>validation croisée</b> soit sur échantillon test</center>"
   ]
  },
  {
   "cell_type": "markdown",
   "metadata": {
    "kernel": "SoS"
   },
   "source": [
    "### <center>Rapport</center>\n",
    "<center>Le rapport du projet doit présenter de façon claire et concise:<br>\n",
    "    l'<b>objet</b> de l'analyse<br>\n",
    "    la <b>description des données</b> (individus/variables utilisées, variables supplémentaires etc.)<br>\n",
    "    <b>l'analyse</b> proprement dite<br>\n",
    "    les <b>commentaires sur les résultats</b> obtenus<br>\n",
    "    </center>"
   ]
  },
  {
   "cell_type": "markdown",
   "metadata": {
    "kernel": "SoS"
   },
   "source": [
    "## <center>L'ANALYSE </center>"
   ]
  },
  {
   "cell_type": "markdown",
   "metadata": {
    "kernel": "SoS"
   },
   "source": [
    "### <center>Les Données</center>"
   ]
  },
  {
   "cell_type": "markdown",
   "metadata": {
    "kernel": "SoS"
   },
   "source": [
    "<center>Le jeu de données contient les<b> transactions effectuées par cartes de crédit en septembre 2013</b> par les titulaires de carte\n",
    "européennes. <br>Cet ensemble de données présente les transactions qui se sont produites <b>en deux jours</b>, où nous avons eu\n",
    "    <b>492 fraudes sur 284 807 transactions</b>.<br> L'ensemble de données est <b>très déséquilibré</b>, les classes <b>positives (fraudes)\n",
    "    représentent 0,172%</b> de toutes les transactions.<br> Il contient uniquement des <b>variables d'entrée</b> numériques <b>résultant\n",
    "    d'une transformation PCA</b>. Les caractéristiques <b>V1, V2, ... V28 sont les composantes principales obtenues avec PCA</b>,\n",
    "les seules <b>caractéristiques qui n'ont pas été transformées avec PCA sont 'Time' et 'Amount'</b>.<br> La variable <b>'Time'</b>\n",
    "    contient les <b>secondes écoulées entre chaque transaction et la première transaction</b> de l'ensemble de données. La\n",
    "    variable <b>'Amount'</b> est le Montant de la transaction, cette caractéristique peut être utilisée pour <em>l'apprentissage sensible\n",
    "    aux coûts</em> dépendant de l'exemple. La fonction <b>'Class'</b> est la variable de réponse et prend la valeur <b>1 en cas de fraude et\n",
    "    0 sinon</b>. Compte tenu du rapport de <b>déséquilibre de classes</b>, nous recommandons de <b>mesurer la précision en utilisant\n",
    "    l'aire sous la courbe de rappel de précision (<em>AUPRC</em>)</b>. La précision de la matrice de confusion n'est pas significative\n",
    "pour une classification non équilibrée.</center>"
   ]
  },
  {
   "cell_type": "markdown",
   "metadata": {
    "kernel": "SoS"
   },
   "source": [
    "<center><h3>A Retenir: </h3></center>\n",
    "- 2 jours de fraude \n",
    "    - Variable \"Time\"\n",
    "       - Secondes -> voir si pattern temporel de fraude (matin ? soir?\n",
    "- Fraude rare\n",
    "    - Classe déséquilibré (492 fraudes sur 284 807 transactions) (0,172%)\n",
    "        - AUPRC -> l'aire sous la courbe de rappel de précision\n",
    "        - Attention au méthodes nécessitant des classes équilibré \n",
    "        - Voir d'éventuelle techniques pour lutter contre ce pb\n",
    "- \"Amount\" -> voir si pattern avec la montant de la transaction pour la fraude\n",
    "- Variables d'entrée sont les composantes principales d'une PCA\n",
    "    - On ne peux pas capter le sens des composantes sans le nom des vrais variables ?\n",
    "    - Ne \"capture\" que les liaisons linéaires\n",
    "    - Revenir au données initiales ? à chercher mais pb visiblement si que pca pb?\n",
    "\n"
   ]
  },
  {
   "cell_type": "markdown",
   "metadata": {
    "kernel": "SoS"
   },
   "source": [
    "### <center>Convention</center>"
   ]
  },
  {
   "cell_type": "markdown",
   "metadata": {
    "kernel": "SoS"
   },
   "source": [
    "VOIR LES TODOS "
   ]
  },
  {
   "cell_type": "markdown",
   "metadata": {
    "kernel": "SoS"
   },
   "source": [
    "## <center>IMPORT</center> "
   ]
  },
  {
   "cell_type": "code",
   "execution_count": 1,
   "metadata": {
    "kernel": "Python3",
    "scrolled": true
   },
   "outputs": [],
   "source": [
    "from pip import _internal as pip\n",
    "\n",
    "from math import *\n",
    "from collections import  Counter\n",
    "import numpy as np\n",
    "import pandas as pd\n",
    "import matplotlib.pyplot as plt\n",
    "import scipy \n",
    "import seaborn as sns\n",
    "\n",
    "\n",
    "from sklearn.metrics import precision_recall_curve,auc,roc_auc_score,confusion_matrix\n",
    "from sklearn.model_selection import train_test_split,RandomizedSearchCV,GridSearchCV,StratifiedKFold\n",
    "from sklearn.pipeline import make_pipeline, Pipeline\n",
    "\n",
    "from sklearn.preprocessing import scale\n",
    "\n",
    "from sklearn.discriminant_analysis import LinearDiscriminantAnalysis, QuadraticDiscriminantAnalysis\n",
    "\n",
    "from sklearn.manifold import *\n",
    "\n",
    "from sklearn.linear_model import LogisticRegression, PassiveAggressiveClassifier, RidgeClassifier, SGDClassifier\n",
    "from sklearn.ensemble import BaggingClassifier, RandomForestClassifier, GradientBoostingClassifier, ExtraTreesClassifier,VotingClassifier \n",
    "from sklearn.neighbors import KNeighborsClassifier\n",
    "\n",
    "from sklearn.tree import DecisionTreeClassifier\n",
    "\n",
    "from sklearn.naive_bayes import BernoulliNB, GaussianNB\n",
    "from sklearn.svm import SVC,LinearSVC\n",
    "try:\n",
    "    import scikitplot \n",
    "except:\n",
    "    pip.main([\"install\",\"scikit-plot\"])\n",
    "    import scikitplot \n",
    "#USEFULL\n",
    "from functools import partial\n",
    "from tqdm import tqdm,tqdm_notebook"
   ]
  },
  {
   "cell_type": "markdown",
   "metadata": {
    "kernel": "Python3"
   },
   "source": [
    "###  <center>USEFULL</center>"
   ]
  },
  {
   "cell_type": "code",
   "execution_count": 3,
   "metadata": {
    "kernel": "Python3"
   },
   "outputs": [],
   "source": [
    "T=True\n",
    "F=False"
   ]
  },
  {
   "cell_type": "code",
   "execution_count": 4,
   "metadata": {
    "kernel": "Python3"
   },
   "outputs": [],
   "source": [
    "pd.Series.whereDrop = lambda self,b: self.where(b).dropna() "
   ]
  },
  {
   "cell_type": "markdown",
   "metadata": {
    "kernel": "Python3"
   },
   "source": [
    "## <center> EDA</center>"
   ]
  },
  {
   "cell_type": "code",
   "execution_count": 4,
   "metadata": {
    "kernel": "Python3"
   },
   "outputs": [
    {
     "name": "stdout",
     "output_type": "stream",
     "text": [
      "creditcard.csv\t    Projet_Apprentissage_Supervisé_1819.zip\n",
      "creditcard.csv.zip  Projet_app_sup_MLDS1819_vf.pdf\n"
     ]
    }
   ],
   "source": [
    "!ls data"
   ]
  },
  {
   "cell_type": "code",
   "execution_count": 5,
   "metadata": {
    "kernel": "Python3"
   },
   "outputs": [],
   "source": [
    "data=pd.read_csv(\"./data/creditcard.csv\")"
   ]
  },
  {
   "cell_type": "code",
   "execution_count": 6,
   "metadata": {
    "kernel": "Python3"
   },
   "outputs": [
    {
     "data": {
      "text/html": [
       "<div>\n",
       "<style scoped>\n",
       "    .dataframe tbody tr th:only-of-type {\n",
       "        vertical-align: middle;\n",
       "    }\n",
       "\n",
       "    .dataframe tbody tr th {\n",
       "        vertical-align: top;\n",
       "    }\n",
       "\n",
       "    .dataframe thead th {\n",
       "        text-align: right;\n",
       "    }\n",
       "</style>\n",
       "<table border=\"1\" class=\"dataframe\">\n",
       "  <thead>\n",
       "    <tr style=\"text-align: right;\">\n",
       "      <th></th>\n",
       "      <th>Time</th>\n",
       "      <th>V1</th>\n",
       "      <th>V2</th>\n",
       "      <th>V3</th>\n",
       "      <th>V4</th>\n",
       "      <th>V5</th>\n",
       "      <th>V6</th>\n",
       "      <th>V7</th>\n",
       "      <th>V8</th>\n",
       "      <th>V9</th>\n",
       "      <th>...</th>\n",
       "      <th>V21</th>\n",
       "      <th>V22</th>\n",
       "      <th>V23</th>\n",
       "      <th>V24</th>\n",
       "      <th>V25</th>\n",
       "      <th>V26</th>\n",
       "      <th>V27</th>\n",
       "      <th>V28</th>\n",
       "      <th>Amount</th>\n",
       "      <th>Class</th>\n",
       "    </tr>\n",
       "  </thead>\n",
       "  <tbody>\n",
       "    <tr>\n",
       "      <th>0</th>\n",
       "      <td>0.0</td>\n",
       "      <td>-1.359807</td>\n",
       "      <td>-0.072781</td>\n",
       "      <td>2.536347</td>\n",
       "      <td>1.378155</td>\n",
       "      <td>-0.338321</td>\n",
       "      <td>0.462388</td>\n",
       "      <td>0.239599</td>\n",
       "      <td>0.098698</td>\n",
       "      <td>0.363787</td>\n",
       "      <td>...</td>\n",
       "      <td>-0.018307</td>\n",
       "      <td>0.277838</td>\n",
       "      <td>-0.110474</td>\n",
       "      <td>0.066928</td>\n",
       "      <td>0.128539</td>\n",
       "      <td>-0.189115</td>\n",
       "      <td>0.133558</td>\n",
       "      <td>-0.021053</td>\n",
       "      <td>149.62</td>\n",
       "      <td>0</td>\n",
       "    </tr>\n",
       "    <tr>\n",
       "      <th>1</th>\n",
       "      <td>0.0</td>\n",
       "      <td>1.191857</td>\n",
       "      <td>0.266151</td>\n",
       "      <td>0.166480</td>\n",
       "      <td>0.448154</td>\n",
       "      <td>0.060018</td>\n",
       "      <td>-0.082361</td>\n",
       "      <td>-0.078803</td>\n",
       "      <td>0.085102</td>\n",
       "      <td>-0.255425</td>\n",
       "      <td>...</td>\n",
       "      <td>-0.225775</td>\n",
       "      <td>-0.638672</td>\n",
       "      <td>0.101288</td>\n",
       "      <td>-0.339846</td>\n",
       "      <td>0.167170</td>\n",
       "      <td>0.125895</td>\n",
       "      <td>-0.008983</td>\n",
       "      <td>0.014724</td>\n",
       "      <td>2.69</td>\n",
       "      <td>0</td>\n",
       "    </tr>\n",
       "    <tr>\n",
       "      <th>2</th>\n",
       "      <td>1.0</td>\n",
       "      <td>-1.358354</td>\n",
       "      <td>-1.340163</td>\n",
       "      <td>1.773209</td>\n",
       "      <td>0.379780</td>\n",
       "      <td>-0.503198</td>\n",
       "      <td>1.800499</td>\n",
       "      <td>0.791461</td>\n",
       "      <td>0.247676</td>\n",
       "      <td>-1.514654</td>\n",
       "      <td>...</td>\n",
       "      <td>0.247998</td>\n",
       "      <td>0.771679</td>\n",
       "      <td>0.909412</td>\n",
       "      <td>-0.689281</td>\n",
       "      <td>-0.327642</td>\n",
       "      <td>-0.139097</td>\n",
       "      <td>-0.055353</td>\n",
       "      <td>-0.059752</td>\n",
       "      <td>378.66</td>\n",
       "      <td>0</td>\n",
       "    </tr>\n",
       "    <tr>\n",
       "      <th>3</th>\n",
       "      <td>1.0</td>\n",
       "      <td>-0.966272</td>\n",
       "      <td>-0.185226</td>\n",
       "      <td>1.792993</td>\n",
       "      <td>-0.863291</td>\n",
       "      <td>-0.010309</td>\n",
       "      <td>1.247203</td>\n",
       "      <td>0.237609</td>\n",
       "      <td>0.377436</td>\n",
       "      <td>-1.387024</td>\n",
       "      <td>...</td>\n",
       "      <td>-0.108300</td>\n",
       "      <td>0.005274</td>\n",
       "      <td>-0.190321</td>\n",
       "      <td>-1.175575</td>\n",
       "      <td>0.647376</td>\n",
       "      <td>-0.221929</td>\n",
       "      <td>0.062723</td>\n",
       "      <td>0.061458</td>\n",
       "      <td>123.50</td>\n",
       "      <td>0</td>\n",
       "    </tr>\n",
       "    <tr>\n",
       "      <th>4</th>\n",
       "      <td>2.0</td>\n",
       "      <td>-1.158233</td>\n",
       "      <td>0.877737</td>\n",
       "      <td>1.548718</td>\n",
       "      <td>0.403034</td>\n",
       "      <td>-0.407193</td>\n",
       "      <td>0.095921</td>\n",
       "      <td>0.592941</td>\n",
       "      <td>-0.270533</td>\n",
       "      <td>0.817739</td>\n",
       "      <td>...</td>\n",
       "      <td>-0.009431</td>\n",
       "      <td>0.798278</td>\n",
       "      <td>-0.137458</td>\n",
       "      <td>0.141267</td>\n",
       "      <td>-0.206010</td>\n",
       "      <td>0.502292</td>\n",
       "      <td>0.219422</td>\n",
       "      <td>0.215153</td>\n",
       "      <td>69.99</td>\n",
       "      <td>0</td>\n",
       "    </tr>\n",
       "  </tbody>\n",
       "</table>\n",
       "<p>5 rows × 31 columns</p>\n",
       "</div>"
      ],
      "text/plain": [
       "   Time        V1        V2        V3        V4        V5        V6        V7  \\\n",
       "0   0.0 -1.359807 -0.072781  2.536347  1.378155 -0.338321  0.462388  0.239599   \n",
       "1   0.0  1.191857  0.266151  0.166480  0.448154  0.060018 -0.082361 -0.078803   \n",
       "2   1.0 -1.358354 -1.340163  1.773209  0.379780 -0.503198  1.800499  0.791461   \n",
       "3   1.0 -0.966272 -0.185226  1.792993 -0.863291 -0.010309  1.247203  0.237609   \n",
       "4   2.0 -1.158233  0.877737  1.548718  0.403034 -0.407193  0.095921  0.592941   \n",
       "\n",
       "         V8        V9  ...         V21       V22       V23       V24  \\\n",
       "0  0.098698  0.363787  ...   -0.018307  0.277838 -0.110474  0.066928   \n",
       "1  0.085102 -0.255425  ...   -0.225775 -0.638672  0.101288 -0.339846   \n",
       "2  0.247676 -1.514654  ...    0.247998  0.771679  0.909412 -0.689281   \n",
       "3  0.377436 -1.387024  ...   -0.108300  0.005274 -0.190321 -1.175575   \n",
       "4 -0.270533  0.817739  ...   -0.009431  0.798278 -0.137458  0.141267   \n",
       "\n",
       "        V25       V26       V27       V28  Amount  Class  \n",
       "0  0.128539 -0.189115  0.133558 -0.021053  149.62      0  \n",
       "1  0.167170  0.125895 -0.008983  0.014724    2.69      0  \n",
       "2 -0.327642 -0.139097 -0.055353 -0.059752  378.66      0  \n",
       "3  0.647376 -0.221929  0.062723  0.061458  123.50      0  \n",
       "4 -0.206010  0.502292  0.219422  0.215153   69.99      0  \n",
       "\n",
       "[5 rows x 31 columns]"
      ]
     },
     "execution_count": 6,
     "metadata": {},
     "output_type": "execute_result"
    }
   ],
   "source": [
    "data.head()"
   ]
  },
  {
   "cell_type": "code",
   "execution_count": 7,
   "metadata": {
    "kernel": "Python3",
    "scrolled": true
   },
   "outputs": [
    {
     "name": "stdout",
     "output_type": "stream",
     "text": [
      "<class 'pandas.core.frame.DataFrame'>\n",
      "RangeIndex: 284807 entries, 0 to 284806\n",
      "Data columns (total 31 columns):\n",
      "Time      284807 non-null float64\n",
      "V1        284807 non-null float64\n",
      "V2        284807 non-null float64\n",
      "V3        284807 non-null float64\n",
      "V4        284807 non-null float64\n",
      "V5        284807 non-null float64\n",
      "V6        284807 non-null float64\n",
      "V7        284807 non-null float64\n",
      "V8        284807 non-null float64\n",
      "V9        284807 non-null float64\n",
      "V10       284807 non-null float64\n",
      "V11       284807 non-null float64\n",
      "V12       284807 non-null float64\n",
      "V13       284807 non-null float64\n",
      "V14       284807 non-null float64\n",
      "V15       284807 non-null float64\n",
      "V16       284807 non-null float64\n",
      "V17       284807 non-null float64\n",
      "V18       284807 non-null float64\n",
      "V19       284807 non-null float64\n",
      "V20       284807 non-null float64\n",
      "V21       284807 non-null float64\n",
      "V22       284807 non-null float64\n",
      "V23       284807 non-null float64\n",
      "V24       284807 non-null float64\n",
      "V25       284807 non-null float64\n",
      "V26       284807 non-null float64\n",
      "V27       284807 non-null float64\n",
      "V28       284807 non-null float64\n",
      "Amount    284807 non-null float64\n",
      "Class     284807 non-null int64\n",
      "dtypes: float64(30), int64(1)\n",
      "memory usage: 67.4 MB\n"
     ]
    }
   ],
   "source": [
    "data.info()"
   ]
  },
  {
   "cell_type": "code",
   "execution_count": 8,
   "metadata": {
    "kernel": "Python3"
   },
   "outputs": [],
   "source": [
    "dataShape=data.shape"
   ]
  },
  {
   "cell_type": "code",
   "execution_count": 9,
   "metadata": {
    "kernel": "Python3"
   },
   "outputs": [],
   "source": [
    "variablePasPC = [\"Time\",\"Amount\",\"Class\"]"
   ]
  },
  {
   "cell_type": "code",
   "execution_count": 10,
   "metadata": {
    "kernel": "Python3"
   },
   "outputs": [],
   "source": [
    "dataPC=data.loc[:,~data.columns.isin(variablePasPC)]\n",
    "dataPasPC=data.loc[:,data.columns.isin(variablePasPC)]"
   ]
  },
  {
   "cell_type": "markdown",
   "metadata": {
    "kernel": "Python3"
   },
   "source": [
    "#### <center> V(PC) de la PCA</center>"
   ]
  },
  {
   "cell_type": "code",
   "execution_count": 11,
   "metadata": {
    "kernel": "Python3",
    "scrolled": true
   },
   "outputs": [
    {
     "name": "stdout",
     "output_type": "stream",
     "text": [
      "<class 'pandas.core.frame.DataFrame'>\n",
      "RangeIndex: 284807 entries, 0 to 284806\n",
      "Data columns (total 28 columns):\n",
      "V1     284807 non-null float64\n",
      "V2     284807 non-null float64\n",
      "V3     284807 non-null float64\n",
      "V4     284807 non-null float64\n",
      "V5     284807 non-null float64\n",
      "V6     284807 non-null float64\n",
      "V7     284807 non-null float64\n",
      "V8     284807 non-null float64\n",
      "V9     284807 non-null float64\n",
      "V10    284807 non-null float64\n",
      "V11    284807 non-null float64\n",
      "V12    284807 non-null float64\n",
      "V13    284807 non-null float64\n",
      "V14    284807 non-null float64\n",
      "V15    284807 non-null float64\n",
      "V16    284807 non-null float64\n",
      "V17    284807 non-null float64\n",
      "V18    284807 non-null float64\n",
      "V19    284807 non-null float64\n",
      "V20    284807 non-null float64\n",
      "V21    284807 non-null float64\n",
      "V22    284807 non-null float64\n",
      "V23    284807 non-null float64\n",
      "V24    284807 non-null float64\n",
      "V25    284807 non-null float64\n",
      "V26    284807 non-null float64\n",
      "V27    284807 non-null float64\n",
      "V28    284807 non-null float64\n",
      "dtypes: float64(28)\n",
      "memory usage: 60.8 MB\n"
     ]
    }
   ],
   "source": [
    "dataPC.info()"
   ]
  },
  {
   "cell_type": "markdown",
   "metadata": {
    "kernel": "Python3"
   },
   "source": [
    "Comme Pc -> que des float, et pas de missing data"
   ]
  },
  {
   "cell_type": "code",
   "execution_count": 12,
   "metadata": {
    "kernel": "Python3"
   },
   "outputs": [],
   "source": [
    "minmaxavg=lambda x:x.agg([min,max,\"mean\"])"
   ]
  },
  {
   "cell_type": "code",
   "execution_count": 13,
   "metadata": {
    "kernel": "Python3"
   },
   "outputs": [
    {
     "data": {
      "text/plain": [
       "min     0.330083\n",
       "max     1.958696\n",
       "mean    0.976391\n",
       "dtype: float64"
      ]
     },
     "execution_count": 13,
     "metadata": {},
     "output_type": "execute_result"
    }
   ],
   "source": [
    "stdMinMaxPC=minmaxavg(dataPC.std())\n",
    "stdMinMaxPC"
   ]
  },
  {
   "cell_type": "code",
   "execution_count": 14,
   "metadata": {
    "kernel": "Python3"
   },
   "outputs": [
    {
     "data": {
      "text/plain": [
       "min    -113.743307\n",
       "max      -2.604551\n",
       "mean    -28.058024\n",
       "dtype: float64"
      ]
     },
     "execution_count": 14,
     "metadata": {},
     "output_type": "execute_result"
    }
   ],
   "source": [
    "minMinMaxPC=minmaxavg(dataPC.min())\n",
    "minMinMaxPC"
   ]
  },
  {
   "cell_type": "code",
   "execution_count": 15,
   "metadata": {
    "kernel": "Python3"
   },
   "outputs": [
    {
     "data": {
      "text/plain": [
       "min       2.454930\n",
       "max     120.589494\n",
       "mean     21.540993\n",
       "dtype: float64"
      ]
     },
     "execution_count": 15,
     "metadata": {},
     "output_type": "execute_result"
    }
   ],
   "source": [
    "maxMinMaxPC=minmaxavg(dataPC.max())\n",
    "maxMinMaxPC"
   ]
  },
  {
   "cell_type": "code",
   "execution_count": 16,
   "metadata": {
    "kernel": "Python3"
   },
   "outputs": [
    {
     "data": {
      "text/html": [
       "<div>\n",
       "<style scoped>\n",
       "    .dataframe tbody tr th:only-of-type {\n",
       "        vertical-align: middle;\n",
       "    }\n",
       "\n",
       "    .dataframe tbody tr th {\n",
       "        vertical-align: top;\n",
       "    }\n",
       "\n",
       "    .dataframe thead th {\n",
       "        text-align: right;\n",
       "    }\n",
       "</style>\n",
       "<table border=\"1\" class=\"dataframe\">\n",
       "  <thead>\n",
       "    <tr style=\"text-align: right;\">\n",
       "      <th></th>\n",
       "      <th>std</th>\n",
       "      <th>min</th>\n",
       "      <th>max</th>\n",
       "    </tr>\n",
       "  </thead>\n",
       "  <tbody>\n",
       "    <tr>\n",
       "      <th>min</th>\n",
       "      <td>0.330083</td>\n",
       "      <td>-113.743307</td>\n",
       "      <td>2.454930</td>\n",
       "    </tr>\n",
       "    <tr>\n",
       "      <th>max</th>\n",
       "      <td>1.958696</td>\n",
       "      <td>-2.604551</td>\n",
       "      <td>120.589494</td>\n",
       "    </tr>\n",
       "    <tr>\n",
       "      <th>mean</th>\n",
       "      <td>0.976391</td>\n",
       "      <td>-28.058024</td>\n",
       "      <td>21.540993</td>\n",
       "    </tr>\n",
       "  </tbody>\n",
       "</table>\n",
       "</div>"
      ],
      "text/plain": [
       "           std         min         max\n",
       "min   0.330083 -113.743307    2.454930\n",
       "max   1.958696   -2.604551  120.589494\n",
       "mean  0.976391  -28.058024   21.540993"
      ]
     },
     "execution_count": 16,
     "metadata": {},
     "output_type": "execute_result"
    }
   ],
   "source": [
    "minmaxavgPCA=pd.concat([stdMinMaxPC,minMinMaxPC,maxMinMaxPC],axis=1,keys=[\"std\",\"min\",\"max\"])\n",
    "minmaxavgPCA"
   ]
  },
  {
   "cell_type": "markdown",
   "metadata": {
    "kernel": "Python3"
   },
   "source": [
    "ratio std - max - min  :"
   ]
  },
  {
   "cell_type": "code",
   "execution_count": 17,
   "metadata": {
    "kernel": "Python3"
   },
   "outputs": [
    {
     "data": {
      "text/html": [
       "<div>\n",
       "<style scoped>\n",
       "    .dataframe tbody tr th:only-of-type {\n",
       "        vertical-align: middle;\n",
       "    }\n",
       "\n",
       "    .dataframe tbody tr th {\n",
       "        vertical-align: top;\n",
       "    }\n",
       "\n",
       "    .dataframe thead th {\n",
       "        text-align: right;\n",
       "    }\n",
       "</style>\n",
       "<table border=\"1\" class=\"dataframe\">\n",
       "  <thead>\n",
       "    <tr style=\"text-align: right;\">\n",
       "      <th></th>\n",
       "      <th>std</th>\n",
       "      <th>min</th>\n",
       "      <th>max</th>\n",
       "    </tr>\n",
       "  </thead>\n",
       "  <tbody>\n",
       "    <tr>\n",
       "      <th>min</th>\n",
       "      <td>0.330083</td>\n",
       "      <td>-113.743307</td>\n",
       "      <td>2.454930</td>\n",
       "    </tr>\n",
       "    <tr>\n",
       "      <th>max</th>\n",
       "      <td>1.958696</td>\n",
       "      <td>-2.604551</td>\n",
       "      <td>120.589494</td>\n",
       "    </tr>\n",
       "    <tr>\n",
       "      <th>mean</th>\n",
       "      <td>0.976391</td>\n",
       "      <td>-28.058024</td>\n",
       "      <td>21.540993</td>\n",
       "    </tr>\n",
       "    <tr>\n",
       "      <th>Ratio</th>\n",
       "      <td>5.933945</td>\n",
       "      <td>0.022898</td>\n",
       "      <td>49.121358</td>\n",
       "    </tr>\n",
       "  </tbody>\n",
       "</table>\n",
       "</div>"
      ],
      "text/plain": [
       "            std         min         max\n",
       "min    0.330083 -113.743307    2.454930\n",
       "max    1.958696   -2.604551  120.589494\n",
       "mean   0.976391  -28.058024   21.540993\n",
       "Ratio  5.933945    0.022898   49.121358"
      ]
     },
     "execution_count": 17,
     "metadata": {},
     "output_type": "execute_result"
    }
   ],
   "source": [
    "ratio=lambda a:a.max()/a.min()\n",
    "minmaxRatio=minmaxavgPCA.append(\n",
    "    pd.Series(list(map(ratio,[stdMinMaxPC,minMinMaxPC,maxMinMaxPC])),\n",
    "              index=[\"std\",\"min\",\"max\"],\n",
    "              name=\"Ratio\")\n",
    ")\n",
    "minmaxRatio"
   ]
  },
  {
   "cell_type": "markdown",
   "metadata": {
    "kernel": "Python3"
   },
   "source": [
    "### TODO:\n",
    "VOIR si scale les PC <br>"
   ]
  },
  {
   "cell_type": "code",
   "execution_count": 18,
   "metadata": {
    "kernel": "Python3"
   },
   "outputs": [
    {
     "data": {
      "text/plain": [
       "<matplotlib.axes._subplots.AxesSubplot at 0x7f51cbec65c0>"
      ]
     },
     "execution_count": 18,
     "metadata": {},
     "output_type": "execute_result"
    },
    {
     "data": {
      "image/png": "[encoded data removed]",
      "text/plain": [
       "<matplotlib.figure.Figure at 0x7f51cbf13240>"
      ]
     },
     "metadata": {},
     "output_type": "display_data"
    }
   ],
   "source": [
    "dataPC.boxplot()"
   ]
  },
  {
   "cell_type": "markdown",
   "metadata": {
    "kernel": "Python3"
   },
   "source": [
    "un peu d'outlier A voir peux etre rapport avec fraudes"
   ]
  },
  {
   "cell_type": "markdown",
   "metadata": {
    "kernel": "Python3"
   },
   "source": [
    "#### <center>TIME-AMOUNT-CLASS</center>"
   ]
  },
  {
   "cell_type": "code",
   "execution_count": 19,
   "metadata": {
    "kernel": "Python3"
   },
   "outputs": [
    {
     "name": "stdout",
     "output_type": "stream",
     "text": [
      "<class 'pandas.core.frame.DataFrame'>\n",
      "RangeIndex: 284807 entries, 0 to 284806\n",
      "Data columns (total 3 columns):\n",
      "Time      284807 non-null float64\n",
      "Amount    284807 non-null float64\n",
      "Class     284807 non-null int64\n",
      "dtypes: float64(2), int64(1)\n",
      "memory usage: 6.5 MB\n"
     ]
    }
   ],
   "source": [
    "dataPasPC.info()"
   ]
  },
  {
   "cell_type": "markdown",
   "metadata": {
    "kernel": "Python3"
   },
   "source": [
    "Time et Amount Float a part Class int (binaire) "
   ]
  },
  {
   "cell_type": "code",
   "execution_count": 20,
   "metadata": {
    "kernel": "Python3"
   },
   "outputs": [],
   "source": [
    "dataClass=dataPasPC.Class"
   ]
  },
  {
   "cell_type": "code",
   "execution_count": 21,
   "metadata": {
    "kernel": "Python3"
   },
   "outputs": [],
   "source": [
    "dataPasPcClass = dataPasPC[[\"Amount\",\"Time\"]]"
   ]
  },
  {
   "cell_type": "code",
   "execution_count": 22,
   "metadata": {
    "kernel": "Python3"
   },
   "outputs": [
    {
     "data": {
      "text/html": [
       "<div>\n",
       "<style scoped>\n",
       "    .dataframe tbody tr th:only-of-type {\n",
       "        vertical-align: middle;\n",
       "    }\n",
       "\n",
       "    .dataframe tbody tr th {\n",
       "        vertical-align: top;\n",
       "    }\n",
       "\n",
       "    .dataframe thead th {\n",
       "        text-align: right;\n",
       "    }\n",
       "</style>\n",
       "<table border=\"1\" class=\"dataframe\">\n",
       "  <thead>\n",
       "    <tr style=\"text-align: right;\">\n",
       "      <th></th>\n",
       "      <th>Amount</th>\n",
       "      <th>Time</th>\n",
       "    </tr>\n",
       "  </thead>\n",
       "  <tbody>\n",
       "    <tr>\n",
       "      <th>count</th>\n",
       "      <td>284807.000000</td>\n",
       "      <td>284807.000000</td>\n",
       "    </tr>\n",
       "    <tr>\n",
       "      <th>mean</th>\n",
       "      <td>88.349619</td>\n",
       "      <td>94813.859575</td>\n",
       "    </tr>\n",
       "    <tr>\n",
       "      <th>std</th>\n",
       "      <td>250.120109</td>\n",
       "      <td>47488.145955</td>\n",
       "    </tr>\n",
       "    <tr>\n",
       "      <th>min</th>\n",
       "      <td>0.000000</td>\n",
       "      <td>0.000000</td>\n",
       "    </tr>\n",
       "    <tr>\n",
       "      <th>25%</th>\n",
       "      <td>5.600000</td>\n",
       "      <td>54201.500000</td>\n",
       "    </tr>\n",
       "    <tr>\n",
       "      <th>50%</th>\n",
       "      <td>22.000000</td>\n",
       "      <td>84692.000000</td>\n",
       "    </tr>\n",
       "    <tr>\n",
       "      <th>75%</th>\n",
       "      <td>77.165000</td>\n",
       "      <td>139320.500000</td>\n",
       "    </tr>\n",
       "    <tr>\n",
       "      <th>max</th>\n",
       "      <td>25691.160000</td>\n",
       "      <td>172792.000000</td>\n",
       "    </tr>\n",
       "  </tbody>\n",
       "</table>\n",
       "</div>"
      ],
      "text/plain": [
       "              Amount           Time\n",
       "count  284807.000000  284807.000000\n",
       "mean       88.349619   94813.859575\n",
       "std       250.120109   47488.145955\n",
       "min         0.000000       0.000000\n",
       "25%         5.600000   54201.500000\n",
       "50%        22.000000   84692.000000\n",
       "75%        77.165000  139320.500000\n",
       "max     25691.160000  172792.000000"
      ]
     },
     "execution_count": 22,
     "metadata": {},
     "output_type": "execute_result"
    }
   ],
   "source": [
    "dataPasPcClass.describe()"
   ]
  },
  {
   "cell_type": "markdown",
   "metadata": {
    "kernel": "Python3"
   },
   "source": [
    "### TODO:\n",
    "std tres different (250 - 47500) ( X 190) -> scale <br>std tres different des PC (1) ( X 250 , X 47000)-> scale"
   ]
  },
  {
   "cell_type": "code",
   "execution_count": 23,
   "metadata": {
    "kernel": "Python3"
   },
   "outputs": [],
   "source": [
    "dataClass_vc=dataClass.value_counts"
   ]
  },
  {
   "cell_type": "code",
   "execution_count": 24,
   "metadata": {
    "kernel": "Python3"
   },
   "outputs": [
    {
     "data": {
      "text/html": [
       "<div>\n",
       "<style scoped>\n",
       "    .dataframe tbody tr th:only-of-type {\n",
       "        vertical-align: middle;\n",
       "    }\n",
       "\n",
       "    .dataframe tbody tr th {\n",
       "        vertical-align: top;\n",
       "    }\n",
       "\n",
       "    .dataframe thead th {\n",
       "        text-align: right;\n",
       "    }\n",
       "</style>\n",
       "<table border=\"1\" class=\"dataframe\">\n",
       "  <thead>\n",
       "    <tr style=\"text-align: right;\">\n",
       "      <th></th>\n",
       "      <th>Class</th>\n",
       "      <th>Class (normalize)</th>\n",
       "    </tr>\n",
       "  </thead>\n",
       "  <tbody>\n",
       "    <tr>\n",
       "      <th>0</th>\n",
       "      <td>284315</td>\n",
       "      <td>0.998273</td>\n",
       "    </tr>\n",
       "    <tr>\n",
       "      <th>1</th>\n",
       "      <td>492</td>\n",
       "      <td>0.001727</td>\n",
       "    </tr>\n",
       "  </tbody>\n",
       "</table>\n",
       "</div>"
      ],
      "text/plain": [
       "    Class  Class (normalize)\n",
       "0  284315           0.998273\n",
       "1     492           0.001727"
      ]
     },
     "execution_count": 24,
     "metadata": {},
     "output_type": "execute_result"
    }
   ],
   "source": [
    "dataClass_vcDF=pd.concat([dataClass_vc(),dataClass_vc(normalize=T)],\n",
    "                         axis=1,\n",
    "                         keys=[\"Class\",\"Class (normalize)\"]\n",
    "                        )\n",
    "dataClass_vcDF"
   ]
  },
  {
   "cell_type": "markdown",
   "metadata": {
    "kernel": "Python3"
   },
   "source": [
    "Comme prevu tres déséquilibré"
   ]
  },
  {
   "cell_type": "markdown",
   "metadata": {
    "kernel": "Python3"
   },
   "source": [
    "Si on met que la classe 0 (donc pas de fraude) on a 99.8 % d'accuracy"
   ]
  },
  {
   "cell_type": "markdown",
   "metadata": {
    "kernel": "Python3"
   },
   "source": [
    "#### <center>DUMMY</center>"
   ]
  },
  {
   "cell_type": "code",
   "execution_count": 25,
   "metadata": {
    "kernel": "Python3"
   },
   "outputs": [
    {
     "data": {
      "text/plain": [
       "0.99827251436937992"
      ]
     },
     "execution_count": 25,
     "metadata": {},
     "output_type": "execute_result"
    }
   ],
   "source": [
    "baseline_dummy=dataClass_vcDF.iloc[0,1]\n",
    "baseline_dummy"
   ]
  },
  {
   "cell_type": "markdown",
   "metadata": {
    "kernel": "Python3"
   },
   "source": [
    "##### <center>AUC</center>\n",
    "Si on fait AUPRC <a href=\"https://machinelearningmastery.com/roc-curves-and-precision-recall-curves-for-classification-in-python/\">Why ?</a>"
   ]
  },
  {
   "cell_type": "code",
   "execution_count": 5,
   "metadata": {
    "kernel": "Python3"
   },
   "outputs": [],
   "source": [
    "#https://machinelearningmastery.com/roc-curves-and-precision-recall-curves-for-classification-in-python/\n",
    "#AUCPR -> dOIT ETRE UTILISÉ SI classe déséquilibré\n",
    "def AUCPRC(testy, probs,plot=F,withAUC=F,withACC=F):\n",
    "    '''\n",
    "    AUCPRC(\n",
    "        true_labels [n_samples] ,\n",
    "        probas [n_samples] ou decision function,\n",
    "        plot=F\n",
    "    )\n",
    "    '''\n",
    "    precision, recall, thresholds = precision_recall_curve(testy, probs)\n",
    "    if plot:\n",
    "        plt.plot([0, 1], [0.1, 0.1], linestyle='--')\n",
    "        # plot the roc curve for the model\n",
    "        plt.plot(recall, precision, marker='.')\n",
    "        # show the plot\n",
    "        plt.show()\n",
    "    res = [(\"aucprc\",auc(recall,precision))]\n",
    "    if withAUC:\n",
    "        res+=[(\"auc\",roc_auc_score(testy, probs))]\n",
    "    if withACC:\n",
    "        cm=confusion_matrix(testy, probs)\n",
    "        res+=[(\"acc\",max(sum(np.diag(cm)),sum(np.diag(cm[::-1])))/np.sum(cm))]\n",
    "    return res"
   ]
  },
  {
   "cell_type": "code",
   "execution_count": null,
   "metadata": {
    "kernel": "Python3"
   },
   "outputs": [],
   "source": [
    "metrics=lambda a,b:AUCPRC(a,b,withACC=T,withAUC=T)"
   ]
  },
  {
   "cell_type": "code",
   "execution_count": 28,
   "metadata": {
    "kernel": "Python3"
   },
   "outputs": [
    {
     "data": {
      "text/plain": [
       "[('aucprc', 0.50086374281530999), ('auc', 0.5), ('acc', 0.99827251436937992)]"
      ]
     },
     "execution_count": 28,
     "metadata": {},
     "output_type": "execute_result"
    }
   ],
   "source": [
    "metricsDummy=metrics(dataClass,[1]*dataShape[0])\n",
    "metricsDummy"
   ]
  },
  {
   "cell_type": "markdown",
   "metadata": {
    "kernel": "Python3"
   },
   "source": [
    "pour l'instant quasiment pareil AUC ET AUCPRC "
   ]
  },
  {
   "cell_type": "code",
   "execution_count": 29,
   "metadata": {
    "kernel": "Python3"
   },
   "outputs": [
    {
     "data": {
      "text/plain": [
       "0.50086374281530999"
      ]
     },
     "execution_count": 29,
     "metadata": {},
     "output_type": "execute_result"
    }
   ],
   "source": [
    "baselineAUCPRC=metricsDummy[0][1]\n",
    "baselineAUCPRC"
   ]
  },
  {
   "cell_type": "code",
   "execution_count": 30,
   "metadata": {
    "kernel": "Python3"
   },
   "outputs": [
    {
     "data": {
      "text/html": [
       "<div>\n",
       "<style scoped>\n",
       "    .dataframe tbody tr th:only-of-type {\n",
       "        vertical-align: middle;\n",
       "    }\n",
       "\n",
       "    .dataframe tbody tr th {\n",
       "        vertical-align: top;\n",
       "    }\n",
       "\n",
       "    .dataframe thead th {\n",
       "        text-align: right;\n",
       "    }\n",
       "</style>\n",
       "<table border=\"1\" class=\"dataframe\">\n",
       "  <thead>\n",
       "    <tr style=\"text-align: right;\">\n",
       "      <th>metrics</th>\n",
       "      <th>aucprc</th>\n",
       "      <th>auc</th>\n",
       "      <th>acc</th>\n",
       "    </tr>\n",
       "  </thead>\n",
       "  <tbody>\n",
       "    <tr>\n",
       "      <th>Dummy</th>\n",
       "      <td>0.500864</td>\n",
       "      <td>0.5</td>\n",
       "      <td>0.998273</td>\n",
       "    </tr>\n",
       "  </tbody>\n",
       "</table>\n",
       "</div>"
      ],
      "text/plain": [
       "metrics    aucprc  auc       acc\n",
       "Dummy    0.500864  0.5  0.998273"
      ]
     },
     "execution_count": 30,
     "metadata": {},
     "output_type": "execute_result"
    }
   ],
   "source": [
    "dummyMetrics=pd.DataFrame.from_records(metricsDummy,columns=[\"metrics\",\"Dummy\"],index=\"metrics\").T\n",
    "dummyMetrics"
   ]
  },
  {
   "cell_type": "markdown",
   "metadata": {
    "kernel": "Python3"
   },
   "source": [
    "### <center>Scale</center>"
   ]
  },
  {
   "cell_type": "code",
   "execution_count": 31,
   "metadata": {
    "kernel": "Python3"
   },
   "outputs": [],
   "source": [
    "_dataScale = scale(data.iloc[:,:-1])"
   ]
  },
  {
   "cell_type": "code",
   "execution_count": 32,
   "metadata": {
    "kernel": "Python3",
    "scrolled": true
   },
   "outputs": [],
   "source": [
    "dataScale=pd.DataFrame(_dataScale,columns=data.columns[:-1])"
   ]
  },
  {
   "cell_type": "code",
   "execution_count": 33,
   "metadata": {
    "kernel": "Python3"
   },
   "outputs": [
    {
     "data": {
      "image/png": "[encoded data removed]",
      "text/plain": [
       "<matplotlib.figure.Figure at 0x7f51c7edacc0>"
      ]
     },
     "metadata": {},
     "output_type": "display_data"
    }
   ],
   "source": [
    "dataScale.plot(\"V1\",\"V2\",color=dataClass.map({0:\"red\",1:\"blue\"}).tolist());"
   ]
  },
  {
   "cell_type": "markdown",
   "metadata": {
    "kernel": "Python3"
   },
   "source": [
    "on voit pas la fraude pas de blue"
   ]
  },
  {
   "cell_type": "code",
   "execution_count": 34,
   "metadata": {
    "kernel": "Python3"
   },
   "outputs": [
    {
     "data": {
      "text/plain": [
       "<matplotlib.axes._subplots.AxesSubplot at 0x7f51c643cac8>"
      ]
     },
     "execution_count": 34,
     "metadata": {},
     "output_type": "execute_result"
    },
    {
     "data": {
      "image/png": "[encoded data removed]",
      "text/plain": [
       "<matplotlib.figure.Figure at 0x7f51c6445128>"
      ]
     },
     "metadata": {},
     "output_type": "display_data"
    }
   ],
   "source": [
    "dataScale.boxplot()"
   ]
  },
  {
   "cell_type": "markdown",
   "metadata": {
    "kernel": "Python3"
   },
   "source": [
    "bcp d'outlier"
   ]
  },
  {
   "cell_type": "markdown",
   "metadata": {
    "kernel": "Python3"
   },
   "source": [
    "#### <center>Etude Corr avec class</center>"
   ]
  },
  {
   "cell_type": "markdown",
   "metadata": {
    "kernel": "Python3"
   },
   "source": [
    "corr between binary and continious -> pearsonr [Why ?](https://medium.com/@outside2SDs/an-overview-of-correlation-measures-between-categorical-and-continuous-variables-4c7f85610365)"
   ]
  },
  {
   "cell_type": "markdown",
   "metadata": {
    "kernel": "Python3"
   },
   "source": [
    "Cor pearson Asumption: absence of outliers, normality of variables, linearity, and homoscedasticity."
   ]
  },
  {
   "cell_type": "code",
   "execution_count": 35,
   "metadata": {
    "kernel": "Python3"
   },
   "outputs": [],
   "source": [
    "def criticalCorr(n,alpha=0.05):\n",
    "    df=n-2\n",
    "    t=scipy.stats.t.ppf([alpha/2],df)[0];\n",
    "    t2=t**2\n",
    "    st2=sqrt(t2)\n",
    "    return st2/sqrt(t2+df)"
   ]
  },
  {
   "cell_type": "markdown",
   "metadata": {
    "kernel": "Python3"
   },
   "source": [
    "look at corr and p_value (we want p_value < 0.05)"
   ]
  },
  {
   "cell_type": "code",
   "execution_count": 36,
   "metadata": {
    "kernel": "Python3",
    "scrolled": true
   },
   "outputs": [
    {
     "data": {
      "image/png": "[encoded data removed]",
      "text/plain": [
       "<matplotlib.figure.Figure at 0x7f51b7d453c8>"
      ]
     },
     "metadata": {},
     "output_type": "display_data"
    },
    {
     "data": {
      "image/png": "[encoded data removed]",
      "text/plain": [
       "<matplotlib.figure.Figure at 0x7f51b7cace10>"
      ]
     },
     "metadata": {},
     "output_type": "display_data"
    }
   ],
   "source": [
    "#https://medium.com/@outside2SDs/an-overview-of-correlation-measures-between-categorical-and-continuous-variables-4c7f85610365\n",
    "corrD=dataScale.apply(lambda a:scipy.stats.pearsonr(dataClass,a)[0]).abs()\n",
    "pValue=dataScale.apply(lambda a:scipy.stats.pearsonr(dataClass,a)[1])\n",
    "plt.matshow([corrD.values])\n",
    "plt.yticks([0],[\"Class\"])\n",
    "plt.colorbar()\n",
    "plt.xticks(range(dataScale.shape[1]),dataScale.columns,rotation=60,ha=\"left\");\n",
    "plt.matshow([pValue.values])\n",
    "plt.yticks([0],[\"p_value\"])\n",
    "plt.colorbar()\n",
    "plt.xticks(range(dataScale.shape[1]),dataScale.columns,rotation=60,ha=\"left\");\n"
   ]
  },
  {
   "cell_type": "code",
   "execution_count": 37,
   "metadata": {
    "kernel": "Python3"
   },
   "outputs": [
    {
     "name": "stdout",
     "output_type": "stream",
     "text": [
      "seuil critique pour 284807 est: r=0.004\n"
     ]
    }
   ],
   "source": [
    "seuilCriticalCor=criticalCorr(dataShape[0])\n",
    "print(\"seuil critique pour {} est: r={:.3f}\".format(dataShape[0],seuilCriticalCor))"
   ]
  },
  {
   "cell_type": "markdown",
   "metadata": {
    "kernel": "Python3"
   },
   "source": [
    "Les correlations significatives sont:"
   ]
  },
  {
   "cell_type": "code",
   "execution_count": 38,
   "metadata": {
    "kernel": "Python3",
    "scrolled": true
   },
   "outputs": [
    {
     "data": {
      "text/plain": [
       "V17       0.326481\n",
       "V14       0.302544\n",
       "V12       0.260593\n",
       "V10       0.216883\n",
       "V16       0.196539\n",
       "V3        0.192961\n",
       "V7        0.187257\n",
       "V11       0.154876\n",
       "V4        0.133447\n",
       "V18       0.111485\n",
       "V1        0.101347\n",
       "V9        0.097733\n",
       "V5        0.094974\n",
       "V2        0.091289\n",
       "V6        0.043643\n",
       "V21       0.040413\n",
       "V19       0.034783\n",
       "V20       0.020090\n",
       "V8        0.019875\n",
       "V27       0.017580\n",
       "Time      0.012323\n",
       "V28       0.009536\n",
       "V24       0.007221\n",
       "Amount    0.005632\n",
       "V13       0.004570\n",
       "V26       0.004455\n",
       "V15       0.004223\n",
       "dtype: float64"
      ]
     },
     "execution_count": 38,
     "metadata": {},
     "output_type": "execute_result"
    }
   ],
   "source": [
    "corrD.sort_values(ascending=F).abs().whereDrop(lambda a:a>seuilCriticalCor)"
   ]
  },
  {
   "cell_type": "markdown",
   "metadata": {
    "kernel": "Python3"
   },
   "source": [
    "Les pValues n'indiquant pas de correlation significative sont:"
   ]
  },
  {
   "cell_type": "code",
   "execution_count": 39,
   "metadata": {
    "kernel": "Python3"
   },
   "outputs": [
    {
     "data": {
      "text/plain": [
       "V22    0.667360\n",
       "V23    0.151860\n",
       "V25    0.077525\n",
       "dtype: float64"
      ]
     },
     "execution_count": 39,
     "metadata": {},
     "output_type": "execute_result"
    }
   ],
   "source": [
    "pValue.whereDrop(lambda a:a>0.05)"
   ]
  },
  {
   "cell_type": "markdown",
   "metadata": {
    "kernel": "Python3"
   },
   "source": [
    "Confirmé par :"
   ]
  },
  {
   "cell_type": "code",
   "execution_count": 40,
   "metadata": {
    "kernel": "Python3"
   },
   "outputs": [
    {
     "data": {
      "text/plain": [
       "V22    0.000805\n",
       "V23    0.002685\n",
       "V25    0.003308\n",
       "dtype: float64"
      ]
     },
     "execution_count": 40,
     "metadata": {},
     "output_type": "execute_result"
    }
   ],
   "source": [
    "corrD.whereDrop(lambda a:a<seuilCriticalCor)"
   ]
  },
  {
   "cell_type": "markdown",
   "metadata": {
    "kernel": "Python3"
   },
   "source": [
    "Les variables les plus correlées aux classes sont: V14, V17,V12,V16"
   ]
  },
  {
   "cell_type": "markdown",
   "metadata": {
    "kernel": "Python3"
   },
   "source": [
    "#### <center>Spearman</center>"
   ]
  },
  {
   "cell_type": "code",
   "execution_count": 41,
   "metadata": {
    "kernel": "Python3"
   },
   "outputs": [
    {
     "data": {
      "image/png": "[encoded data removed]",
      "text/plain": [
       "<matplotlib.figure.Figure at 0x7f51b7c5dbe0>"
      ]
     },
     "metadata": {},
     "output_type": "display_data"
    },
    {
     "data": {
      "image/png": "[encoded data removed]",
      "text/plain": [
       "<matplotlib.figure.Figure at 0x7f51b7b0a160>"
      ]
     },
     "metadata": {},
     "output_type": "display_data"
    }
   ],
   "source": [
    "#https://medium.com/@outside2SDs/an-overview-of-correlation-measures-between-categorical-and-continuous-variables-4c7f85610365\n",
    "corrD=dataScale.apply(lambda a:scipy.stats.spearmanr(dataClass,a)[0]).abs()\n",
    "pValue=dataScale.apply(lambda a:scipy.stats.spearmanr(dataClass,a)[1])\n",
    "plt.matshow([corrD.values])\n",
    "plt.yticks([0],[\"Class\"])\n",
    "plt.colorbar()\n",
    "plt.xticks(range(dataScale.shape[1]),dataScale.columns,rotation=60,ha=\"left\");\n",
    "plt.matshow([pValue.values])\n",
    "plt.yticks([0],[\"p_value\"])\n",
    "plt.colorbar()\n",
    "plt.xticks(range(dataScale.shape[1]),dataScale.columns,rotation=60,ha=\"left\");\n"
   ]
  },
  {
   "cell_type": "markdown",
   "metadata": {
    "kernel": "Python3"
   },
   "source": [
    "pas de correlation pour spearman mais confirm que V22,15,13 est vrmt pas correllé"
   ]
  },
  {
   "cell_type": "markdown",
   "metadata": {
    "kernel": "Python3"
   },
   "source": [
    "#### <center>tau kendall</center>"
   ]
  },
  {
   "cell_type": "code",
   "execution_count": 42,
   "metadata": {
    "kernel": "Python3",
    "scrolled": true
   },
   "outputs": [
    {
     "data": {
      "image/png": "[encoded data removed]",
      "text/plain": [
       "<matplotlib.figure.Figure at 0x7f51b7be3240>"
      ]
     },
     "metadata": {},
     "output_type": "display_data"
    },
    {
     "data": {
      "image/png": "[encoded data removed]",
      "text/plain": [
       "<matplotlib.figure.Figure at 0x7f51b78e7128>"
      ]
     },
     "metadata": {},
     "output_type": "display_data"
    }
   ],
   "source": [
    "#https://medium.com/@outside2SDs/an-overview-of-correlation-measures-between-categorical-and-continuous-variables-4c7f85610365\n",
    "corrD=dataScale.apply(lambda a:scipy.stats.kendalltau(dataClass,a)[0]).abs()\n",
    "pValue=dataScale.apply(lambda a:scipy.stats.kendalltau(dataClass,a)[1])\n",
    "plt.matshow([corrD.values])\n",
    "plt.yticks([0],[\"Class\"])\n",
    "plt.colorbar()\n",
    "plt.xticks(range(dataScale.shape[1]),dataScale.columns,rotation=60,ha=\"left\");\n",
    "plt.matshow([pValue.values])\n",
    "plt.yticks([0],[\"p_value\"])\n",
    "plt.colorbar()\n",
    "plt.xticks(range(dataScale.shape[1]),dataScale.columns,rotation=60,ha=\"left\");\n"
   ]
  },
  {
   "cell_type": "markdown",
   "metadata": {
    "kernel": "Python3"
   },
   "source": [
    "pas de correlation pour kendall mais confirme que V22,15,13 est vrmt pas correllé"
   ]
  },
  {
   "cell_type": "markdown",
   "metadata": {
    "kernel": "Python3"
   },
   "source": [
    "### TODO\n",
    "supprimer V22,V23, V25 ?"
   ]
  },
  {
   "cell_type": "markdown",
   "metadata": {
    "kernel": "Python3"
   },
   "source": [
    "### <center>Etude Amount et Time</center>"
   ]
  },
  {
   "cell_type": "markdown",
   "metadata": {
    "kernel": "Python3"
   },
   "source": [
    "Amount"
   ]
  },
  {
   "cell_type": "code",
   "execution_count": 43,
   "metadata": {
    "kernel": "Python3"
   },
   "outputs": [
    {
     "data": {
      "text/plain": [
       "Text(0.5,1,'Fraud')"
      ]
     },
     "execution_count": 43,
     "metadata": {},
     "output_type": "execute_result"
    },
    {
     "data": {
      "image/png": "[encoded data removed]",
      "text/plain": [
       "<matplotlib.figure.Figure at 0x7f51b7892908>"
      ]
     },
     "metadata": {},
     "output_type": "display_data"
    }
   ],
   "source": [
    "fig,ax=plt.subplots(1,2)\n",
    "ax[0].boxplot(dataScale[\"Amount\"][dataClass==0]);\n",
    "ax[0].set_ylim([-1,1])\n",
    "ax[0].set_title(\"Normal\")\n",
    "ax[1].boxplot(dataScale[\"Amount\"][dataClass==1]);\n",
    "ax[1].set_ylim([-1,1]);\n",
    "ax[1].set_yticks([])\n",
    "ax[1].set_title(\"Fraud\")"
   ]
  },
  {
   "cell_type": "markdown",
   "metadata": {
    "kernel": "Python3"
   },
   "source": [
    "retour au données initiale"
   ]
  },
  {
   "cell_type": "code",
   "execution_count": 44,
   "metadata": {
    "kernel": "Python3",
    "scrolled": true
   },
   "outputs": [
    {
     "data": {
      "text/html": [
       "<div>\n",
       "<style scoped>\n",
       "    .dataframe tbody tr th:only-of-type {\n",
       "        vertical-align: middle;\n",
       "    }\n",
       "\n",
       "    .dataframe tbody tr th {\n",
       "        vertical-align: top;\n",
       "    }\n",
       "\n",
       "    .dataframe thead th {\n",
       "        text-align: right;\n",
       "    }\n",
       "</style>\n",
       "<table border=\"1\" class=\"dataframe\">\n",
       "  <thead>\n",
       "    <tr style=\"text-align: right;\">\n",
       "      <th></th>\n",
       "      <th>count</th>\n",
       "      <th>mean</th>\n",
       "      <th>std</th>\n",
       "      <th>min</th>\n",
       "      <th>25%</th>\n",
       "      <th>50%</th>\n",
       "      <th>75%</th>\n",
       "      <th>max</th>\n",
       "    </tr>\n",
       "    <tr>\n",
       "      <th>Class</th>\n",
       "      <th></th>\n",
       "      <th></th>\n",
       "      <th></th>\n",
       "      <th></th>\n",
       "      <th></th>\n",
       "      <th></th>\n",
       "      <th></th>\n",
       "      <th></th>\n",
       "    </tr>\n",
       "  </thead>\n",
       "  <tbody>\n",
       "    <tr>\n",
       "      <th>0</th>\n",
       "      <td>284315.0</td>\n",
       "      <td>88.291022</td>\n",
       "      <td>250.105092</td>\n",
       "      <td>0.0</td>\n",
       "      <td>5.65</td>\n",
       "      <td>22.00</td>\n",
       "      <td>77.05</td>\n",
       "      <td>25691.16</td>\n",
       "    </tr>\n",
       "    <tr>\n",
       "      <th>1</th>\n",
       "      <td>492.0</td>\n",
       "      <td>122.211321</td>\n",
       "      <td>256.683288</td>\n",
       "      <td>0.0</td>\n",
       "      <td>1.00</td>\n",
       "      <td>9.25</td>\n",
       "      <td>105.89</td>\n",
       "      <td>2125.87</td>\n",
       "    </tr>\n",
       "  </tbody>\n",
       "</table>\n",
       "</div>"
      ],
      "text/plain": [
       "          count        mean         std  min   25%    50%     75%       max\n",
       "Class                                                                      \n",
       "0      284315.0   88.291022  250.105092  0.0  5.65  22.00   77.05  25691.16\n",
       "1         492.0  122.211321  256.683288  0.0  1.00   9.25  105.89   2125.87"
      ]
     },
     "execution_count": 44,
     "metadata": {},
     "output_type": "execute_result"
    }
   ],
   "source": [
    "data.Amount.groupby(dataClass).describe()"
   ]
  },
  {
   "cell_type": "markdown",
   "metadata": {
    "kernel": "Python3"
   },
   "source": [
    "On remarque que Amount a 75% est plus grand, ainsi quand mean<br>\n",
    "il y a bcp d'outlier"
   ]
  },
  {
   "cell_type": "markdown",
   "metadata": {
    "kernel": "Python3"
   },
   "source": [
    "Time"
   ]
  },
  {
   "cell_type": "code",
   "execution_count": 45,
   "metadata": {
    "kernel": "Python3"
   },
   "outputs": [
    {
     "data": {
      "text/plain": [
       "Text(0.5,1,'Fraud')"
      ]
     },
     "execution_count": 45,
     "metadata": {},
     "output_type": "execute_result"
    },
    {
     "data": {
      "image/png": "[encoded data removed]",
      "text/plain": [
       "<matplotlib.figure.Figure at 0x7f51b77c7710>"
      ]
     },
     "metadata": {},
     "output_type": "display_data"
    }
   ],
   "source": [
    "fig,ax=plt.subplots(1,2)\n",
    "ax[0].boxplot(dataScale[\"Time\"][dataClass==0]);\n",
    "ax[0].set_ylim([-3,3])\n",
    "ax[0].set_title(\"Normal\")\n",
    "ax[1].boxplot(dataScale[\"Time\"][dataClass==1]);\n",
    "ax[1].set_ylim([-3,3]);\n",
    "ax[1].set_yticks([])\n",
    "ax[1].set_title(\"Fraud\")"
   ]
  },
  {
   "cell_type": "code",
   "execution_count": 46,
   "metadata": {
    "kernel": "Python3",
    "scrolled": true
   },
   "outputs": [
    {
     "data": {
      "text/html": [
       "<div>\n",
       "<style scoped>\n",
       "    .dataframe tbody tr th:only-of-type {\n",
       "        vertical-align: middle;\n",
       "    }\n",
       "\n",
       "    .dataframe tbody tr th {\n",
       "        vertical-align: top;\n",
       "    }\n",
       "\n",
       "    .dataframe thead th {\n",
       "        text-align: right;\n",
       "    }\n",
       "</style>\n",
       "<table border=\"1\" class=\"dataframe\">\n",
       "  <thead>\n",
       "    <tr style=\"text-align: right;\">\n",
       "      <th></th>\n",
       "      <th>count</th>\n",
       "      <th>mean</th>\n",
       "      <th>std</th>\n",
       "      <th>min</th>\n",
       "      <th>25%</th>\n",
       "      <th>50%</th>\n",
       "      <th>75%</th>\n",
       "      <th>max</th>\n",
       "    </tr>\n",
       "    <tr>\n",
       "      <th>Class</th>\n",
       "      <th></th>\n",
       "      <th></th>\n",
       "      <th></th>\n",
       "      <th></th>\n",
       "      <th></th>\n",
       "      <th></th>\n",
       "      <th></th>\n",
       "      <th></th>\n",
       "    </tr>\n",
       "  </thead>\n",
       "  <tbody>\n",
       "    <tr>\n",
       "      <th>0</th>\n",
       "      <td>284315.0</td>\n",
       "      <td>94838.202258</td>\n",
       "      <td>47484.015786</td>\n",
       "      <td>0.0</td>\n",
       "      <td>54230.0</td>\n",
       "      <td>84711.0</td>\n",
       "      <td>139333.0</td>\n",
       "      <td>172792.0</td>\n",
       "    </tr>\n",
       "    <tr>\n",
       "      <th>1</th>\n",
       "      <td>492.0</td>\n",
       "      <td>80746.806911</td>\n",
       "      <td>47835.365138</td>\n",
       "      <td>406.0</td>\n",
       "      <td>41241.5</td>\n",
       "      <td>75568.5</td>\n",
       "      <td>128483.0</td>\n",
       "      <td>170348.0</td>\n",
       "    </tr>\n",
       "  </tbody>\n",
       "</table>\n",
       "</div>"
      ],
      "text/plain": [
       "          count          mean           std    min      25%      50%  \\\n",
       "Class                                                                  \n",
       "0      284315.0  94838.202258  47484.015786    0.0  54230.0  84711.0   \n",
       "1         492.0  80746.806911  47835.365138  406.0  41241.5  75568.5   \n",
       "\n",
       "            75%       max  \n",
       "Class                      \n",
       "0      139333.0  172792.0  \n",
       "1      128483.0  170348.0  "
      ]
     },
     "execution_count": 46,
     "metadata": {},
     "output_type": "execute_result"
    }
   ],
   "source": [
    "data.Time.groupby(dataClass).describe()"
   ]
  },
  {
   "cell_type": "markdown",
   "metadata": {
    "kernel": "Python3"
   },
   "source": [
    "on veux pas grand chose"
   ]
  },
  {
   "cell_type": "markdown",
   "metadata": {
    "kernel": "Python3"
   },
   "source": [
    "Creation d'un variable \"Periode\" -> toutes les 4h "
   ]
  },
  {
   "cell_type": "code",
   "execution_count": 47,
   "metadata": {
    "kernel": "Python3"
   },
   "outputs": [],
   "source": [
    "dataScale2=pd.concat([pd.Series(scale(data.Time%(60.*60.*4)),name=\"Period\"),dataScale],axis=1)"
   ]
  },
  {
   "cell_type": "code",
   "execution_count": 48,
   "metadata": {
    "kernel": "Python3"
   },
   "outputs": [
    {
     "data": {
      "text/plain": [
       "0.0081384271770936628"
      ]
     },
     "execution_count": 48,
     "metadata": {},
     "output_type": "execute_result"
    }
   ],
   "source": [
    "dataScale2.Period.corr(dataClass)"
   ]
  },
  {
   "cell_type": "markdown",
   "metadata": {
    "kernel": "Python3"
   },
   "source": [
    "0.0081384271770936628 > 0.004 Du coup corr significative"
   ]
  },
  {
   "cell_type": "markdown",
   "metadata": {
    "kernel": "Python3"
   },
   "source": [
    "### <center>PREMIER MODEL</center>"
   ]
  },
  {
   "cell_type": "markdown",
   "metadata": {
    "kernel": "Python3"
   },
   "source": [
    "##### <center>split</center>"
   ]
  },
  {
   "cell_type": "code",
   "execution_count": 234,
   "metadata": {
    "kernel": "Python3"
   },
   "outputs": [],
   "source": [
    "trainx,testx,trainy,testy = train_test_split(dataScale2,dataClass,stratify=dataClass, random_state=42)"
   ]
  },
  {
   "cell_type": "markdown",
   "metadata": {
    "kernel": "Python3"
   },
   "source": [
    "# <center>VERSION PIPELINE</center>"
   ]
  },
  {
   "cell_type": "code",
   "execution_count": 239,
   "metadata": {
    "kernel": "Python3"
   },
   "outputs": [],
   "source": [
    "def pipelineLaunch(trainx,testx,trainy,testy):\n",
    "    #LinearSVC,SVC -> long\n",
    "    #penser a n_jobs=-1\n",
    "    #ou autre solutions parralell\n",
    "    algo=[\\\n",
    "        LogisticRegression(),\n",
    "        LinearDiscriminantAnalysis(),\n",
    "        QuadraticDiscriminantAnalysis(),\n",
    "          GaussianNB(),\n",
    "         #KNeighborsClassifier()\n",
    "          #LinearSVC(),\n",
    "         # SVC(),\n",
    "         DecisionTreeClassifier(),\n",
    "         RandomForestClassifier()\n",
    "        ]\n",
    "    z=pd.DataFrame()\n",
    "    for i in tqdm(algo):\n",
    "        i.fit(trainx,trainy)\n",
    "        testP=i.predict(testx)\n",
    "        trainP=i.predict(trainx)\n",
    "        metricTrain=metrics(trainy,trainP)\n",
    "        metrixTest=metrics(testy,testP)\n",
    "        z=z.append(\n",
    "            pd.DataFrame.from_records([(\"type\",\"train\")]+metricTrain,\n",
    "                                      columns=[\"metrics\",repr(i.__class__).split(\".\")[-1][:-2]],\n",
    "                                      index=\"metrics\").T\n",
    "        ).append(\n",
    "            pd.DataFrame.from_records([(\"type\",\"test\")]+metrixTest,\n",
    "                                      columns=[\"metrics\",repr(i.__class__).split(\".\")[-1][:-2]],\n",
    "                                      index=\"metrics\").T\n",
    "        )\n",
    "    return (z,algo)\n",
    "        "
   ]
  },
  {
   "cell_type": "code",
   "execution_count": 240,
   "metadata": {
    "kernel": "Python3",
    "scrolled": false
   },
   "outputs": [
    {
     "name": "stderr",
     "output_type": "stream",
     "text": [
      "100%|██████████| 6/6 [00:49<00:00,  8.19s/it]\n"
     ]
    }
   ],
   "source": [
    "res=pipelineLaunch(trainx,testx,trainy,testy) #LinearSVC,SVC,knn -> long ()"
   ]
  },
  {
   "cell_type": "code",
   "execution_count": 241,
   "metadata": {
    "kernel": "Python3"
   },
   "outputs": [],
   "source": [
    "r=res[0]\n",
    "#r"
   ]
  },
  {
   "cell_type": "code",
   "execution_count": 242,
   "metadata": {
    "kernel": "Python3",
    "scrolled": false
   },
   "outputs": [
    {
     "data": {
      "text/html": [
       "<div>\n",
       "<style scoped>\n",
       "    .dataframe tbody tr th:only-of-type {\n",
       "        vertical-align: middle;\n",
       "    }\n",
       "\n",
       "    .dataframe tbody tr th {\n",
       "        vertical-align: top;\n",
       "    }\n",
       "\n",
       "    .dataframe thead th {\n",
       "        text-align: right;\n",
       "    }\n",
       "</style>\n",
       "<table border=\"1\" class=\"dataframe\">\n",
       "  <thead>\n",
       "    <tr style=\"text-align: right;\">\n",
       "      <th></th>\n",
       "      <th>metrics</th>\n",
       "      <th>aucprc</th>\n",
       "      <th>auc</th>\n",
       "      <th>acc</th>\n",
       "    </tr>\n",
       "    <tr>\n",
       "      <th>index</th>\n",
       "      <th>type</th>\n",
       "      <th></th>\n",
       "      <th></th>\n",
       "      <th></th>\n",
       "    </tr>\n",
       "  </thead>\n",
       "  <tbody>\n",
       "    <tr>\n",
       "      <th rowspan=\"2\" valign=\"top\">LogisticRegression</th>\n",
       "      <th>train</th>\n",
       "      <td>0.766936</td>\n",
       "      <td>0.82107</td>\n",
       "      <td>0.999246</td>\n",
       "    </tr>\n",
       "    <tr>\n",
       "      <th>test</th>\n",
       "      <td>0.731495</td>\n",
       "      <td>0.808845</td>\n",
       "      <td>0.999143</td>\n",
       "    </tr>\n",
       "    <tr>\n",
       "      <th rowspan=\"2\" valign=\"top\">LinearDiscriminantAnalysis</th>\n",
       "      <th>train</th>\n",
       "      <td>0.817112</td>\n",
       "      <td>0.87931</td>\n",
       "      <td>0.999396</td>\n",
       "    </tr>\n",
       "    <tr>\n",
       "      <th>test</th>\n",
       "      <td>0.798247</td>\n",
       "      <td>0.88198</td>\n",
       "      <td>0.999326</td>\n",
       "    </tr>\n",
       "    <tr>\n",
       "      <th rowspan=\"2\" valign=\"top\">QuadraticDiscriminantAnalysis</th>\n",
       "      <th>train</th>\n",
       "      <td>0.472622</td>\n",
       "      <td>0.929286</td>\n",
       "      <td>0.977646</td>\n",
       "    </tr>\n",
       "    <tr>\n",
       "      <th>test</th>\n",
       "      <td>0.458412</td>\n",
       "      <td>0.915827</td>\n",
       "      <td>0.977782</td>\n",
       "    </tr>\n",
       "    <tr>\n",
       "      <th rowspan=\"2\" valign=\"top\">GaussianNB</th>\n",
       "      <th>train</th>\n",
       "      <td>0.447138</td>\n",
       "      <td>0.9051</td>\n",
       "      <td>0.977969</td>\n",
       "    </tr>\n",
       "    <tr>\n",
       "      <th>test</th>\n",
       "      <td>0.440464</td>\n",
       "      <td>0.899335</td>\n",
       "      <td>0.977262</td>\n",
       "    </tr>\n",
       "    <tr>\n",
       "      <th rowspan=\"2\" valign=\"top\">DecisionTreeClassifier</th>\n",
       "      <th>train</th>\n",
       "      <td>1</td>\n",
       "      <td>1</td>\n",
       "      <td>1</td>\n",
       "    </tr>\n",
       "    <tr>\n",
       "      <th>test</th>\n",
       "      <td>0.710158</td>\n",
       "      <td>0.841252</td>\n",
       "      <td>0.999031</td>\n",
       "    </tr>\n",
       "    <tr>\n",
       "      <th rowspan=\"2\" valign=\"top\">RandomForestClassifier</th>\n",
       "      <th>train</th>\n",
       "      <td>0.971594</td>\n",
       "      <td>0.971545</td>\n",
       "      <td>0.999902</td>\n",
       "    </tr>\n",
       "    <tr>\n",
       "      <th>test</th>\n",
       "      <td>0.861909</td>\n",
       "      <td>0.882086</td>\n",
       "      <td>0.999537</td>\n",
       "    </tr>\n",
       "  </tbody>\n",
       "</table>\n",
       "</div>"
      ],
      "text/plain": [
       "metrics                                aucprc       auc       acc\n",
       "index                         type                               \n",
       "LogisticRegression            train  0.766936   0.82107  0.999246\n",
       "                              test   0.731495  0.808845  0.999143\n",
       "LinearDiscriminantAnalysis    train  0.817112   0.87931  0.999396\n",
       "                              test   0.798247   0.88198  0.999326\n",
       "QuadraticDiscriminantAnalysis train  0.472622  0.929286  0.977646\n",
       "                              test   0.458412  0.915827  0.977782\n",
       "GaussianNB                    train  0.447138    0.9051  0.977969\n",
       "                              test   0.440464  0.899335  0.977262\n",
       "DecisionTreeClassifier        train         1         1         1\n",
       "                              test   0.710158  0.841252  0.999031\n",
       "RandomForestClassifier        train  0.971594  0.971545  0.999902\n",
       "                              test   0.861909  0.882086  0.999537"
      ]
     },
     "execution_count": 242,
     "metadata": {},
     "output_type": "execute_result"
    }
   ],
   "source": [
    "resTab=r.reset_index().set_index([\"index\",\"type\"])\n",
    "#.stack().to_frame(name=\"value\")\n",
    "resTab"
   ]
  },
  {
   "cell_type": "markdown",
   "metadata": {
    "kernel": "Python3"
   },
   "source": [
    "Decision TRee et Random Forrest->gros surapprentissage"
   ]
  },
  {
   "cell_type": "markdown",
   "metadata": {
    "kernel": "Python3"
   },
   "source": [
    "GaussianNB et QuadraticDiscriminantAnalysis  -> a ameliorer ou enlever"
   ]
  },
  {
   "cell_type": "markdown",
   "metadata": {
    "kernel": "Python3"
   },
   "source": [
    "LogisticRegression\tet LinearDiscriminantAnalysis -> a ameliorer si possinle"
   ]
  },
  {
   "cell_type": "markdown",
   "metadata": {
    "kernel": "Python3"
   },
   "source": [
    "### TODO\n",
    "appliquer des tech pour umbalance classe (SMOTE, ROSE, etc) \n",
    "[more ?](https://shiring.github.io/machine_learning/2017/04/02/unbalanced)"
   ]
  },
  {
   "cell_type": "markdown",
   "metadata": {
    "kernel": "Python3"
   },
   "source": [
    "# <center>VERSION SEQUENTIEL (mieux expliqué)</center>"
   ]
  },
  {
   "cell_type": "markdown",
   "metadata": {
    "kernel": "Python3"
   },
   "source": [
    "###  <center>Regression Logistique + Selection de Variable</center>"
   ]
  },
  {
   "cell_type": "markdown",
   "metadata": {
    "kernel": "Python3"
   },
   "source": [
    "observations to be independent of each other.\n",
    "no multicollinearity among the independent variables\n",
    "[why?](https://www.statisticssolutions.com/assumptions-of-logistic-regression/)"
   ]
  },
  {
   "cell_type": "code",
   "execution_count": 88,
   "metadata": {
    "kernel": "Python3"
   },
   "outputs": [
    {
     "ename": "NameError",
     "evalue": "name 'RegLog' is not defined",
     "output_type": "error",
     "traceback": [
      "\u001b[0;31m---------------------------------------------------------------------------\u001b[0m",
      "\u001b[0;31mNameError\u001b[0m                                 Traceback (most recent call last)",
      "\u001b[0;32m<ipython-input-87-241a2afa6584>\u001b[0m in \u001b[0;36m<module>\u001b[0;34m()\u001b[0m\n\u001b[0;32m----> 1\u001b[0;31m \u001b[0mrepr\u001b[0m\u001b[0;34m(\u001b[0m\u001b[0mRegLog\u001b[0m\u001b[0;34m.\u001b[0m\u001b[0m__class__\u001b[0m\u001b[0;34m)\u001b[0m\u001b[0;34m.\u001b[0m\u001b[0msplit\u001b[0m\u001b[0;34m(\u001b[0m\u001b[0;34m\".\"\u001b[0m\u001b[0;34m)\u001b[0m\u001b[0;34m[\u001b[0m\u001b[0;34m-\u001b[0m\u001b[0;36m1\u001b[0m\u001b[0;34m]\u001b[0m\u001b[0;34m\u001b[0m\u001b[0m\n\u001b[0m",
      "\u001b[0;31mNameError\u001b[0m: name 'RegLog' is not defined"
     ]
    }
   ],
   "source": [
    "repr(RegLog.__class__).split(\".\")[-1]"
   ]
  },
  {
   "cell_type": "code",
   "execution_count": 89,
   "metadata": {
    "kernel": "Python3"
   },
   "outputs": [
    {
     "name": "stderr",
     "output_type": "stream",
     "text": [
      "/opt/conda/lib/python3.6/site-packages/sklearn/linear_model/logistic.py:1228: UserWarning: 'n_jobs' > 1 does not have any effect when 'solver' is set to 'liblinear'. Got 'n_jobs' = -1.\n",
      "  \" = {}.\".format(self.n_jobs))\n"
     ]
    },
    {
     "data": {
      "text/plain": [
       "LogisticRegression(C=10, class_weight=None, dual=False, fit_intercept=True,\n",
       "          intercept_scaling=1, max_iter=100, multi_class='ovr', n_jobs=-1,\n",
       "          penalty='l1', random_state=None, solver='liblinear', tol=0.0001,\n",
       "          verbose=0, warm_start=False)"
      ]
     },
     "execution_count": 89,
     "metadata": {},
     "output_type": "execute_result"
    }
   ],
   "source": [
    "RegLog=LogisticRegression(C=10,n_jobs=-1,penalty=\"l1\").fit(trainx,trainy)\n",
    "RegLog.fit(trainx,trainy)"
   ]
  },
  {
   "cell_type": "code",
   "execution_count": 90,
   "metadata": {
    "kernel": "Python3"
   },
   "outputs": [
    {
     "data": {
      "text/plain": [
       "[('aucprc', 0.75900228125729063),\n",
       " ('auc', 0.81564781258685048),\n",
       " ('acc', 0.99922286463331855)]"
      ]
     },
     "execution_count": 90,
     "metadata": {},
     "output_type": "execute_result"
    }
   ],
   "source": [
    "metrics(trainy,RegLog.predict(trainx))"
   ]
  },
  {
   "cell_type": "code",
   "execution_count": 91,
   "metadata": {
    "kernel": "Python3"
   },
   "outputs": [
    {
     "data": {
      "text/plain": [
       "[('aucprc', 0.75113360145596808),\n",
       " ('auc', 0.80887274516606222),\n",
       " ('acc', 0.99919946068930643)]"
      ]
     },
     "execution_count": 91,
     "metadata": {},
     "output_type": "execute_result"
    }
   ],
   "source": [
    "metrics(testy,RegLog.predict(testx))"
   ]
  },
  {
   "cell_type": "code",
   "execution_count": 92,
   "metadata": {
    "kernel": "Python3"
   },
   "outputs": [
    {
     "data": {
      "text/html": [
       "<div>\n",
       "<style scoped>\n",
       "    .dataframe tbody tr th:only-of-type {\n",
       "        vertical-align: middle;\n",
       "    }\n",
       "\n",
       "    .dataframe tbody tr th {\n",
       "        vertical-align: top;\n",
       "    }\n",
       "\n",
       "    .dataframe thead th {\n",
       "        text-align: right;\n",
       "    }\n",
       "</style>\n",
       "<table border=\"1\" class=\"dataframe\">\n",
       "  <thead>\n",
       "    <tr style=\"text-align: right;\">\n",
       "      <th>metrics</th>\n",
       "      <th>aucprc</th>\n",
       "      <th>auc</th>\n",
       "      <th>acc</th>\n",
       "    </tr>\n",
       "  </thead>\n",
       "  <tbody>\n",
       "    <tr>\n",
       "      <th>Dummy</th>\n",
       "      <td>0.500864</td>\n",
       "      <td>0.500000</td>\n",
       "      <td>0.998273</td>\n",
       "    </tr>\n",
       "    <tr>\n",
       "      <th>LogReg</th>\n",
       "      <td>0.751134</td>\n",
       "      <td>0.808873</td>\n",
       "      <td>0.999199</td>\n",
       "    </tr>\n",
       "  </tbody>\n",
       "</table>\n",
       "</div>"
      ],
      "text/plain": [
       "metrics    aucprc       auc       acc\n",
       "Dummy    0.500864  0.500000  0.998273\n",
       "LogReg   0.751134  0.808873  0.999199"
      ]
     },
     "execution_count": 92,
     "metadata": {},
     "output_type": "execute_result"
    }
   ],
   "source": [
    "dummyMetrics2=dummyMetrics.append(\n",
    "    pd.DataFrame.from_records(metrics(testy,RegLog.predict(testx)),columns=[\"metrics\",\"LogReg\"],index=\"metrics\").T\n",
    ")\n",
    "dummyMetrics2"
   ]
  },
  {
   "cell_type": "markdown",
   "metadata": {
    "kernel": "Python3"
   },
   "source": [
    "pb test meilleur que train (surapprentissage) malgres le changement de C | peut etre faire cv "
   ]
  },
  {
   "cell_type": "code",
   "execution_count": 158,
   "metadata": {
    "kernel": "Python3"
   },
   "outputs": [
    {
     "data": {
      "image/png": "[encoded data removed]",
      "text/plain": [
       "<matplotlib.figure.Figure at 0x7f2708a1f550>"
      ]
     },
     "metadata": {},
     "output_type": "display_data"
    }
   ],
   "source": [
    "pd.Series(RegLog.coef_[0],index=dataScale2.columns).plot.barh(figsize=(10,10));\n",
    "plt.yticks(rotation=0);"
   ]
  },
  {
   "cell_type": "code",
   "execution_count": 159,
   "metadata": {
    "kernel": "Python3"
   },
   "outputs": [
    {
     "data": {
      "text/plain": [
       "V4     1.085200\n",
       "V10    1.017194\n",
       "V14    0.483930\n",
       "V22    0.432999\n",
       "V20    0.324574\n",
       "V27    0.313734\n",
       "dtype: float64"
      ]
     },
     "execution_count": 159,
     "metadata": {},
     "output_type": "execute_result"
    }
   ],
   "source": [
    "pd.Series(RegLog.coef_[0],index=dataScale2.columns).abs().sort_values(ascending=F)[:6]"
   ]
  },
  {
   "cell_type": "markdown",
   "metadata": {
    "kernel": "Python3"
   },
   "source": [
    "Les variables les plus correlées aux classes sont: (V4, V10), V14, V22, V20, V27"
   ]
  },
  {
   "cell_type": "code",
   "execution_count": 80,
   "metadata": {
    "kernel": "Python3"
   },
   "outputs": [
    {
     "name": "stderr",
     "output_type": "stream",
     "text": [
      "100%|██████████████████████████████████████████████████████████████| 14/14 [01:09<00:00,  5.00s/it]\n"
     ]
    }
   ],
   "source": [
    "search=np.append(np.arange(0.01,0.1,0.01),(np.arange(0.1,1,0.2)))\n",
    "logRegFit=lambda c,:LogisticRegression(C=c).fit(trainx,trainy)\n",
    "def logRegPred(c): l=logRegFit(c);return (AUCPRC(trainy,l.predict(trainx))[0][1],AUCPRC(testy,l.predict(testx))[0][1])\n",
    "#grid=[logRegPred(i) for i in tqdm(search)]\n"
   ]
  },
  {
   "cell_type": "code",
   "execution_count": 96,
   "metadata": {
    "kernel": "Python3",
    "scrolled": true
   },
   "outputs": [],
   "source": [
    "#plt.plot(range(len(search)),np.array(grid)[:,0])\n",
    "#plt.plot(range(len(search)),np.array(grid)[:,1])\n",
    "#plt.xticks(range(len(search)),np.round(search,3).astype(\"str\"));"
   ]
  },
  {
   "cell_type": "markdown",
   "metadata": {
    "kernel": "Python3"
   },
   "source": [
    "### TODO: \n",
    "Selection des meilleurs variable<br>\n",
    "Les combiner (polynome)"
   ]
  },
  {
   "cell_type": "markdown",
   "metadata": {
    "kernel": "Python3"
   },
   "source": [
    "### <center>LDA</center> \n",
    "normality, same variance each variable (peux etre lié modele de melange, vu que minimise le ratio S_W/S_B) <br>\n",
    "[more?](https://machinelearningmastery.com/linear-discriminant-analysis-for-machine-learning/)"
   ]
  },
  {
   "cell_type": "markdown",
   "metadata": {
    "kernel": "Python3"
   },
   "source": [
    "### TODO: \n",
    "have to check normality<br>"
   ]
  },
  {
   "cell_type": "code",
   "execution_count": 57,
   "metadata": {
    "kernel": "Python3"
   },
   "outputs": [],
   "source": [
    "ldaDataScale=LinearDiscriminantAnalysis()\n",
    "dataScaleLDA=ldaDataScale.fit_transform(trainx,trainy)"
   ]
  },
  {
   "cell_type": "code",
   "execution_count": 58,
   "metadata": {
    "kernel": "Python3"
   },
   "outputs": [],
   "source": [
    "ldaPredict = ldaDataScale.predict(testx)"
   ]
  },
  {
   "cell_type": "code",
   "execution_count": 59,
   "metadata": {
    "kernel": "Python3"
   },
   "outputs": [
    {
     "data": {
      "text/plain": [
       "[('aucprc', 0.81327248758332227),\n",
       " ('auc', 0.88065563551581794),\n",
       " ('acc', 0.99938203693733763)]"
      ]
     },
     "execution_count": 59,
     "metadata": {},
     "output_type": "execute_result"
    }
   ],
   "source": [
    "metrics(trainy,ldaDataScale.predict(trainx))"
   ]
  },
  {
   "cell_type": "code",
   "execution_count": 60,
   "metadata": {
    "kernel": "Python3"
   },
   "outputs": [
    {
     "data": {
      "text/plain": [
       "[('aucprc', 0.82286593628714744),\n",
       " ('auc', 0.8901383860417762),\n",
       " ('acc', 0.99941012892896264)]"
      ]
     },
     "execution_count": 60,
     "metadata": {},
     "output_type": "execute_result"
    }
   ],
   "source": [
    "metrics(testy,ldaDataScale.predict(testx))"
   ]
  },
  {
   "cell_type": "code",
   "execution_count": 200,
   "metadata": {
    "kernel": "Python3"
   },
   "outputs": [
    {
     "data": {
      "text/html": [
       "<div>\n",
       "<style scoped>\n",
       "    .dataframe tbody tr th:only-of-type {\n",
       "        vertical-align: middle;\n",
       "    }\n",
       "\n",
       "    .dataframe tbody tr th {\n",
       "        vertical-align: top;\n",
       "    }\n",
       "\n",
       "    .dataframe thead th {\n",
       "        text-align: right;\n",
       "    }\n",
       "</style>\n",
       "<table border=\"1\" class=\"dataframe\">\n",
       "  <thead>\n",
       "    <tr style=\"text-align: right;\">\n",
       "      <th>metrics</th>\n",
       "      <th>aucprc</th>\n",
       "      <th>auc</th>\n",
       "      <th>acc</th>\n",
       "    </tr>\n",
       "  </thead>\n",
       "  <tbody>\n",
       "    <tr>\n",
       "      <th>Dummy</th>\n",
       "      <td>0.500864</td>\n",
       "      <td>0.500000</td>\n",
       "      <td>0.998273</td>\n",
       "    </tr>\n",
       "    <tr>\n",
       "      <th>LogReg</th>\n",
       "      <td>0.779563</td>\n",
       "      <td>0.829205</td>\n",
       "      <td>0.999284</td>\n",
       "    </tr>\n",
       "    <tr>\n",
       "      <th>LDA</th>\n",
       "      <td>0.822866</td>\n",
       "      <td>0.890138</td>\n",
       "      <td>0.999410</td>\n",
       "    </tr>\n",
       "  </tbody>\n",
       "</table>\n",
       "</div>"
      ],
      "text/plain": [
       "metrics    aucprc       auc       acc\n",
       "Dummy    0.500864  0.500000  0.998273\n",
       "LogReg   0.779563  0.829205  0.999284\n",
       "LDA      0.822866  0.890138  0.999410"
      ]
     },
     "execution_count": 200,
     "metadata": {},
     "output_type": "execute_result"
    }
   ],
   "source": [
    "dummyMetrics3=dummyMetrics2.append(\n",
    "    pd.DataFrame.from_records(metrics(testy,ldaPredict),columns=[\"metrics\",\"LDA\"],index=\"metrics\").T\n",
    ")\n",
    "dummyMetrics3"
   ]
  },
  {
   "cell_type": "code",
   "execution_count": 62,
   "metadata": {
    "kernel": "Python3"
   },
   "outputs": [
    {
     "data": {
      "text/plain": [
       "[<matplotlib.lines.Line2D at 0x7f270eb5f278>]"
      ]
     },
     "execution_count": 62,
     "metadata": {},
     "output_type": "execute_result"
    },
    {
     "data": {
      "image/png": "[encoded data removed]",
      "text/plain": [
       "<matplotlib.figure.Figure at 0x7f270eb46588>"
      ]
     },
     "metadata": {},
     "output_type": "display_data"
    }
   ],
   "source": [
    "plt.plot(dataScaleLDA[trainy==0],color=\"red\")\n",
    "plt.plot(dataScaleLDA[trainy!=0],color=\"blue\")"
   ]
  },
  {
   "cell_type": "markdown",
   "metadata": {
    "kernel": "Python3"
   },
   "source": [
    "juste avec lda on est à 0.80 >> 0.5"
   ]
  },
  {
   "cell_type": "markdown",
   "metadata": {
    "kernel": "Python3"
   },
   "source": [
    "### <center>QDA</center>\n",
    "Each class uses its own estimate of variance (or covariance when there are multiple input variables).<br>\n",
    "[more ?](http://uc-r.github.io/discriminant_analysis)"
   ]
  },
  {
   "cell_type": "code",
   "execution_count": 172,
   "metadata": {
    "kernel": "Python3",
    "scrolled": true
   },
   "outputs": [
    {
     "data": {
      "text/plain": [
       "QuadraticDiscriminantAnalysis(priors=None, reg_param=0.0,\n",
       "               store_covariance=False, store_covariances=None, tol=0.0001)"
      ]
     },
     "execution_count": 172,
     "metadata": {},
     "output_type": "execute_result"
    }
   ],
   "source": [
    "QdaDataScale=QuadraticDiscriminantAnalysis()\n",
    "QdaDataScale.fit(trainx,trainy)"
   ]
  },
  {
   "cell_type": "code",
   "execution_count": 173,
   "metadata": {
    "kernel": "Python3"
   },
   "outputs": [],
   "source": [
    "QdaPredict = QdaDataScale.predict(testx)"
   ]
  },
  {
   "cell_type": "code",
   "execution_count": 174,
   "metadata": {
    "kernel": "Python3"
   },
   "outputs": [
    {
     "data": {
      "text/plain": [
       "[('aucprc', 0.46189347065313913),\n",
       " ('auc', 0.91956648437312938),\n",
       " ('acc', 0.97714472975819855)]"
      ]
     },
     "execution_count": 174,
     "metadata": {},
     "output_type": "execute_result"
    }
   ],
   "source": [
    "metrics(trainy,QdaDataScale.predict(trainx))"
   ]
  },
  {
   "cell_type": "code",
   "execution_count": 175,
   "metadata": {
    "kernel": "Python3"
   },
   "outputs": [
    {
     "data": {
      "text/plain": [
       "[('aucprc', 0.47924110724670493),\n",
       " ('auc', 0.93583607933323243),\n",
       " ('acc', 0.97721974101851072)]"
      ]
     },
     "execution_count": 175,
     "metadata": {},
     "output_type": "execute_result"
    }
   ],
   "source": [
    "metrics(testy,QdaDataScale.predict(testx))"
   ]
  },
  {
   "cell_type": "code",
   "execution_count": 201,
   "metadata": {
    "kernel": "Python3"
   },
   "outputs": [
    {
     "data": {
      "text/html": [
       "<div>\n",
       "<style scoped>\n",
       "    .dataframe tbody tr th:only-of-type {\n",
       "        vertical-align: middle;\n",
       "    }\n",
       "\n",
       "    .dataframe tbody tr th {\n",
       "        vertical-align: top;\n",
       "    }\n",
       "\n",
       "    .dataframe thead th {\n",
       "        text-align: right;\n",
       "    }\n",
       "</style>\n",
       "<table border=\"1\" class=\"dataframe\">\n",
       "  <thead>\n",
       "    <tr style=\"text-align: right;\">\n",
       "      <th>metrics</th>\n",
       "      <th>aucprc</th>\n",
       "      <th>auc</th>\n",
       "      <th>acc</th>\n",
       "    </tr>\n",
       "  </thead>\n",
       "  <tbody>\n",
       "    <tr>\n",
       "      <th>Dummy</th>\n",
       "      <td>0.500864</td>\n",
       "      <td>0.500000</td>\n",
       "      <td>0.998273</td>\n",
       "    </tr>\n",
       "    <tr>\n",
       "      <th>LogReg</th>\n",
       "      <td>0.779563</td>\n",
       "      <td>0.829205</td>\n",
       "      <td>0.999284</td>\n",
       "    </tr>\n",
       "    <tr>\n",
       "      <th>LDA</th>\n",
       "      <td>0.822866</td>\n",
       "      <td>0.890138</td>\n",
       "      <td>0.999410</td>\n",
       "    </tr>\n",
       "    <tr>\n",
       "      <th>QDA</th>\n",
       "      <td>0.479241</td>\n",
       "      <td>0.935836</td>\n",
       "      <td>0.977220</td>\n",
       "    </tr>\n",
       "  </tbody>\n",
       "</table>\n",
       "</div>"
      ],
      "text/plain": [
       "metrics    aucprc       auc       acc\n",
       "Dummy    0.500864  0.500000  0.998273\n",
       "LogReg   0.779563  0.829205  0.999284\n",
       "LDA      0.822866  0.890138  0.999410\n",
       "QDA      0.479241  0.935836  0.977220"
      ]
     },
     "execution_count": 201,
     "metadata": {},
     "output_type": "execute_result"
    }
   ],
   "source": [
    "dummyMetrics4=dummyMetrics3.append(\n",
    "    pd.DataFrame.from_records(metrics(testy,QdaPredict),columns=[\"metrics\",\"QDA\"],index=\"metrics\").T\n",
    ")\n",
    "dummyMetrics4"
   ]
  },
  {
   "cell_type": "markdown",
   "metadata": {
    "kernel": "Python3"
   },
   "source": [
    "### TODO:\n",
    "modele de melange supervisé ?"
   ]
  },
  {
   "cell_type": "markdown",
   "metadata": {
    "kernel": "Python3"
   },
   "source": [
    "## <center>NaiveBayes</center>"
   ]
  },
  {
   "cell_type": "markdown",
   "metadata": {
    "kernel": "Python3"
   },
   "source": [
    " assumption of independence among predictors<br>\n",
    " si bernouliNB -> on pense que les feature sont 0-1<br>\n",
    " si GaussianNB -> on pense que les feature sont gaussien<br>\n",
    " si Multinomial ->  It is used for discrete counts<br>\n",
    "[more?](https://www.analyticsvidhya.com/blog/2017/09/naive-bayes-explained/)\n"
   ]
  },
  {
   "cell_type": "code",
   "execution_count": 181,
   "metadata": {
    "kernel": "Python3"
   },
   "outputs": [
    {
     "data": {
      "text/plain": [
       "BernoulliNB(alpha=1.0, binarize=0.0, class_prior=None, fit_prior=True)"
      ]
     },
     "execution_count": 181,
     "metadata": {},
     "output_type": "execute_result"
    }
   ],
   "source": [
    "naiveBayes=Gau()\n",
    "naiveBayes.fit(trainx,trainy)"
   ]
  },
  {
   "cell_type": "code",
   "execution_count": 183,
   "metadata": {
    "kernel": "Python3"
   },
   "outputs": [
    {
     "data": {
      "text/plain": [
       "[('aucprc', 0.72457782194151354),\n",
       " ('auc', 0.81424355782041002),\n",
       " ('acc', 0.99911987078954145)]"
      ]
     },
     "execution_count": 183,
     "metadata": {},
     "output_type": "execute_result"
    }
   ],
   "source": [
    "metrics(trainy,naiveBayes.predict(trainx))"
   ]
  },
  {
   "cell_type": "code",
   "execution_count": 185,
   "metadata": {
    "kernel": "Python3"
   },
   "outputs": [
    {
     "data": {
      "text/plain": [
       "[('aucprc', 0.74282853434089446),\n",
       " ('auc', 0.8291487074327123),\n",
       " ('acc', 0.9991713715906857)]"
      ]
     },
     "execution_count": 185,
     "metadata": {},
     "output_type": "execute_result"
    }
   ],
   "source": [
    "metrics(testy,naiveBayes.predict(testx))"
   ]
  },
  {
   "cell_type": "code",
   "execution_count": 203,
   "metadata": {
    "kernel": "Python3"
   },
   "outputs": [
    {
     "data": {
      "text/html": [
       "<div>\n",
       "<style scoped>\n",
       "    .dataframe tbody tr th:only-of-type {\n",
       "        vertical-align: middle;\n",
       "    }\n",
       "\n",
       "    .dataframe tbody tr th {\n",
       "        vertical-align: top;\n",
       "    }\n",
       "\n",
       "    .dataframe thead th {\n",
       "        text-align: right;\n",
       "    }\n",
       "</style>\n",
       "<table border=\"1\" class=\"dataframe\">\n",
       "  <thead>\n",
       "    <tr style=\"text-align: right;\">\n",
       "      <th>metrics</th>\n",
       "      <th>aucprc</th>\n",
       "      <th>auc</th>\n",
       "      <th>acc</th>\n",
       "    </tr>\n",
       "  </thead>\n",
       "  <tbody>\n",
       "    <tr>\n",
       "      <th>Dummy</th>\n",
       "      <td>0.500864</td>\n",
       "      <td>0.500000</td>\n",
       "      <td>0.998273</td>\n",
       "    </tr>\n",
       "    <tr>\n",
       "      <th>LogReg</th>\n",
       "      <td>0.779563</td>\n",
       "      <td>0.829205</td>\n",
       "      <td>0.999284</td>\n",
       "    </tr>\n",
       "    <tr>\n",
       "      <th>LDA</th>\n",
       "      <td>0.822866</td>\n",
       "      <td>0.890138</td>\n",
       "      <td>0.999410</td>\n",
       "    </tr>\n",
       "    <tr>\n",
       "      <th>QDA</th>\n",
       "      <td>0.479241</td>\n",
       "      <td>0.935836</td>\n",
       "      <td>0.977220</td>\n",
       "    </tr>\n",
       "    <tr>\n",
       "      <th>NB</th>\n",
       "      <td>0.742829</td>\n",
       "      <td>0.829149</td>\n",
       "      <td>0.999171</td>\n",
       "    </tr>\n",
       "  </tbody>\n",
       "</table>\n",
       "</div>"
      ],
      "text/plain": [
       "metrics    aucprc       auc       acc\n",
       "Dummy    0.500864  0.500000  0.998273\n",
       "LogReg   0.779563  0.829205  0.999284\n",
       "LDA      0.822866  0.890138  0.999410\n",
       "QDA      0.479241  0.935836  0.977220\n",
       "NB       0.742829  0.829149  0.999171"
      ]
     },
     "execution_count": 203,
     "metadata": {},
     "output_type": "execute_result"
    }
   ],
   "source": [
    "dummyMetrics5=dummyMetrics4.append(\n",
    "    pd.DataFrame.from_records(metrics(testy,naiveBayes.predict(testx)),columns=[\"metrics\",\"NB\"],index=\"metrics\").T\n",
    ")\n",
    "dummyMetrics5"
   ]
  },
  {
   "cell_type": "markdown",
   "metadata": {
    "kernel": "Python3"
   },
   "source": [
    "## <center>KNN</center>"
   ]
  },
  {
   "cell_type": "markdown",
   "metadata": {
    "kernel": "Python3"
   },
   "source": [
    "Knn relou si grand"
   ]
  },
  {
   "cell_type": "markdown",
   "metadata": {
    "kernel": "Python3"
   },
   "source": [
    "/!\\ knn met cent ans ne pas le faire !"
   ]
  },
  {
   "cell_type": "code",
   "execution_count": null,
   "metadata": {
    "kernel": "Python3"
   },
   "outputs": [],
   "source": [
    "def knnLaunch():\n",
    "    knn=KNeighborsClassifier(n_neighbors=10)\n",
    "    knn.fit(trainx,trainy)\n",
    "    metrics(trainy,knn.predict(trainx))\n",
    "    metrics(testy,knn.predict(testx))\n",
    "    return knn\n",
    "#knnMod=knnLaunch()"
   ]
  },
  {
   "cell_type": "code",
   "execution_count": null,
   "metadata": {
    "kernel": "Python3"
   },
   "outputs": [],
   "source": [
    "#dummyMetrics5=dummyMetrics4.append(\n",
    "#    pd.DataFrame.from_records(metrics(testy,knnMod.predict(testx)),columns=[\"metrics\",\"NB\"],index=\"metrics\").T\n",
    "#)\n",
    "#dummyMetrics5"
   ]
  },
  {
   "cell_type": "markdown",
   "metadata": {
    "kernel": "Python3"
   },
   "source": [
    "## <center>SVM</center>"
   ]
  },
  {
   "cell_type": "code",
   "execution_count": null,
   "metadata": {
    "kernel": "Python3"
   },
   "outputs": [],
   "source": [
    "def svmLaunch():\n",
    "    knn=SVC()\n",
    "    knn.fit(trainx,trainy)\n",
    "    metrics(trainy,knn.predict(trainx))\n",
    "    metrics(testy,knn.predict(testx))\n",
    "    return knn"
   ]
  }
 ],
 "metadata": {
  "kernelspec": {
   "display_name": "SoS",
   "language": "sos",
   "name": "sos"
  },
  "language_info": {
   "codemirror_mode": "sos",
   "file_extension": ".sos",
   "mimetype": "text/x-sos",
   "name": "sos",
   "nbconvert_exporter": "sos_notebook.converter.SoS_Exporter",
   "pygments_lexer": "sos"
  },
  "sos": {
   "default_kernel": "Python3",
   "kernels": [
    [
     "Python3",
     "python3",
     "Python3",
     "#FFD91A"
    ]
   ],
   "panel": {
    "displayed": true,
    "height": "344px",
    "style": "side"
   },
   "version": "0.17.3"
  }
 },
 "nbformat": 4,
 "nbformat_minor": 2
}

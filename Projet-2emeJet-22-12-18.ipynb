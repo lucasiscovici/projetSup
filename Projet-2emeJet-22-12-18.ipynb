{
 "cells": [
  {
   "cell_type": "markdown",
   "metadata": {
    "kernel": "Python3"
   },
   "source": [
    "## Master 2 - MLDS - Paris Descartes "
   ]
  },
  {
   "cell_type": "markdown",
   "metadata": {
    "kernel": "Python3"
   },
   "source": [
    "## Projet Apprentissage Supervisé \n",
    "<em>le 15 janvier 2019 avant minuit</em>"
   ]
  },
  {
   "cell_type": "markdown",
   "metadata": {
    "kernel": "Python3"
   },
   "source": [
    "<b><big>Lucas Iscovici <span style=\"float:right\">Mohamed Ben Hamdoune</span></big></b>"
   ]
  },
  {
   "cell_type": "markdown",
   "metadata": {
    "kernel": "Python3"
   },
   "source": [
    "## Le SUJET \n",
    "### Détection de fraude dans des transactions bancaires"
   ]
  },
  {
   "cell_type": "markdown",
   "metadata": {
    "kernel": "Python3"
   },
   "source": [
    "### Objectif\n",
    "L’objectif de ce travail est la mise en pratique concrète d’un certain nombre de techniques\n",
    "d’apprentissage supervisé (<b>Bayesien Naïf, KNN, LDA, QDA, Linear SVM, Non Linear SVM,\n",
    "Régression logistique, CART et Random Forest</b>), à travers l’étude d’un cas pratique nécessitant\n",
    "l’utilisation de logiciels de traitement statistique de données <b>R ou python</b>.<br>L’application visée est :<br>\n",
    " <b>Détection de fraude dans des transactions bancaires</b> :<br> En résumé, il s’agit de travailler dans ce\n",
    "projet sur une base de données décrivant des transactions bancaires sur une période donnée,\n",
    "    l’objectif est la <b>détection des transactions frauduleuses</b>.<br>\n",
    "    Je vous encourage à faire preuve d’<b>originalité</b> : vous pouvez très bien utiliser des modèles qui n’ont\n",
    "pas été présentés au cours"
   ]
  },
  {
   "cell_type": "markdown",
   "metadata": {
    "kernel": "Python3"
   },
   "source": [
    "### Travail à faire\n",
    "Commencer par une <b>étude exploratoire</b> préliminaire<br>\n",
    "Utiliser les différentes techniques de <b>classification supervisée</b> vue en cours pour créer un\n",
    "<b>modèle de détection de la fraude</b>. Suivant les techniques utilisées (et les fonctions\n",
    "disponibles sous R), vous pourrez utiliser l’ensemble des variables disponibles ou\n",
    "uniquement les variables quantitatives, et réaliser ou non une <b>sélection de variables</b>.<br>\n",
    "Comparer l’ensemble de ces techniques à l’aide de courbes ROC (<b>AUC</b>), évaluées soit par\n",
    "<b>validation croisée</b> soit sur échantillon test"
   ]
  },
  {
   "cell_type": "markdown",
   "metadata": {
    "kernel": "Python3"
   },
   "source": [
    "### Rapport\n",
    "Le rapport du projet doit présenter de façon claire et concise:<br>\n",
    "    l'<b>objet</b> de l'analyse<br>\n",
    "    la <b>description des données</b> (individus/variables utilisées, variables supplémentaires etc.)<br>\n",
    "    <b>l'analyse</b> proprement dite<br>\n",
    "    les <b>commentaires sur les résultats</b> obtenus<br>\n",
    "    "
   ]
  },
  {
   "cell_type": "markdown",
   "metadata": {
    "kernel": "Python3"
   },
   "source": [
    "## L'ANALYSE "
   ]
  },
  {
   "cell_type": "markdown",
   "metadata": {
    "kernel": "Python3"
   },
   "source": [
    "### Les Données"
   ]
  },
  {
   "cell_type": "markdown",
   "metadata": {
    "kernel": "Python3"
   },
   "source": [
    "Le jeu de données contient les<b> transactions effectuées par cartes de crédit en septembre 2013</b> par les titulaires de carte\n",
    "européennes. <br>Cet ensemble de données présente les transactions qui se sont produites <b>en deux jours</b>, où nous avons eu\n",
    "    <b>492 fraudes sur 284 807 transactions</b>.<br> L'ensemble de données est <b>très déséquilibré</b>, les classes <b>positives (fraudes)\n",
    "    représentent 0,172%</b> de toutes les transactions.<br> Il contient uniquement des <b>variables d'entrée</b> numériques <b>résultant\n",
    "    d'une transformation PCA</b>. Les caractéristiques <b>V1, V2, ... V28 sont les composantes principales obtenues avec PCA</b>,\n",
    "les seules <b>caractéristiques qui n'ont pas été transformées avec PCA sont 'Time' et 'Amount'</b>.<br> La variable <b>'Time'</b>\n",
    "    contient les <b>secondes écoulées entre chaque transaction et la première transaction</b> de l'ensemble de données. La\n",
    "    variable <b>'Amount'</b> est le Montant de la transaction, cette caractéristique peut être utilisée pour <em>l'apprentissage sensible\n",
    "    aux coûts</em> dépendant de l'exemple. La fonction <b>'Class'</b> est la variable de réponse et prend la valeur <b>1 en cas de fraude et\n",
    "    0 sinon</b>. Compte tenu du rapport de <b>déséquilibre de classes</b>, nous recommandons de <b>mesurer la précision en utilisant\n",
    "    l'aire sous la courbe de rappel de précision (<em>AUPRC</em>)</b>. La précision de la matrice de confusion n'est pas significative\n",
    "pour une classification non équilibrée."
   ]
  },
  {
   "cell_type": "markdown",
   "metadata": {
    "kernel": "Python3"
   },
   "source": [
    "<h3>A Retenir: </h3>\n",
    "- 2 jours de fraude \n",
    "    - Variable \"Time\"\n",
    "       - Secondes -> voir si pattern temporel de fraude (matin ? soir?\n",
    "- Fraude rare\n",
    "    - Classe déséquilibré (492 fraudes sur 284 807 transactions) (0,172%)\n",
    "        - AUPRC -> l'aire sous la courbe de rappel de précision\n",
    "        - Attention au méthodes nécessitant des classes équilibré \n",
    "        - Voir d'éventuelle techniques pour lutter contre ce pb\n",
    "- \"Amount\" -> voir si pattern avec la montant de la transaction pour la fraude\n",
    "- Variables d'entrée sont les composantes principales d'une PCA\n",
    "    - On ne peux pas capter le sens des composantes sans le nom des vrais variables ?\n",
    "    - Ne \"capture\" que les liaisons linéaires\n",
    "    - Revenir au données initiales ? à chercher mais pb visiblement si que pca pb?\n",
    "\n"
   ]
  },
  {
   "cell_type": "markdown",
   "metadata": {
    "kernel": "Python3"
   },
   "source": [
    "### Convention"
   ]
  },
  {
   "cell_type": "markdown",
   "metadata": {
    "kernel": "Python3"
   },
   "source": [
    "VOIR LES TODOS "
   ]
  },
  {
   "cell_type": "markdown",
   "metadata": {
    "kernel": "Python3"
   },
   "source": [
    "## IMPORT "
   ]
  },
  {
   "cell_type": "code",
   "execution_count": 493,
   "metadata": {
    "kernel": "Python3",
    "scrolled": true
   },
   "outputs": [],
   "source": [
    "from pip import _internal as pip\n",
    "\n",
    "from math import *\n",
    "from collections import  Counter\n",
    "import numpy as np\n",
    "import pandas as pd\n",
    "import matplotlib.pyplot as plt\n",
    "import scipy \n",
    "import seaborn as sns\n",
    "\n",
    "\n",
    "from sklearn.metrics import precision_recall_curve,auc,roc_auc_score,confusion_matrix,classification_report,roc_curve\n",
    "from sklearn.model_selection import train_test_split,RandomizedSearchCV,GridSearchCV,StratifiedKFold\n",
    "from sklearn.pipeline import make_pipeline, Pipeline\n",
    "\n",
    "from sklearn.preprocessing import scale\n",
    "\n",
    "from sklearn.discriminant_analysis import LinearDiscriminantAnalysis, QuadraticDiscriminantAnalysis\n",
    "\n",
    "from sklearn.manifold import *\n",
    "\n",
    "from sklearn.linear_model import LogisticRegression, PassiveAggressiveClassifier, RidgeClassifier, SGDClassifier\n",
    "from sklearn.ensemble import BaggingClassifier, RandomForestClassifier, GradientBoostingClassifier, ExtraTreesClassifier,VotingClassifier \n",
    "from sklearn.neighbors import KNeighborsClassifier\n",
    "\n",
    "from sklearn.tree import DecisionTreeClassifier\n",
    "\n",
    "from sklearn.naive_bayes import BernoulliNB, GaussianNB\n",
    "from sklearn.svm import SVC,LinearSVC\n",
    "\n",
    "from sklearn.utils.linear_assignment_ import linear_assignment \n",
    "\n",
    "#help to find, missing, colinearity , etcc...\n",
    "from feature_selector import FeatureSelector\n",
    "\n",
    "from imblearn.over_sampling import SMOTE\n",
    "\n",
    "import lightgbm as lgb\n",
    "\n",
    "try:\n",
    "    import scikitplot \n",
    "except:\n",
    "    pip.main([\"install\",\"scikit-plot\"])\n",
    "    import scikitplot \n",
    "#USEFULL\n",
    "from functools import partial\n",
    "from tqdm import tqdm,tqdm_notebook"
   ]
  },
  {
   "cell_type": "markdown",
   "metadata": {
    "kernel": "Python3"
   },
   "source": [
    "###  USEFULL"
   ]
  },
  {
   "cell_type": "code",
   "execution_count": 184,
   "metadata": {
    "kernel": "Python3"
   },
   "outputs": [],
   "source": [
    "import warnings\n",
    "warnings.filterwarnings('ignore')"
   ]
  },
  {
   "cell_type": "code",
   "execution_count": 185,
   "metadata": {
    "kernel": "Python3"
   },
   "outputs": [],
   "source": [
    "T=True\n",
    "F=False"
   ]
  },
  {
   "cell_type": "code",
   "execution_count": 289,
   "metadata": {
    "kernel": "Python3"
   },
   "outputs": [],
   "source": [
    "pd.DataFrame.dropCol=lambda self,a:self.drop(a,axis=1)\n",
    "pd.Series.whereDrop = lambda self,b: self.where(b).dropna() \n",
    "pd.DataFrame.appendCol=lambda self,name,value:pd.concat([self,pd.Series(value,name=name)],axis=1)"
   ]
  },
  {
   "cell_type": "code",
   "execution_count": 187,
   "metadata": {
    "kernel": "Python3"
   },
   "outputs": [],
   "source": [
    "_make_cost_m=lambda cm:-cm + np.max(cm)\n",
    "listToDict=lambda a:dict(zip(range(len(a)),a))\n",
    "getTrueLabel=lambda a,b:pd.Series(b).map(dict(linear_assignment(_make_cost_m(confusion_matrix(b,a))))).values.tolist()"
   ]
  },
  {
   "cell_type": "markdown",
   "metadata": {
    "kernel": "Python3"
   },
   "source": [
    "sklearn.metrics.classification_report <br>\n",
    "Note that in binary classification, recall of the positive class is also known as “sensitivity”; recall of the negative class is “specificity”."
   ]
  },
  {
   "cell_type": "code",
   "execution_count": 211,
   "metadata": {
    "kernel": "Python3"
   },
   "outputs": [],
   "source": [
    "def sensitivity_specificity(a,b):\n",
    "    l=pd.DataFrame.from_dict(classification_report(a,b,output_dict=T))\n",
    "    return pd.DataFrame.from_records(dict(sensitivity=[l.loc[\"recall\",\"0\"]],specificity=[l.loc[\"recall\",\"1\"]]))\n",
    "#sensitivity_specificity([1,1,1,0],[1,1,1,1])"
   ]
  },
  {
   "cell_type": "code",
   "execution_count": 243,
   "metadata": {
    "kernel": "Python3"
   },
   "outputs": [],
   "source": [
    "FRAUD=1\n",
    "NO_FRAUD=0"
   ]
  },
  {
   "cell_type": "markdown",
   "metadata": {
    "kernel": "Python3"
   },
   "source": [
    "## constitution du jeu"
   ]
  },
  {
   "cell_type": "code",
   "execution_count": 7,
   "metadata": {
    "kernel": "Python3"
   },
   "outputs": [
    {
     "name": "stdout",
     "output_type": "stream",
     "text": [
      "creditcard.csv\t    Projet_Apprentissage_Supervisé_1819.zip\n",
      "creditcard.csv.zip  Projet_app_sup_MLDS1819_vf.pdf\n"
     ]
    }
   ],
   "source": [
    "!ls data"
   ]
  },
  {
   "cell_type": "code",
   "execution_count": 272,
   "metadata": {
    "kernel": "Python3"
   },
   "outputs": [],
   "source": [
    "data=pd.read_csv(\"./data/creditcard.csv\")"
   ]
  },
  {
   "cell_type": "code",
   "execution_count": 273,
   "metadata": {
    "kernel": "Python3"
   },
   "outputs": [
    {
     "data": {
      "text/html": [
       "<div>\n",
       "<style scoped>\n",
       "    .dataframe tbody tr th:only-of-type {\n",
       "        vertical-align: middle;\n",
       "    }\n",
       "\n",
       "    .dataframe tbody tr th {\n",
       "        vertical-align: top;\n",
       "    }\n",
       "\n",
       "    .dataframe thead th {\n",
       "        text-align: right;\n",
       "    }\n",
       "</style>\n",
       "<table border=\"1\" class=\"dataframe\">\n",
       "  <thead>\n",
       "    <tr style=\"text-align: right;\">\n",
       "      <th></th>\n",
       "      <th>Time</th>\n",
       "      <th>V1</th>\n",
       "      <th>V2</th>\n",
       "      <th>V3</th>\n",
       "      <th>V4</th>\n",
       "      <th>V5</th>\n",
       "      <th>V6</th>\n",
       "      <th>V7</th>\n",
       "      <th>V8</th>\n",
       "      <th>V9</th>\n",
       "      <th>...</th>\n",
       "      <th>V21</th>\n",
       "      <th>V22</th>\n",
       "      <th>V23</th>\n",
       "      <th>V24</th>\n",
       "      <th>V25</th>\n",
       "      <th>V26</th>\n",
       "      <th>V27</th>\n",
       "      <th>V28</th>\n",
       "      <th>Amount</th>\n",
       "      <th>Class</th>\n",
       "    </tr>\n",
       "  </thead>\n",
       "  <tbody>\n",
       "    <tr>\n",
       "      <th>0</th>\n",
       "      <td>0.0</td>\n",
       "      <td>-1.359807</td>\n",
       "      <td>-0.072781</td>\n",
       "      <td>2.536347</td>\n",
       "      <td>1.378155</td>\n",
       "      <td>-0.338321</td>\n",
       "      <td>0.462388</td>\n",
       "      <td>0.239599</td>\n",
       "      <td>0.098698</td>\n",
       "      <td>0.363787</td>\n",
       "      <td>...</td>\n",
       "      <td>-0.018307</td>\n",
       "      <td>0.277838</td>\n",
       "      <td>-0.110474</td>\n",
       "      <td>0.066928</td>\n",
       "      <td>0.128539</td>\n",
       "      <td>-0.189115</td>\n",
       "      <td>0.133558</td>\n",
       "      <td>-0.021053</td>\n",
       "      <td>149.62</td>\n",
       "      <td>0</td>\n",
       "    </tr>\n",
       "    <tr>\n",
       "      <th>1</th>\n",
       "      <td>0.0</td>\n",
       "      <td>1.191857</td>\n",
       "      <td>0.266151</td>\n",
       "      <td>0.166480</td>\n",
       "      <td>0.448154</td>\n",
       "      <td>0.060018</td>\n",
       "      <td>-0.082361</td>\n",
       "      <td>-0.078803</td>\n",
       "      <td>0.085102</td>\n",
       "      <td>-0.255425</td>\n",
       "      <td>...</td>\n",
       "      <td>-0.225775</td>\n",
       "      <td>-0.638672</td>\n",
       "      <td>0.101288</td>\n",
       "      <td>-0.339846</td>\n",
       "      <td>0.167170</td>\n",
       "      <td>0.125895</td>\n",
       "      <td>-0.008983</td>\n",
       "      <td>0.014724</td>\n",
       "      <td>2.69</td>\n",
       "      <td>0</td>\n",
       "    </tr>\n",
       "    <tr>\n",
       "      <th>2</th>\n",
       "      <td>1.0</td>\n",
       "      <td>-1.358354</td>\n",
       "      <td>-1.340163</td>\n",
       "      <td>1.773209</td>\n",
       "      <td>0.379780</td>\n",
       "      <td>-0.503198</td>\n",
       "      <td>1.800499</td>\n",
       "      <td>0.791461</td>\n",
       "      <td>0.247676</td>\n",
       "      <td>-1.514654</td>\n",
       "      <td>...</td>\n",
       "      <td>0.247998</td>\n",
       "      <td>0.771679</td>\n",
       "      <td>0.909412</td>\n",
       "      <td>-0.689281</td>\n",
       "      <td>-0.327642</td>\n",
       "      <td>-0.139097</td>\n",
       "      <td>-0.055353</td>\n",
       "      <td>-0.059752</td>\n",
       "      <td>378.66</td>\n",
       "      <td>0</td>\n",
       "    </tr>\n",
       "    <tr>\n",
       "      <th>3</th>\n",
       "      <td>1.0</td>\n",
       "      <td>-0.966272</td>\n",
       "      <td>-0.185226</td>\n",
       "      <td>1.792993</td>\n",
       "      <td>-0.863291</td>\n",
       "      <td>-0.010309</td>\n",
       "      <td>1.247203</td>\n",
       "      <td>0.237609</td>\n",
       "      <td>0.377436</td>\n",
       "      <td>-1.387024</td>\n",
       "      <td>...</td>\n",
       "      <td>-0.108300</td>\n",
       "      <td>0.005274</td>\n",
       "      <td>-0.190321</td>\n",
       "      <td>-1.175575</td>\n",
       "      <td>0.647376</td>\n",
       "      <td>-0.221929</td>\n",
       "      <td>0.062723</td>\n",
       "      <td>0.061458</td>\n",
       "      <td>123.50</td>\n",
       "      <td>0</td>\n",
       "    </tr>\n",
       "    <tr>\n",
       "      <th>4</th>\n",
       "      <td>2.0</td>\n",
       "      <td>-1.158233</td>\n",
       "      <td>0.877737</td>\n",
       "      <td>1.548718</td>\n",
       "      <td>0.403034</td>\n",
       "      <td>-0.407193</td>\n",
       "      <td>0.095921</td>\n",
       "      <td>0.592941</td>\n",
       "      <td>-0.270533</td>\n",
       "      <td>0.817739</td>\n",
       "      <td>...</td>\n",
       "      <td>-0.009431</td>\n",
       "      <td>0.798278</td>\n",
       "      <td>-0.137458</td>\n",
       "      <td>0.141267</td>\n",
       "      <td>-0.206010</td>\n",
       "      <td>0.502292</td>\n",
       "      <td>0.219422</td>\n",
       "      <td>0.215153</td>\n",
       "      <td>69.99</td>\n",
       "      <td>0</td>\n",
       "    </tr>\n",
       "  </tbody>\n",
       "</table>\n",
       "<p>5 rows × 31 columns</p>\n",
       "</div>"
      ],
      "text/plain": [
       "   Time        V1        V2        V3        V4        V5        V6        V7  \\\n",
       "0   0.0 -1.359807 -0.072781  2.536347  1.378155 -0.338321  0.462388  0.239599   \n",
       "1   0.0  1.191857  0.266151  0.166480  0.448154  0.060018 -0.082361 -0.078803   \n",
       "2   1.0 -1.358354 -1.340163  1.773209  0.379780 -0.503198  1.800499  0.791461   \n",
       "3   1.0 -0.966272 -0.185226  1.792993 -0.863291 -0.010309  1.247203  0.237609   \n",
       "4   2.0 -1.158233  0.877737  1.548718  0.403034 -0.407193  0.095921  0.592941   \n",
       "\n",
       "         V8        V9  ...         V21       V22       V23       V24  \\\n",
       "0  0.098698  0.363787  ...   -0.018307  0.277838 -0.110474  0.066928   \n",
       "1  0.085102 -0.255425  ...   -0.225775 -0.638672  0.101288 -0.339846   \n",
       "2  0.247676 -1.514654  ...    0.247998  0.771679  0.909412 -0.689281   \n",
       "3  0.377436 -1.387024  ...   -0.108300  0.005274 -0.190321 -1.175575   \n",
       "4 -0.270533  0.817739  ...   -0.009431  0.798278 -0.137458  0.141267   \n",
       "\n",
       "        V25       V26       V27       V28  Amount  Class  \n",
       "0  0.128539 -0.189115  0.133558 -0.021053  149.62      0  \n",
       "1  0.167170  0.125895 -0.008983  0.014724    2.69      0  \n",
       "2 -0.327642 -0.139097 -0.055353 -0.059752  378.66      0  \n",
       "3  0.647376 -0.221929  0.062723  0.061458  123.50      0  \n",
       "4 -0.206010  0.502292  0.219422  0.215153   69.99      0  \n",
       "\n",
       "[5 rows x 31 columns]"
      ]
     },
     "execution_count": 273,
     "metadata": {},
     "output_type": "execute_result"
    }
   ],
   "source": [
    "data.head()"
   ]
  },
  {
   "cell_type": "code",
   "execution_count": 274,
   "metadata": {
    "kernel": "Python3",
    "scrolled": true
   },
   "outputs": [
    {
     "name": "stdout",
     "output_type": "stream",
     "text": [
      "<class 'pandas.core.frame.DataFrame'>\n",
      "RangeIndex: 284807 entries, 0 to 284806\n",
      "Data columns (total 31 columns):\n",
      "Time      284807 non-null float64\n",
      "V1        284807 non-null float64\n",
      "V2        284807 non-null float64\n",
      "V3        284807 non-null float64\n",
      "V4        284807 non-null float64\n",
      "V5        284807 non-null float64\n",
      "V6        284807 non-null float64\n",
      "V7        284807 non-null float64\n",
      "V8        284807 non-null float64\n",
      "V9        284807 non-null float64\n",
      "V10       284807 non-null float64\n",
      "V11       284807 non-null float64\n",
      "V12       284807 non-null float64\n",
      "V13       284807 non-null float64\n",
      "V14       284807 non-null float64\n",
      "V15       284807 non-null float64\n",
      "V16       284807 non-null float64\n",
      "V17       284807 non-null float64\n",
      "V18       284807 non-null float64\n",
      "V19       284807 non-null float64\n",
      "V20       284807 non-null float64\n",
      "V21       284807 non-null float64\n",
      "V22       284807 non-null float64\n",
      "V23       284807 non-null float64\n",
      "V24       284807 non-null float64\n",
      "V25       284807 non-null float64\n",
      "V26       284807 non-null float64\n",
      "V27       284807 non-null float64\n",
      "V28       284807 non-null float64\n",
      "Amount    284807 non-null float64\n",
      "Class     284807 non-null int64\n",
      "dtypes: float64(30), int64(1)\n",
      "memory usage: 67.4 MB\n"
     ]
    }
   ],
   "source": [
    "data.info()"
   ]
  },
  {
   "cell_type": "markdown",
   "metadata": {
    "kernel": "Python3"
   },
   "source": [
    "## Train - TEST"
   ]
  },
  {
   "cell_type": "markdown",
   "metadata": {
    "kernel": "Python3"
   },
   "source": [
    "On va des le debut separer le jeu de données pour ne pas biaser l'analyse, et les resultats des models"
   ]
  },
  {
   "cell_type": "code",
   "execution_count": 276,
   "metadata": {
    "kernel": "Python3"
   },
   "outputs": [],
   "source": [
    "XTrain,XTest,YTrain,YTest=train_test_split(data.dropCol(\"Class\"),\n",
    "                                           data.Class,\n",
    "                                          stratify=data.Class,\n",
    "                                          random_state=42)"
   ]
  },
  {
   "cell_type": "code",
   "execution_count": 277,
   "metadata": {
    "kernel": "Python3"
   },
   "outputs": [],
   "source": [
    "dataShape=XTrain.shape"
   ]
  },
  {
   "cell_type": "code",
   "execution_count": 278,
   "metadata": {
    "kernel": "Python3"
   },
   "outputs": [],
   "source": [
    "variablePasPC = [\"Time\",\"Amount\",\"Class\"]"
   ]
  },
  {
   "cell_type": "code",
   "execution_count": 302,
   "metadata": {
    "kernel": "Python3"
   },
   "outputs": [],
   "source": [
    "dataPC=XTrain.loc[:,~XTrain.columns.isin(variablePasPC)].appendCol(\"Class\",YTrain)\n",
    "dataPasPC=XTrain.loc[:,XTrain.columns.isin(variablePasPC)].appendCol(\"Class\",YTrain)"
   ]
  },
  {
   "cell_type": "markdown",
   "metadata": {
    "kernel": "Python3"
   },
   "source": [
    "##  EDA"
   ]
  },
  {
   "cell_type": "markdown",
   "metadata": {
    "kernel": "Python3"
   },
   "source": [
    "####  V(PC) de la PCA"
   ]
  },
  {
   "cell_type": "code",
   "execution_count": 291,
   "metadata": {
    "kernel": "Python3",
    "scrolled": true
   },
   "outputs": [
    {
     "name": "stdout",
     "output_type": "stream",
     "text": [
      "<class 'pandas.core.frame.DataFrame'>\n",
      "Int64Index: 213605 entries, 17884 to 17677\n",
      "Data columns (total 29 columns):\n",
      "V1       213605 non-null float64\n",
      "V2       213605 non-null float64\n",
      "V3       213605 non-null float64\n",
      "V4       213605 non-null float64\n",
      "V5       213605 non-null float64\n",
      "V6       213605 non-null float64\n",
      "V7       213605 non-null float64\n",
      "V8       213605 non-null float64\n",
      "V9       213605 non-null float64\n",
      "V10      213605 non-null float64\n",
      "V11      213605 non-null float64\n",
      "V12      213605 non-null float64\n",
      "V13      213605 non-null float64\n",
      "V14      213605 non-null float64\n",
      "V15      213605 non-null float64\n",
      "V16      213605 non-null float64\n",
      "V17      213605 non-null float64\n",
      "V18      213605 non-null float64\n",
      "V19      213605 non-null float64\n",
      "V20      213605 non-null float64\n",
      "V21      213605 non-null float64\n",
      "V22      213605 non-null float64\n",
      "V23      213605 non-null float64\n",
      "V24      213605 non-null float64\n",
      "V25      213605 non-null float64\n",
      "V26      213605 non-null float64\n",
      "V27      213605 non-null float64\n",
      "V28      213605 non-null float64\n",
      "Class    213605 non-null int64\n",
      "dtypes: float64(28), int64(1)\n",
      "memory usage: 48.9 MB\n"
     ]
    }
   ],
   "source": [
    "dataPC.info()"
   ]
  },
  {
   "cell_type": "markdown",
   "metadata": {
    "kernel": "Python3"
   },
   "source": [
    "Comme Pc -> que des float, et pas de missing data"
   ]
  },
  {
   "cell_type": "code",
   "execution_count": 292,
   "metadata": {
    "kernel": "Python3"
   },
   "outputs": [],
   "source": [
    "minmaxavg=lambda x:x.agg([min,max,\"mean\"])"
   ]
  },
  {
   "cell_type": "code",
   "execution_count": 293,
   "metadata": {
    "kernel": "Python3"
   },
   "outputs": [
    {
     "data": {
      "text/plain": [
       "min     0.041527\n",
       "max     1.961714\n",
       "mean    0.944441\n",
       "dtype: float64"
      ]
     },
     "execution_count": 293,
     "metadata": {},
     "output_type": "execute_result"
    }
   ],
   "source": [
    "stdMinMaxPC=minmaxavg(dataPC.std())\n",
    "stdMinMaxPC"
   ]
  },
  {
   "cell_type": "code",
   "execution_count": 294,
   "metadata": {
    "kernel": "Python3"
   },
   "outputs": [
    {
     "data": {
      "text/plain": [
       "min    -113.743307\n",
       "max       0.000000\n",
       "mean    -27.090506\n",
       "dtype: float64"
      ]
     },
     "execution_count": 294,
     "metadata": {},
     "output_type": "execute_result"
    }
   ],
   "source": [
    "minMinMaxPC=minmaxavg(dataPC.min())\n",
    "minMinMaxPC"
   ]
  },
  {
   "cell_type": "code",
   "execution_count": 295,
   "metadata": {
    "kernel": "Python3"
   },
   "outputs": [
    {
     "data": {
      "text/plain": [
       "min       1.000000\n",
       "max     120.589494\n",
       "mean     20.766596\n",
       "dtype: float64"
      ]
     },
     "execution_count": 295,
     "metadata": {},
     "output_type": "execute_result"
    }
   ],
   "source": [
    "maxMinMaxPC=minmaxavg(dataPC.max())\n",
    "maxMinMaxPC"
   ]
  },
  {
   "cell_type": "code",
   "execution_count": 296,
   "metadata": {
    "kernel": "Python3"
   },
   "outputs": [
    {
     "data": {
      "text/html": [
       "<div>\n",
       "<style scoped>\n",
       "    .dataframe tbody tr th:only-of-type {\n",
       "        vertical-align: middle;\n",
       "    }\n",
       "\n",
       "    .dataframe tbody tr th {\n",
       "        vertical-align: top;\n",
       "    }\n",
       "\n",
       "    .dataframe thead th {\n",
       "        text-align: right;\n",
       "    }\n",
       "</style>\n",
       "<table border=\"1\" class=\"dataframe\">\n",
       "  <thead>\n",
       "    <tr style=\"text-align: right;\">\n",
       "      <th></th>\n",
       "      <th>std</th>\n",
       "      <th>min</th>\n",
       "      <th>max</th>\n",
       "    </tr>\n",
       "  </thead>\n",
       "  <tbody>\n",
       "    <tr>\n",
       "      <th>min</th>\n",
       "      <td>0.041527</td>\n",
       "      <td>-113.743307</td>\n",
       "      <td>1.000000</td>\n",
       "    </tr>\n",
       "    <tr>\n",
       "      <th>max</th>\n",
       "      <td>1.961714</td>\n",
       "      <td>0.000000</td>\n",
       "      <td>120.589494</td>\n",
       "    </tr>\n",
       "    <tr>\n",
       "      <th>mean</th>\n",
       "      <td>0.944441</td>\n",
       "      <td>-27.090506</td>\n",
       "      <td>20.766596</td>\n",
       "    </tr>\n",
       "  </tbody>\n",
       "</table>\n",
       "</div>"
      ],
      "text/plain": [
       "           std         min         max\n",
       "min   0.041527 -113.743307    1.000000\n",
       "max   1.961714    0.000000  120.589494\n",
       "mean  0.944441  -27.090506   20.766596"
      ]
     },
     "execution_count": 296,
     "metadata": {},
     "output_type": "execute_result"
    }
   ],
   "source": [
    "minmaxavgPCA=pd.concat([stdMinMaxPC,minMinMaxPC,maxMinMaxPC],axis=1,keys=[\"std\",\"min\",\"max\"])\n",
    "minmaxavgPCA"
   ]
  },
  {
   "cell_type": "markdown",
   "metadata": {
    "kernel": "Python3"
   },
   "source": [
    "ratio std - max - min  :"
   ]
  },
  {
   "cell_type": "code",
   "execution_count": 297,
   "metadata": {
    "kernel": "Python3"
   },
   "outputs": [
    {
     "data": {
      "text/html": [
       "<div>\n",
       "<style scoped>\n",
       "    .dataframe tbody tr th:only-of-type {\n",
       "        vertical-align: middle;\n",
       "    }\n",
       "\n",
       "    .dataframe tbody tr th {\n",
       "        vertical-align: top;\n",
       "    }\n",
       "\n",
       "    .dataframe thead th {\n",
       "        text-align: right;\n",
       "    }\n",
       "</style>\n",
       "<table border=\"1\" class=\"dataframe\">\n",
       "  <thead>\n",
       "    <tr style=\"text-align: right;\">\n",
       "      <th></th>\n",
       "      <th>std</th>\n",
       "      <th>min</th>\n",
       "      <th>max</th>\n",
       "    </tr>\n",
       "  </thead>\n",
       "  <tbody>\n",
       "    <tr>\n",
       "      <th>min</th>\n",
       "      <td>0.041527</td>\n",
       "      <td>-113.743307</td>\n",
       "      <td>1.000000</td>\n",
       "    </tr>\n",
       "    <tr>\n",
       "      <th>max</th>\n",
       "      <td>1.961714</td>\n",
       "      <td>0.000000</td>\n",
       "      <td>120.589494</td>\n",
       "    </tr>\n",
       "    <tr>\n",
       "      <th>mean</th>\n",
       "      <td>0.944441</td>\n",
       "      <td>-27.090506</td>\n",
       "      <td>20.766596</td>\n",
       "    </tr>\n",
       "    <tr>\n",
       "      <th>Ratio</th>\n",
       "      <td>47.239219</td>\n",
       "      <td>-0.000000</td>\n",
       "      <td>120.589494</td>\n",
       "    </tr>\n",
       "  </tbody>\n",
       "</table>\n",
       "</div>"
      ],
      "text/plain": [
       "             std         min         max\n",
       "min     0.041527 -113.743307    1.000000\n",
       "max     1.961714    0.000000  120.589494\n",
       "mean    0.944441  -27.090506   20.766596\n",
       "Ratio  47.239219   -0.000000  120.589494"
      ]
     },
     "execution_count": 297,
     "metadata": {},
     "output_type": "execute_result"
    }
   ],
   "source": [
    "ratio=lambda a:a.max()/a.min()\n",
    "minmaxRatio=minmaxavgPCA.append(\n",
    "    pd.Series(list(map(ratio,[stdMinMaxPC,minMinMaxPC,maxMinMaxPC])),\n",
    "              index=[\"std\",\"min\",\"max\"],\n",
    "              name=\"Ratio\")\n",
    ")\n",
    "minmaxRatio"
   ]
  },
  {
   "cell_type": "markdown",
   "metadata": {
    "kernel": "Python3"
   },
   "source": [
    "### TODO:\n",
    "VOIR si scale les PC <br>"
   ]
  },
  {
   "cell_type": "code",
   "execution_count": 298,
   "metadata": {
    "kernel": "Python3"
   },
   "outputs": [
    {
     "data": {
      "text/plain": [
       "<matplotlib.axes._subplots.AxesSubplot at 0x7fcd63f23828>"
      ]
     },
     "execution_count": 298,
     "metadata": {},
     "output_type": "execute_result"
    },
    {
     "data": {
      "image/png": "[encoded data removed]",
      "text/plain": [
       "<matplotlib.figure.Figure at 0x7fcd784d6400>"
      ]
     },
     "metadata": {},
     "output_type": "display_data"
    }
   ],
   "source": [
    "dataPC.boxplot()"
   ]
  },
  {
   "cell_type": "markdown",
   "metadata": {
    "kernel": "Python3"
   },
   "source": [
    "un peu d'outlier A voir peux etre rapport avec fraudes"
   ]
  },
  {
   "cell_type": "markdown",
   "metadata": {
    "kernel": "Python3"
   },
   "source": [
    "#### TIME-AMOUNT-CLASS"
   ]
  },
  {
   "cell_type": "code",
   "execution_count": 299,
   "metadata": {
    "kernel": "Python3"
   },
   "outputs": [
    {
     "name": "stdout",
     "output_type": "stream",
     "text": [
      "<class 'pandas.core.frame.DataFrame'>\n",
      "Int64Index: 213605 entries, 17884 to 17677\n",
      "Data columns (total 2 columns):\n",
      "Time      213605 non-null float64\n",
      "Amount    213605 non-null float64\n",
      "dtypes: float64(2)\n",
      "memory usage: 4.9 MB\n"
     ]
    }
   ],
   "source": [
    "dataPasPC.info()"
   ]
  },
  {
   "cell_type": "markdown",
   "metadata": {
    "kernel": "Python3"
   },
   "source": [
    "Time et Amount Float a part Class int (binaire) "
   ]
  },
  {
   "cell_type": "markdown",
   "metadata": {
    "kernel": "Python3"
   },
   "source": [
    "On va inverser les classes <br>\n",
    "0 -> 1  <br>\n",
    "1 -> 0 <br>\n",
    "(Pour des questions de metrics (confusions MAtrix sensitivity and specitivity)"
   ]
  },
  {
   "cell_type": "code",
   "execution_count": 303,
   "metadata": {
    "kernel": "Python3"
   },
   "outputs": [],
   "source": [
    "dataClass=dataPasPC.Class"
   ]
  },
  {
   "cell_type": "code",
   "execution_count": 304,
   "metadata": {
    "kernel": "Python3"
   },
   "outputs": [],
   "source": [
    "dataClass=dataClass.map({0:NO_FRAUD,1:FRAUD})"
   ]
  },
  {
   "cell_type": "code",
   "execution_count": 305,
   "metadata": {
    "kernel": "Python3"
   },
   "outputs": [],
   "source": [
    "dataPasPcClass = dataPasPC[[\"Amount\",\"Time\"]]"
   ]
  },
  {
   "cell_type": "code",
   "execution_count": 306,
   "metadata": {
    "kernel": "Python3"
   },
   "outputs": [
    {
     "data": {
      "text/html": [
       "<div>\n",
       "<style scoped>\n",
       "    .dataframe tbody tr th:only-of-type {\n",
       "        vertical-align: middle;\n",
       "    }\n",
       "\n",
       "    .dataframe tbody tr th {\n",
       "        vertical-align: top;\n",
       "    }\n",
       "\n",
       "    .dataframe thead th {\n",
       "        text-align: right;\n",
       "    }\n",
       "</style>\n",
       "<table border=\"1\" class=\"dataframe\">\n",
       "  <thead>\n",
       "    <tr style=\"text-align: right;\">\n",
       "      <th></th>\n",
       "      <th>Amount</th>\n",
       "      <th>Time</th>\n",
       "    </tr>\n",
       "  </thead>\n",
       "  <tbody>\n",
       "    <tr>\n",
       "      <th>count</th>\n",
       "      <td>213605.000000</td>\n",
       "      <td>213605.000000</td>\n",
       "    </tr>\n",
       "    <tr>\n",
       "      <th>mean</th>\n",
       "      <td>88.216558</td>\n",
       "      <td>94891.076361</td>\n",
       "    </tr>\n",
       "    <tr>\n",
       "      <th>std</th>\n",
       "      <td>250.522258</td>\n",
       "      <td>47490.486692</td>\n",
       "    </tr>\n",
       "    <tr>\n",
       "      <th>min</th>\n",
       "      <td>0.000000</td>\n",
       "      <td>0.000000</td>\n",
       "    </tr>\n",
       "    <tr>\n",
       "      <th>25%</th>\n",
       "      <td>5.640000</td>\n",
       "      <td>54234.000000</td>\n",
       "    </tr>\n",
       "    <tr>\n",
       "      <th>50%</th>\n",
       "      <td>22.000000</td>\n",
       "      <td>84794.000000</td>\n",
       "    </tr>\n",
       "    <tr>\n",
       "      <th>75%</th>\n",
       "      <td>77.500000</td>\n",
       "      <td>139372.000000</td>\n",
       "    </tr>\n",
       "    <tr>\n",
       "      <th>max</th>\n",
       "      <td>25691.160000</td>\n",
       "      <td>172792.000000</td>\n",
       "    </tr>\n",
       "  </tbody>\n",
       "</table>\n",
       "</div>"
      ],
      "text/plain": [
       "              Amount           Time\n",
       "count  213605.000000  213605.000000\n",
       "mean       88.216558   94891.076361\n",
       "std       250.522258   47490.486692\n",
       "min         0.000000       0.000000\n",
       "25%         5.640000   54234.000000\n",
       "50%        22.000000   84794.000000\n",
       "75%        77.500000  139372.000000\n",
       "max     25691.160000  172792.000000"
      ]
     },
     "execution_count": 306,
     "metadata": {},
     "output_type": "execute_result"
    }
   ],
   "source": [
    "dataPasPcClass.describe()"
   ]
  },
  {
   "cell_type": "markdown",
   "metadata": {
    "kernel": "Python3"
   },
   "source": [
    "### TODO:\n",
    "std tres different (250 - 47500) ( X 190) -> scale <br>std tres different des PC (1) ( X 250 , X 47000)-> scale"
   ]
  },
  {
   "cell_type": "code",
   "execution_count": 307,
   "metadata": {
    "kernel": "Python3"
   },
   "outputs": [],
   "source": [
    "dataClass_vc=dataClass.value_counts"
   ]
  },
  {
   "cell_type": "code",
   "execution_count": 308,
   "metadata": {
    "kernel": "Python3"
   },
   "outputs": [
    {
     "data": {
      "text/html": [
       "<div>\n",
       "<style scoped>\n",
       "    .dataframe tbody tr th:only-of-type {\n",
       "        vertical-align: middle;\n",
       "    }\n",
       "\n",
       "    .dataframe tbody tr th {\n",
       "        vertical-align: top;\n",
       "    }\n",
       "\n",
       "    .dataframe thead th {\n",
       "        text-align: right;\n",
       "    }\n",
       "</style>\n",
       "<table border=\"1\" class=\"dataframe\">\n",
       "  <thead>\n",
       "    <tr style=\"text-align: right;\">\n",
       "      <th></th>\n",
       "      <th>Class</th>\n",
       "      <th>Class (normalize)</th>\n",
       "    </tr>\n",
       "  </thead>\n",
       "  <tbody>\n",
       "    <tr>\n",
       "      <th>0</th>\n",
       "      <td>213236</td>\n",
       "      <td>0.998273</td>\n",
       "    </tr>\n",
       "    <tr>\n",
       "      <th>1</th>\n",
       "      <td>369</td>\n",
       "      <td>0.001727</td>\n",
       "    </tr>\n",
       "  </tbody>\n",
       "</table>\n",
       "</div>"
      ],
      "text/plain": [
       "    Class  Class (normalize)\n",
       "0  213236           0.998273\n",
       "1     369           0.001727"
      ]
     },
     "execution_count": 308,
     "metadata": {},
     "output_type": "execute_result"
    }
   ],
   "source": [
    "dataClass_vcDF=pd.concat([dataClass_vc(),dataClass_vc(normalize=T)],\n",
    "                         axis=1,\n",
    "                         keys=[\"Class\",\"Class (normalize)\"]\n",
    "                        )\n",
    "dataClass_vcDF"
   ]
  },
  {
   "cell_type": "markdown",
   "metadata": {
    "kernel": "Python3"
   },
   "source": [
    "Comme prevu tres déséquilibré"
   ]
  },
  {
   "cell_type": "markdown",
   "metadata": {
    "kernel": "Python3"
   },
   "source": [
    "Si on met que la classe 0 (donc pas de fraude) on a 99.8 % d'accuracy"
   ]
  },
  {
   "cell_type": "markdown",
   "metadata": {
    "kernel": "Python3"
   },
   "source": [
    "#### DUMMY"
   ]
  },
  {
   "cell_type": "code",
   "execution_count": 310,
   "metadata": {
    "kernel": "Python3"
   },
   "outputs": [
    {
     "data": {
      "text/plain": [
       "0.99827251234755743"
      ]
     },
     "execution_count": 310,
     "metadata": {},
     "output_type": "execute_result"
    }
   ],
   "source": [
    "baseline_dummy=dataClass_vcDF.iloc[0,1]\n",
    "baseline_dummy"
   ]
  },
  {
   "cell_type": "markdown",
   "metadata": {
    "kernel": "Python3"
   },
   "source": [
    "##### AUC\n",
    "Si on fait AUPRC <a href=\"https://machinelearningmastery.com/roc-curves-and-precision-recall-curves-for-classification-in-python/\">Why ?</a>"
   ]
  },
  {
   "cell_type": "code",
   "execution_count": 350,
   "metadata": {
    "kernel": "Python3"
   },
   "outputs": [],
   "source": [
    "#https://machinelearningmastery.com/roc-curves-and-precision-recall-curves-for-classification-in-python/\n",
    "#AUCPR -> dOIT ETRE UTILISÉ SI classe déséquilibré\n",
    "def AUCPRC(testy, probs,plot=F,withAUC=F,withACC=F,withSS=F):\n",
    "    '''\n",
    "    AUCPRC(\n",
    "        true_labels [n_samples] ,\n",
    "        probas [n_samples] ou decision function,\n",
    "        plot=F\n",
    "    )\n",
    "    '''\n",
    "    precision, recall, thresholds = precision_recall_curve(testy, probs)\n",
    "    if plot:\n",
    "        plt.plot([0, 1], [0.1, 0.1], linestyle='--')\n",
    "        # plot the roc curve for the model\n",
    "        plt.plot(recall, precision, marker='.')\n",
    "        # show the plot\n",
    "        plt.show()\n",
    "    res = [(\"aucprc\",auc(recall,precision))]\n",
    "    if withAUC:\n",
    "        res+=[(\"auc\",roc_auc_score(testy, probs))]\n",
    "    if withACC:\n",
    "        cm=confusion_matrix(testy, probs)\n",
    "        res+=[(\"acc\",max(sum(np.diag(cm)),sum(np.diag(cm[::-1])))/np.sum(cm))]\n",
    "    if withSS:\n",
    "        ss=sensitivity_specificity(testy,probs)\n",
    "        res+=list(zip(ss.columns.tolist(),ss.values.tolist()[0]))\n",
    "    return res"
   ]
  },
  {
   "cell_type": "code",
   "execution_count": 351,
   "metadata": {
    "kernel": "Python3"
   },
   "outputs": [],
   "source": [
    "metrics=lambda a,b:AUCPRC(a,b,withACC=T,withAUC=T,withSS=T)"
   ]
  },
  {
   "cell_type": "code",
   "execution_count": 352,
   "metadata": {
    "kernel": "Python3"
   },
   "outputs": [],
   "source": [
    "dummyClass=[FRAUD]*dataShape[0]"
   ]
  },
  {
   "cell_type": "code",
   "execution_count": 353,
   "metadata": {
    "kernel": "Python3"
   },
   "outputs": [
    {
     "data": {
      "text/plain": [
       "[('aucprc', 0.50086374382622134),\n",
       " ('auc', 0.5),\n",
       " ('acc', 0.99827251234755743),\n",
       " ('sensitivity', 0.0),\n",
       " ('specificity', 1.0)]"
      ]
     },
     "execution_count": 353,
     "metadata": {},
     "output_type": "execute_result"
    }
   ],
   "source": [
    "metricsDummy=metrics(dataClass,dummyClass)\n",
    "metricsDummy"
   ]
  },
  {
   "cell_type": "markdown",
   "metadata": {
    "kernel": "Python3"
   },
   "source": [
    "pour l'instant quasiment pareil AUC ET AUCPRC "
   ]
  },
  {
   "cell_type": "code",
   "execution_count": 354,
   "metadata": {
    "kernel": "Python3"
   },
   "outputs": [
    {
     "data": {
      "text/plain": [
       "0.50086374382622134"
      ]
     },
     "execution_count": 354,
     "metadata": {},
     "output_type": "execute_result"
    }
   ],
   "source": [
    "baselineAUCPRC=metricsDummy[0][1]\n",
    "baselineAUCPRC"
   ]
  },
  {
   "cell_type": "code",
   "execution_count": 355,
   "metadata": {
    "kernel": "Python3"
   },
   "outputs": [
    {
     "data": {
      "text/html": [
       "<div>\n",
       "<style scoped>\n",
       "    .dataframe tbody tr th:only-of-type {\n",
       "        vertical-align: middle;\n",
       "    }\n",
       "\n",
       "    .dataframe tbody tr th {\n",
       "        vertical-align: top;\n",
       "    }\n",
       "\n",
       "    .dataframe thead th {\n",
       "        text-align: right;\n",
       "    }\n",
       "</style>\n",
       "<table border=\"1\" class=\"dataframe\">\n",
       "  <thead>\n",
       "    <tr style=\"text-align: right;\">\n",
       "      <th>metrics</th>\n",
       "      <th>aucprc</th>\n",
       "      <th>auc</th>\n",
       "      <th>acc</th>\n",
       "      <th>sensitivity</th>\n",
       "      <th>specificity</th>\n",
       "    </tr>\n",
       "  </thead>\n",
       "  <tbody>\n",
       "    <tr>\n",
       "      <th>Dummy</th>\n",
       "      <td>0.500864</td>\n",
       "      <td>0.5</td>\n",
       "      <td>0.998273</td>\n",
       "      <td>0.0</td>\n",
       "      <td>1.0</td>\n",
       "    </tr>\n",
       "  </tbody>\n",
       "</table>\n",
       "</div>"
      ],
      "text/plain": [
       "metrics    aucprc  auc       acc  sensitivity  specificity\n",
       "Dummy    0.500864  0.5  0.998273          0.0          1.0"
      ]
     },
     "execution_count": 355,
     "metadata": {},
     "output_type": "execute_result"
    }
   ],
   "source": [
    "dummyMetrics=pd.DataFrame.from_records(metricsDummy,columns=[\"metrics\",\"Dummy\"],index=\"metrics\").T\n",
    "dummyMetrics"
   ]
  },
  {
   "cell_type": "markdown",
   "metadata": {
    "kernel": "Python3"
   },
   "source": [
    "### Scale"
   ]
  },
  {
   "cell_type": "code",
   "execution_count": 367,
   "metadata": {
    "kernel": "Python3"
   },
   "outputs": [],
   "source": [
    "_dataScale = scale(XTrain)"
   ]
  },
  {
   "cell_type": "code",
   "execution_count": 368,
   "metadata": {
    "kernel": "Python3",
    "scrolled": true
   },
   "outputs": [],
   "source": [
    "dataScale=pd.DataFrame(_dataScale,columns=XTrain.columns)"
   ]
  },
  {
   "cell_type": "code",
   "execution_count": 369,
   "metadata": {
    "kernel": "Python3"
   },
   "outputs": [
    {
     "data": {
      "image/png": "[encoded data removed]",
      "text/plain": [
       "<matplotlib.figure.Figure at 0x7fcd7520d630>"
      ]
     },
     "metadata": {},
     "output_type": "display_data"
    }
   ],
   "source": [
    "dataScale.plot(\"V1\",\"V2\",color=dataClass.map({0:\"red\",1:\"blue\"}).tolist());"
   ]
  },
  {
   "cell_type": "markdown",
   "metadata": {
    "kernel": "Python3"
   },
   "source": [
    "on voit pas la fraude pas de blue"
   ]
  },
  {
   "cell_type": "code",
   "execution_count": 370,
   "metadata": {
    "kernel": "Python3"
   },
   "outputs": [
    {
     "data": {
      "text/plain": [
       "<matplotlib.axes._subplots.AxesSubplot at 0x7fcd63df60b8>"
      ]
     },
     "execution_count": 370,
     "metadata": {},
     "output_type": "execute_result"
    },
    {
     "data": {
      "image/png": "[encoded data removed]",
      "text/plain": [
       "<matplotlib.figure.Figure at 0x7fcd7520d550>"
      ]
     },
     "metadata": {},
     "output_type": "display_data"
    }
   ],
   "source": [
    "dataScale.boxplot()"
   ]
  },
  {
   "cell_type": "markdown",
   "metadata": {
    "kernel": "Python3"
   },
   "source": [
    "\"bcp d'outlier\""
   ]
  },
  {
   "cell_type": "markdown",
   "metadata": {
    "kernel": "Python3"
   },
   "source": [
    "Check Missing, Collinear, and more With FeatureSelector Pkg [more ? ](https://towardsdatascience.com/a-feature-selection-tool-for-machine-learning-in-python-b64dd23710f0)"
   ]
  },
  {
   "cell_type": "code",
   "execution_count": 482,
   "metadata": {
    "kernel": "Python3"
   },
   "outputs": [],
   "source": [
    "fsDataScale = FeatureSelector(data = dataScale, labels=YTrain)"
   ]
  },
  {
   "cell_type": "code",
   "execution_count": 408,
   "metadata": {
    "kernel": "Python3"
   },
   "outputs": [
    {
     "name": "stdout",
     "output_type": "stream",
     "text": [
      "0 features with greater than 0.00 missing values.\n",
      "\n"
     ]
    }
   ],
   "source": [
    "fsDataScale.identify_missing(missing_threshold=0)"
   ]
  },
  {
   "cell_type": "code",
   "execution_count": 385,
   "metadata": {
    "kernel": "Python3"
   },
   "outputs": [
    {
     "name": "stdout",
     "output_type": "stream",
     "text": [
      "0 features with a single unique value.\n",
      "\n"
     ]
    }
   ],
   "source": [
    "fsDataScale.identify_single_unique()"
   ]
  },
  {
   "cell_type": "markdown",
   "metadata": {
    "kernel": "Python3"
   },
   "source": [
    "On va mettre 0.8 [Why ?](https://medium.com/@Saslow/collinearity-what-it-means-why-its-bad-and-how-does-it-affect-other-models-94e1db984168)"
   ]
  },
  {
   "cell_type": "code",
   "execution_count": 425,
   "metadata": {
    "kernel": "Python3"
   },
   "outputs": [
    {
     "name": "stdout",
     "output_type": "stream",
     "text": [
      "0 features with a correlation magnitude greater than 0.80.\n",
      "\n"
     ]
    }
   ],
   "source": [
    "fsDataScale.identify_collinear(correlation_threshold=0.8)\n",
    "#fsDataScale.plot_collinear()"
   ]
  },
  {
   "cell_type": "markdown",
   "metadata": {
    "kernel": "Python3"
   },
   "source": [
    " finds features that have zero importance according to a gradient boosting machine (GBM)"
   ]
  },
  {
   "cell_type": "markdown",
   "metadata": {
    "kernel": "Python3"
   },
   "source": [
    "### TODO\n",
    "Comme ce sont des données pas equilibrés, on dois faire la feature selection en meme temps que le cv ([why?](http://www.alfredo.motta.name/cross-validation-done-wrong/)) (ptretre faire comme featureSelector [how ? ](https://github.com/WillKoehrsen/feature-selector/blob/c3943e547d0d43f4d3d41b8eb72c9aad26a1b2eb/feature_selector/feature_selector.py#L229) )"
   ]
  },
  {
   "cell_type": "markdown",
   "metadata": {
    "kernel": "Python3"
   },
   "source": [
    "je vais faire l'oversampling de la classe minoritaire Dans la cross Validation pour avoir des featues importance <br>\n",
    "[why ?](http://www.alfredo.motta.name/cross-validation-done-wrong/)"
   ]
  },
  {
   "cell_type": "code",
   "execution_count": 507,
   "metadata": {
    "kernel": "Python3"
   },
   "outputs": [],
   "source": [
    "aucprc=lambda y_true, y_pred:tuple(list(AUCPRC(y_true,y_pred)[0])+[T])"
   ]
  },
  {
   "cell_type": "markdown",
   "metadata": {
    "kernel": "Python3"
   },
   "source": [
    "on va reperer les bonnes/mauvaise features avec du gradient boosting (Descente Du gradient + Boosting (plusieurs arbres \"faibles\" combinner (ponderé) ))"
   ]
  },
  {
   "cell_type": "code",
   "execution_count": 522,
   "metadata": {
    "kernel": "Python3"
   },
   "outputs": [],
   "source": [
    "def identify_feat_imp(self,n_splits=10):\n",
    "    data=self.data\n",
    "    dataClass=self.labels\n",
    "    skf=StratifiedKFold(n_splits=n_splits,random_state=42,shuffle=T)\n",
    "    feature_names=list(data.columns)\n",
    "    feature_importance_values = np.zeros(len(feature_names))\n",
    "    scores = np.zeros(n_splits)\n",
    "    for i,(train_index, test_index) in enumerate(skf.split(data, dataClass)):\n",
    "        X_train, X_test = data.iloc[train_index], data.iloc[test_index]\n",
    "        y_train, y_test = dataClass.iloc[train_index], dataClass.iloc[test_index]\n",
    "        sm = SMOTE()\n",
    "        X, y = sm.fit_sample(X_train, y_train)\n",
    "        model = lgb.LGBMClassifier(n_estimators=500, learning_rate = 0.05, verbose = 1,n_jobs=-1)\n",
    "        model.fit(X, y, eval_metric = aucprc,\n",
    "                          eval_set = [(X_test, y_test)],\n",
    "                          early_stopping_rounds = 10, verbose = 1)\n",
    "        #POUR LGBMClassif VOIR TODO : \n",
    "        #voir importance_type (string, optional (default='split')) \n",
    "        #– The type of feature importance to be filled into feature_importances_.\n",
    "        #If ‘split’, result contains numbers of times the feature is used in a model. \n",
    "        #If ‘gain’, result contains total gains of splits which use the feature.\n",
    "        scores[i]=AUCPRC(y_test,model.predict(X_test))[0][1]\n",
    "        feature_importance_values += model.feature_importances_ / n_splits\n",
    "    feature_importances = pd.DataFrame({'feature': feature_names, 'importance': feature_importance_values})\n",
    "\n",
    "    # Sort features according to importance\n",
    "    feature_importances = feature_importances.sort_values('importance', ascending = False).reset_index(drop = True)\n",
    "\n",
    "    # Normalize the feature importances to add up to one\n",
    "    feature_importances['normalized_importance'] = feature_importances['importance'] / feature_importances['importance'].sum()\n",
    "    feature_importances['cumulative_importance'] = np.cumsum(feature_importances['normalized_importance'])\n",
    "\n",
    "    # Extract the features with zero importance\n",
    "    record_zero_importance = feature_importances[feature_importances['importance'] == 0.0]\n",
    "\n",
    "    to_drop = list(record_zero_importance['feature'])\n",
    "    self.feature_importances = feature_importances\n",
    "    self.record_zero_importance = record_zero_importance\n",
    "    self.ops['zero_importance'] = to_drop\n",
    "    self.scores=scores\n",
    "    print('\\n%d features with zero importance after one-hot encoding.\\n' % len(self.ops['zero_importance']))"
   ]
  },
  {
   "cell_type": "code",
   "execution_count": 523,
   "metadata": {
    "kernel": "Python3"
   },
   "outputs": [],
   "source": [
    "FeatureSelector.identify_feat_imp=identify_feat_imp"
   ]
  },
  {
   "cell_type": "code",
   "execution_count": 524,
   "metadata": {
    "kernel": "Python3",
    "scrolled": true
   },
   "outputs": [
    {
     "name": "stdout",
     "output_type": "stream",
     "text": [
      "[1]\tvalid_0's binary_logloss: 0.649029\tvalid_0's aucprc: 0.67549\n",
      "Training until validation scores don't improve for 10 rounds.\n",
      "[2]\tvalid_0's binary_logloss: 0.609047\tvalid_0's aucprc: 0.686269\n",
      "[3]\tvalid_0's binary_logloss: 0.572707\tvalid_0's aucprc: 0.687124\n",
      "[4]\tvalid_0's binary_logloss: 0.539426\tvalid_0's aucprc: 0.687366\n",
      "[5]\tvalid_0's binary_logloss: 0.508694\tvalid_0's aucprc: 0.713251\n",
      "[6]\tvalid_0's binary_logloss: 0.480342\tvalid_0's aucprc: 0.714085\n",
      "[7]\tvalid_0's binary_logloss: 0.454159\tvalid_0's aucprc: 0.71361\n",
      "[8]\tvalid_0's binary_logloss: 0.42988\tvalid_0's aucprc: 0.713301\n",
      "[9]\tvalid_0's binary_logloss: 0.407353\tvalid_0's aucprc: 0.713111\n",
      "[10]\tvalid_0's binary_logloss: 0.38646\tvalid_0's aucprc: 0.712983\n",
      "[11]\tvalid_0's binary_logloss: 0.367037\tvalid_0's aucprc: 0.712825\n",
      "[12]\tvalid_0's binary_logloss: 0.348817\tvalid_0's aucprc: 0.719502\n",
      "[13]\tvalid_0's binary_logloss: 0.331675\tvalid_0's aucprc: 0.802991\n",
      "[14]\tvalid_0's binary_logloss: 0.315662\tvalid_0's aucprc: 0.803219\n",
      "[15]\tvalid_0's binary_logloss: 0.300701\tvalid_0's aucprc: 0.802973\n",
      "[16]\tvalid_0's binary_logloss: 0.286773\tvalid_0's aucprc: 0.804627\n",
      "[17]\tvalid_0's binary_logloss: 0.273456\tvalid_0's aucprc: 0.805084\n",
      "[18]\tvalid_0's binary_logloss: 0.26105\tvalid_0's aucprc: 0.805209\n",
      "[19]\tvalid_0's binary_logloss: 0.249337\tvalid_0's aucprc: 0.805035\n",
      "[20]\tvalid_0's binary_logloss: 0.238442\tvalid_0's aucprc: 0.805478\n",
      "[21]\tvalid_0's binary_logloss: 0.22806\tvalid_0's aucprc: 0.805762\n",
      "[22]\tvalid_0's binary_logloss: 0.218263\tvalid_0's aucprc: 0.805422\n",
      "[23]\tvalid_0's binary_logloss: 0.208959\tvalid_0's aucprc: 0.806186\n",
      "[24]\tvalid_0's binary_logloss: 0.200135\tvalid_0's aucprc: 0.806517\n",
      "[25]\tvalid_0's binary_logloss: 0.191939\tvalid_0's aucprc: 0.807106\n",
      "[26]\tvalid_0's binary_logloss: 0.184193\tvalid_0's aucprc: 0.807385\n",
      "[27]\tvalid_0's binary_logloss: 0.176776\tvalid_0's aucprc: 0.807713\n",
      "[28]\tvalid_0's binary_logloss: 0.169832\tvalid_0's aucprc: 0.807993\n",
      "[29]\tvalid_0's binary_logloss: 0.163271\tvalid_0's aucprc: 0.807792\n",
      "[30]\tvalid_0's binary_logloss: 0.156998\tvalid_0's aucprc: 0.808224\n",
      "[31]\tvalid_0's binary_logloss: 0.150861\tvalid_0's aucprc: 0.808047\n",
      "[32]\tvalid_0's binary_logloss: 0.145126\tvalid_0's aucprc: 0.807927\n",
      "[33]\tvalid_0's binary_logloss: 0.13971\tvalid_0's aucprc: 0.808849\n",
      "[34]\tvalid_0's binary_logloss: 0.134446\tvalid_0's aucprc: 0.808833\n",
      "[35]\tvalid_0's binary_logloss: 0.129489\tvalid_0's aucprc: 0.801811\n",
      "[36]\tvalid_0's binary_logloss: 0.124763\tvalid_0's aucprc: 0.803252\n",
      "[37]\tvalid_0's binary_logloss: 0.120241\tvalid_0's aucprc: 0.803264\n",
      "[38]\tvalid_0's binary_logloss: 0.1159\tvalid_0's aucprc: 0.803553\n",
      "[39]\tvalid_0's binary_logloss: 0.11174\tvalid_0's aucprc: 0.803493\n",
      "[40]\tvalid_0's binary_logloss: 0.10782\tvalid_0's aucprc: 0.803571\n",
      "[41]\tvalid_0's binary_logloss: 0.104109\tvalid_0's aucprc: 0.803714\n",
      "[42]\tvalid_0's binary_logloss: 0.100586\tvalid_0's aucprc: 0.804005\n",
      "[43]\tvalid_0's binary_logloss: 0.0971585\tvalid_0's aucprc: 0.804445\n",
      "Early stopping, best iteration is:\n",
      "[33]\tvalid_0's binary_logloss: 0.13971\tvalid_0's aucprc: 0.808849\n",
      "[1]\tvalid_0's binary_logloss: 0.649648\tvalid_0's aucprc: 0.783003\n",
      "Training until validation scores don't improve for 10 rounds.\n",
      "[2]\tvalid_0's binary_logloss: 0.610109\tvalid_0's aucprc: 0.789797\n",
      "[3]\tvalid_0's binary_logloss: 0.573963\tvalid_0's aucprc: 0.789991\n",
      "[4]\tvalid_0's binary_logloss: 0.540897\tvalid_0's aucprc: 0.790387\n",
      "[5]\tvalid_0's binary_logloss: 0.510509\tvalid_0's aucprc: 0.790387\n",
      "[6]\tvalid_0's binary_logloss: 0.482389\tvalid_0's aucprc: 0.848065\n",
      "[7]\tvalid_0's binary_logloss: 0.456774\tvalid_0's aucprc: 0.849791\n",
      "[8]\tvalid_0's binary_logloss: 0.432844\tvalid_0's aucprc: 0.849449\n",
      "[9]\tvalid_0's binary_logloss: 0.410788\tvalid_0's aucprc: 0.852691\n",
      "[10]\tvalid_0's binary_logloss: 0.390072\tvalid_0's aucprc: 0.852666\n",
      "[11]\tvalid_0's binary_logloss: 0.3708\tvalid_0's aucprc: 0.85196\n",
      "[12]\tvalid_0's binary_logloss: 0.352958\tvalid_0's aucprc: 0.851781\n",
      "[13]\tvalid_0's binary_logloss: 0.336113\tvalid_0's aucprc: 0.850167\n",
      "[14]\tvalid_0's binary_logloss: 0.320197\tvalid_0's aucprc: 0.848301\n",
      "[15]\tvalid_0's binary_logloss: 0.305368\tvalid_0's aucprc: 0.847433\n",
      "[16]\tvalid_0's binary_logloss: 0.291385\tvalid_0's aucprc: 0.868461\n",
      "[17]\tvalid_0's binary_logloss: 0.278068\tvalid_0's aucprc: 0.881005\n",
      "[18]\tvalid_0's binary_logloss: 0.265788\tvalid_0's aucprc: 0.882526\n",
      "[19]\tvalid_0's binary_logloss: 0.254139\tvalid_0's aucprc: 0.881816\n",
      "[20]\tvalid_0's binary_logloss: 0.243231\tvalid_0's aucprc: 0.882621\n",
      "[21]\tvalid_0's binary_logloss: 0.233031\tvalid_0's aucprc: 0.883326\n",
      "[22]\tvalid_0's binary_logloss: 0.223405\tvalid_0's aucprc: 0.88965\n",
      "[23]\tvalid_0's binary_logloss: 0.2142\tvalid_0's aucprc: 0.889427\n",
      "[24]\tvalid_0's binary_logloss: 0.205341\tvalid_0's aucprc: 0.889776\n",
      "[25]\tvalid_0's binary_logloss: 0.196965\tvalid_0's aucprc: 0.889417\n",
      "[26]\tvalid_0's binary_logloss: 0.189054\tvalid_0's aucprc: 0.888065\n",
      "[27]\tvalid_0's binary_logloss: 0.181484\tvalid_0's aucprc: 0.891239\n",
      "[28]\tvalid_0's binary_logloss: 0.17436\tvalid_0's aucprc: 0.889515\n",
      "[29]\tvalid_0's binary_logloss: 0.167724\tvalid_0's aucprc: 0.88978\n",
      "[30]\tvalid_0's binary_logloss: 0.16147\tvalid_0's aucprc: 0.886366\n",
      "[31]\tvalid_0's binary_logloss: 0.15536\tvalid_0's aucprc: 0.888019\n",
      "[32]\tvalid_0's binary_logloss: 0.149553\tvalid_0's aucprc: 0.89258\n",
      "[33]\tvalid_0's binary_logloss: 0.144014\tvalid_0's aucprc: 0.889638\n",
      "[34]\tvalid_0's binary_logloss: 0.138784\tvalid_0's aucprc: 0.893046\n",
      "[35]\tvalid_0's binary_logloss: 0.13378\tvalid_0's aucprc: 0.891635\n",
      "[36]\tvalid_0's binary_logloss: 0.128828\tvalid_0's aucprc: 0.889481\n",
      "[37]\tvalid_0's binary_logloss: 0.12425\tvalid_0's aucprc: 0.891551\n",
      "[38]\tvalid_0's binary_logloss: 0.119678\tvalid_0's aucprc: 0.892086\n",
      "[39]\tvalid_0's binary_logloss: 0.115539\tvalid_0's aucprc: 0.892682\n",
      "[40]\tvalid_0's binary_logloss: 0.111535\tvalid_0's aucprc: 0.89314\n",
      "[41]\tvalid_0's binary_logloss: 0.107769\tvalid_0's aucprc: 0.891527\n",
      "[42]\tvalid_0's binary_logloss: 0.104119\tvalid_0's aucprc: 0.891414\n",
      "[43]\tvalid_0's binary_logloss: 0.100772\tvalid_0's aucprc: 0.891999\n",
      "[44]\tvalid_0's binary_logloss: 0.0973648\tvalid_0's aucprc: 0.892502\n",
      "[45]\tvalid_0's binary_logloss: 0.0942053\tvalid_0's aucprc: 0.892587\n",
      "[46]\tvalid_0's binary_logloss: 0.0910063\tvalid_0's aucprc: 0.892887\n",
      "[47]\tvalid_0's binary_logloss: 0.0881391\tvalid_0's aucprc: 0.890693\n",
      "[48]\tvalid_0's binary_logloss: 0.0853517\tvalid_0's aucprc: 0.891891\n",
      "[49]\tvalid_0's binary_logloss: 0.0826065\tvalid_0's aucprc: 0.892683\n",
      "[50]\tvalid_0's binary_logloss: 0.080029\tvalid_0's aucprc: 0.892589\n",
      "Early stopping, best iteration is:\n",
      "[40]\tvalid_0's binary_logloss: 0.111535\tvalid_0's aucprc: 0.89314\n",
      "[1]\tvalid_0's binary_logloss: 0.648747\tvalid_0's aucprc: 0.565554\n",
      "Training until validation scores don't improve for 10 rounds.\n",
      "[2]\tvalid_0's binary_logloss: 0.608671\tvalid_0's aucprc: 0.60116\n",
      "[3]\tvalid_0's binary_logloss: 0.572178\tvalid_0's aucprc: 0.600316\n",
      "[4]\tvalid_0's binary_logloss: 0.538702\tvalid_0's aucprc: 0.598538\n",
      "[5]\tvalid_0's binary_logloss: 0.507949\tvalid_0's aucprc: 0.599226\n",
      "[6]\tvalid_0's binary_logloss: 0.47954\tvalid_0's aucprc: 0.600116\n",
      "[7]\tvalid_0's binary_logloss: 0.453393\tvalid_0's aucprc: 0.600575\n",
      "[8]\tvalid_0's binary_logloss: 0.429092\tvalid_0's aucprc: 0.600025\n",
      "[9]\tvalid_0's binary_logloss: 0.406517\tvalid_0's aucprc: 0.600261\n",
      "[10]\tvalid_0's binary_logloss: 0.385692\tvalid_0's aucprc: 0.621571\n",
      "[11]\tvalid_0's binary_logloss: 0.366268\tvalid_0's aucprc: 0.617268\n",
      "[12]\tvalid_0's binary_logloss: 0.348242\tvalid_0's aucprc: 0.693815\n",
      "[13]\tvalid_0's binary_logloss: 0.331106\tvalid_0's aucprc: 0.693324\n",
      "[14]\tvalid_0's binary_logloss: 0.315099\tvalid_0's aucprc: 0.695938\n",
      "[15]\tvalid_0's binary_logloss: 0.300021\tvalid_0's aucprc: 0.697134\n",
      "[16]\tvalid_0's binary_logloss: 0.285866\tvalid_0's aucprc: 0.696758\n",
      "[17]\tvalid_0's binary_logloss: 0.27278\tvalid_0's aucprc: 0.696468\n",
      "[18]\tvalid_0's binary_logloss: 0.260369\tvalid_0's aucprc: 0.69742\n",
      "[19]\tvalid_0's binary_logloss: 0.248826\tvalid_0's aucprc: 0.697276\n",
      "[20]\tvalid_0's binary_logloss: 0.237687\tvalid_0's aucprc: 0.697672\n",
      "[21]\tvalid_0's binary_logloss: 0.227305\tvalid_0's aucprc: 0.695312\n",
      "[22]\tvalid_0's binary_logloss: 0.217217\tvalid_0's aucprc: 0.691227\n",
      "[23]\tvalid_0's binary_logloss: 0.207815\tvalid_0's aucprc: 0.697307\n",
      "[24]\tvalid_0's binary_logloss: 0.198907\tvalid_0's aucprc: 0.696451\n",
      "[25]\tvalid_0's binary_logloss: 0.190475\tvalid_0's aucprc: 0.699264\n"
     ]
    },
    {
     "name": "stdout",
     "output_type": "stream",
     "text": [
      "[26]\tvalid_0's binary_logloss: 0.182408\tvalid_0's aucprc: 0.6996\n",
      "[27]\tvalid_0's binary_logloss: 0.174847\tvalid_0's aucprc: 0.719212\n",
      "[28]\tvalid_0's binary_logloss: 0.167803\tvalid_0's aucprc: 0.719336\n",
      "[29]\tvalid_0's binary_logloss: 0.160903\tvalid_0's aucprc: 0.718967\n",
      "[30]\tvalid_0's binary_logloss: 0.154527\tvalid_0's aucprc: 0.722953\n",
      "[31]\tvalid_0's binary_logloss: 0.148473\tvalid_0's aucprc: 0.724803\n",
      "[32]\tvalid_0's binary_logloss: 0.142626\tvalid_0's aucprc: 0.724207\n",
      "[33]\tvalid_0's binary_logloss: 0.137112\tvalid_0's aucprc: 0.72417\n",
      "[34]\tvalid_0's binary_logloss: 0.131876\tvalid_0's aucprc: 0.724234\n",
      "[35]\tvalid_0's binary_logloss: 0.127025\tvalid_0's aucprc: 0.723282\n",
      "[36]\tvalid_0's binary_logloss: 0.12232\tvalid_0's aucprc: 0.723017\n",
      "[37]\tvalid_0's binary_logloss: 0.117749\tvalid_0's aucprc: 0.723173\n",
      "[38]\tvalid_0's binary_logloss: 0.113469\tvalid_0's aucprc: 0.72137\n",
      "[39]\tvalid_0's binary_logloss: 0.109478\tvalid_0's aucprc: 0.720929\n",
      "[40]\tvalid_0's binary_logloss: 0.105533\tvalid_0's aucprc: 0.721055\n",
      "[41]\tvalid_0's binary_logloss: 0.101819\tvalid_0's aucprc: 0.7225\n",
      "Early stopping, best iteration is:\n",
      "[31]\tvalid_0's binary_logloss: 0.148473\tvalid_0's aucprc: 0.724803\n",
      "[1]\tvalid_0's binary_logloss: 0.649192\tvalid_0's aucprc: 0.68037\n",
      "Training until validation scores don't improve for 10 rounds.\n",
      "[2]\tvalid_0's binary_logloss: 0.60944\tvalid_0's aucprc: 0.683514\n",
      "[3]\tvalid_0's binary_logloss: 0.572987\tvalid_0's aucprc: 0.701504\n",
      "[4]\tvalid_0's binary_logloss: 0.539784\tvalid_0's aucprc: 0.702054\n",
      "[5]\tvalid_0's binary_logloss: 0.509066\tvalid_0's aucprc: 0.702737\n",
      "[6]\tvalid_0's binary_logloss: 0.48081\tvalid_0's aucprc: 0.703477\n",
      "[7]\tvalid_0's binary_logloss: 0.454831\tvalid_0's aucprc: 0.703622\n",
      "[8]\tvalid_0's binary_logloss: 0.430753\tvalid_0's aucprc: 0.703817\n",
      "[9]\tvalid_0's binary_logloss: 0.408337\tvalid_0's aucprc: 0.704425\n",
      "[10]\tvalid_0's binary_logloss: 0.38735\tvalid_0's aucprc: 0.704838\n",
      "[11]\tvalid_0's binary_logloss: 0.367747\tvalid_0's aucprc: 0.705382\n",
      "[12]\tvalid_0's binary_logloss: 0.349534\tvalid_0's aucprc: 0.706339\n",
      "[13]\tvalid_0's binary_logloss: 0.332476\tvalid_0's aucprc: 0.707039\n",
      "[14]\tvalid_0's binary_logloss: 0.316446\tvalid_0's aucprc: 0.707306\n",
      "[15]\tvalid_0's binary_logloss: 0.30157\tvalid_0's aucprc: 0.707548\n",
      "[16]\tvalid_0's binary_logloss: 0.287463\tvalid_0's aucprc: 0.708037\n",
      "[17]\tvalid_0's binary_logloss: 0.274232\tvalid_0's aucprc: 0.707598\n",
      "[18]\tvalid_0's binary_logloss: 0.26179\tvalid_0's aucprc: 0.707079\n",
      "[19]\tvalid_0's binary_logloss: 0.250044\tvalid_0's aucprc: 0.706801\n",
      "[20]\tvalid_0's binary_logloss: 0.239016\tvalid_0's aucprc: 0.706577\n",
      "[21]\tvalid_0's binary_logloss: 0.228781\tvalid_0's aucprc: 0.705863\n",
      "[22]\tvalid_0's binary_logloss: 0.218781\tvalid_0's aucprc: 0.70561\n",
      "[23]\tvalid_0's binary_logloss: 0.20952\tvalid_0's aucprc: 0.705826\n",
      "[24]\tvalid_0's binary_logloss: 0.200613\tvalid_0's aucprc: 0.725616\n",
      "[25]\tvalid_0's binary_logloss: 0.192224\tvalid_0's aucprc: 0.726425\n",
      "[26]\tvalid_0's binary_logloss: 0.184452\tvalid_0's aucprc: 0.747396\n",
      "[27]\tvalid_0's binary_logloss: 0.177055\tvalid_0's aucprc: 0.747692\n",
      "[28]\tvalid_0's binary_logloss: 0.170119\tvalid_0's aucprc: 0.747673\n",
      "[29]\tvalid_0's binary_logloss: 0.163464\tvalid_0's aucprc: 0.747215\n",
      "[30]\tvalid_0's binary_logloss: 0.157099\tvalid_0's aucprc: 0.74795\n",
      "[31]\tvalid_0's binary_logloss: 0.151097\tvalid_0's aucprc: 0.74776\n",
      "[32]\tvalid_0's binary_logloss: 0.145403\tvalid_0's aucprc: 0.746611\n",
      "[33]\tvalid_0's binary_logloss: 0.139855\tvalid_0's aucprc: 0.747719\n",
      "[34]\tvalid_0's binary_logloss: 0.134678\tvalid_0's aucprc: 0.74753\n",
      "[35]\tvalid_0's binary_logloss: 0.129718\tvalid_0's aucprc: 0.748187\n",
      "[36]\tvalid_0's binary_logloss: 0.12491\tvalid_0's aucprc: 0.817505\n",
      "[37]\tvalid_0's binary_logloss: 0.120401\tvalid_0's aucprc: 0.821219\n",
      "[38]\tvalid_0's binary_logloss: 0.116111\tvalid_0's aucprc: 0.821853\n",
      "[39]\tvalid_0's binary_logloss: 0.11208\tvalid_0's aucprc: 0.823769\n",
      "[40]\tvalid_0's binary_logloss: 0.108027\tvalid_0's aucprc: 0.824621\n",
      "[41]\tvalid_0's binary_logloss: 0.104264\tvalid_0's aucprc: 0.824606\n",
      "[42]\tvalid_0's binary_logloss: 0.100672\tvalid_0's aucprc: 0.823635\n",
      "[43]\tvalid_0's binary_logloss: 0.0971824\tvalid_0's aucprc: 0.824374\n",
      "[44]\tvalid_0's binary_logloss: 0.0939168\tvalid_0's aucprc: 0.826482\n",
      "[45]\tvalid_0's binary_logloss: 0.0907703\tvalid_0's aucprc: 0.828617\n",
      "[46]\tvalid_0's binary_logloss: 0.0878029\tvalid_0's aucprc: 0.8291\n",
      "[47]\tvalid_0's binary_logloss: 0.0850195\tvalid_0's aucprc: 0.830155\n",
      "[48]\tvalid_0's binary_logloss: 0.0822493\tvalid_0's aucprc: 0.833274\n",
      "[49]\tvalid_0's binary_logloss: 0.0795974\tvalid_0's aucprc: 0.83483\n",
      "[50]\tvalid_0's binary_logloss: 0.0770066\tvalid_0's aucprc: 0.834531\n",
      "[51]\tvalid_0's binary_logloss: 0.0745706\tvalid_0's aucprc: 0.83585\n",
      "[52]\tvalid_0's binary_logloss: 0.0722446\tvalid_0's aucprc: 0.835066\n",
      "[53]\tvalid_0's binary_logloss: 0.0700892\tvalid_0's aucprc: 0.836529\n",
      "[54]\tvalid_0's binary_logloss: 0.0678271\tvalid_0's aucprc: 0.837648\n",
      "[55]\tvalid_0's binary_logloss: 0.0657225\tvalid_0's aucprc: 0.836423\n",
      "[56]\tvalid_0's binary_logloss: 0.0637681\tvalid_0's aucprc: 0.837045\n",
      "[57]\tvalid_0's binary_logloss: 0.061771\tvalid_0's aucprc: 0.839903\n",
      "[58]\tvalid_0's binary_logloss: 0.0598433\tvalid_0's aucprc: 0.838972\n",
      "[59]\tvalid_0's binary_logloss: 0.0580081\tvalid_0's aucprc: 0.8393\n",
      "[60]\tvalid_0's binary_logloss: 0.0564021\tvalid_0's aucprc: 0.839379\n",
      "[61]\tvalid_0's binary_logloss: 0.0547904\tvalid_0's aucprc: 0.838864\n",
      "[62]\tvalid_0's binary_logloss: 0.0532221\tvalid_0's aucprc: 0.839254\n",
      "[63]\tvalid_0's binary_logloss: 0.0516486\tvalid_0's aucprc: 0.838595\n",
      "[64]\tvalid_0's binary_logloss: 0.0501555\tvalid_0's aucprc: 0.839474\n",
      "[65]\tvalid_0's binary_logloss: 0.048805\tvalid_0's aucprc: 0.839317\n",
      "[66]\tvalid_0's binary_logloss: 0.0474175\tvalid_0's aucprc: 0.839745\n",
      "[67]\tvalid_0's binary_logloss: 0.0461195\tvalid_0's aucprc: 0.840515\n",
      "[68]\tvalid_0's binary_logloss: 0.0448809\tvalid_0's aucprc: 0.853494\n",
      "[69]\tvalid_0's binary_logloss: 0.0436126\tvalid_0's aucprc: 0.854571\n",
      "[70]\tvalid_0's binary_logloss: 0.0424547\tvalid_0's aucprc: 0.854637\n",
      "[71]\tvalid_0's binary_logloss: 0.0413149\tvalid_0's aucprc: 0.854557\n",
      "[72]\tvalid_0's binary_logloss: 0.0402789\tvalid_0's aucprc: 0.85442\n",
      "[73]\tvalid_0's binary_logloss: 0.0392205\tvalid_0's aucprc: 0.851909\n",
      "[74]\tvalid_0's binary_logloss: 0.038215\tvalid_0's aucprc: 0.853152\n",
      "[75]\tvalid_0's binary_logloss: 0.0372158\tvalid_0's aucprc: 0.853056\n",
      "[76]\tvalid_0's binary_logloss: 0.0362471\tvalid_0's aucprc: 0.853029\n",
      "[77]\tvalid_0's binary_logloss: 0.0353743\tvalid_0's aucprc: 0.8529\n",
      "[78]\tvalid_0's binary_logloss: 0.0345133\tvalid_0's aucprc: 0.852798\n",
      "[79]\tvalid_0's binary_logloss: 0.0336872\tvalid_0's aucprc: 0.853651\n",
      "[80]\tvalid_0's binary_logloss: 0.0328382\tvalid_0's aucprc: 0.853853\n",
      "Early stopping, best iteration is:\n",
      "[70]\tvalid_0's binary_logloss: 0.0424547\tvalid_0's aucprc: 0.854637\n",
      "[1]\tvalid_0's binary_logloss: 0.649385\tvalid_0's aucprc: 0.628993\n",
      "Training until validation scores don't improve for 10 rounds.\n",
      "[2]\tvalid_0's binary_logloss: 0.609698\tvalid_0's aucprc: 0.630758\n",
      "[3]\tvalid_0's binary_logloss: 0.573463\tvalid_0's aucprc: 0.633604\n",
      "[4]\tvalid_0's binary_logloss: 0.540338\tvalid_0's aucprc: 0.632954\n",
      "[5]\tvalid_0's binary_logloss: 0.509926\tvalid_0's aucprc: 0.632578\n",
      "[6]\tvalid_0's binary_logloss: 0.481926\tvalid_0's aucprc: 0.632466\n",
      "[7]\tvalid_0's binary_logloss: 0.456021\tvalid_0's aucprc: 0.632342\n",
      "[8]\tvalid_0's binary_logloss: 0.431788\tvalid_0's aucprc: 0.632572\n",
      "[9]\tvalid_0's binary_logloss: 0.409435\tvalid_0's aucprc: 0.636598\n",
      "[10]\tvalid_0's binary_logloss: 0.388568\tvalid_0's aucprc: 0.63676\n",
      "[11]\tvalid_0's binary_logloss: 0.368845\tvalid_0's aucprc: 0.653995\n",
      "[12]\tvalid_0's binary_logloss: 0.350465\tvalid_0's aucprc: 0.653941\n",
      "[13]\tvalid_0's binary_logloss: 0.333578\tvalid_0's aucprc: 0.654627\n",
      "[14]\tvalid_0's binary_logloss: 0.317698\tvalid_0's aucprc: 0.655876\n",
      "[15]\tvalid_0's binary_logloss: 0.303028\tvalid_0's aucprc: 0.738566\n",
      "[16]\tvalid_0's binary_logloss: 0.288988\tvalid_0's aucprc: 0.738485\n",
      "[17]\tvalid_0's binary_logloss: 0.275926\tvalid_0's aucprc: 0.745167\n",
      "[18]\tvalid_0's binary_logloss: 0.263512\tvalid_0's aucprc: 0.743652\n",
      "[19]\tvalid_0's binary_logloss: 0.251928\tvalid_0's aucprc: 0.743466\n",
      "[20]\tvalid_0's binary_logloss: 0.241037\tvalid_0's aucprc: 0.743506\n",
      "[21]\tvalid_0's binary_logloss: 0.230426\tvalid_0's aucprc: 0.747859\n",
      "[22]\tvalid_0's binary_logloss: 0.220757\tvalid_0's aucprc: 0.750712\n"
     ]
    },
    {
     "name": "stdout",
     "output_type": "stream",
     "text": [
      "[23]\tvalid_0's binary_logloss: 0.211666\tvalid_0's aucprc: 0.749112\n",
      "[24]\tvalid_0's binary_logloss: 0.20297\tvalid_0's aucprc: 0.778934\n",
      "[25]\tvalid_0's binary_logloss: 0.194421\tvalid_0's aucprc: 0.77524\n",
      "[26]\tvalid_0's binary_logloss: 0.186718\tvalid_0's aucprc: 0.774577\n",
      "[27]\tvalid_0's binary_logloss: 0.179372\tvalid_0's aucprc: 0.773984\n",
      "[28]\tvalid_0's binary_logloss: 0.17231\tvalid_0's aucprc: 0.773755\n",
      "[29]\tvalid_0's binary_logloss: 0.165563\tvalid_0's aucprc: 0.772234\n",
      "[30]\tvalid_0's binary_logloss: 0.159165\tvalid_0's aucprc: 0.769496\n",
      "[31]\tvalid_0's binary_logloss: 0.153101\tvalid_0's aucprc: 0.769626\n",
      "[32]\tvalid_0's binary_logloss: 0.147242\tvalid_0's aucprc: 0.770914\n",
      "[33]\tvalid_0's binary_logloss: 0.141747\tvalid_0's aucprc: 0.771645\n",
      "[34]\tvalid_0's binary_logloss: 0.136481\tvalid_0's aucprc: 0.784044\n",
      "[35]\tvalid_0's binary_logloss: 0.131558\tvalid_0's aucprc: 0.786293\n",
      "[36]\tvalid_0's binary_logloss: 0.126708\tvalid_0's aucprc: 0.785978\n",
      "[37]\tvalid_0's binary_logloss: 0.122155\tvalid_0's aucprc: 0.786058\n",
      "[38]\tvalid_0's binary_logloss: 0.11784\tvalid_0's aucprc: 0.786455\n",
      "[39]\tvalid_0's binary_logloss: 0.113616\tvalid_0's aucprc: 0.78716\n",
      "[40]\tvalid_0's binary_logloss: 0.109706\tvalid_0's aucprc: 0.788329\n",
      "[41]\tvalid_0's binary_logloss: 0.105986\tvalid_0's aucprc: 0.787245\n",
      "[42]\tvalid_0's binary_logloss: 0.102354\tvalid_0's aucprc: 0.785527\n",
      "[43]\tvalid_0's binary_logloss: 0.0988827\tvalid_0's aucprc: 0.786008\n",
      "[44]\tvalid_0's binary_logloss: 0.0955139\tvalid_0's aucprc: 0.785673\n",
      "[45]\tvalid_0's binary_logloss: 0.0924634\tvalid_0's aucprc: 0.786207\n",
      "[46]\tvalid_0's binary_logloss: 0.0893829\tvalid_0's aucprc: 0.786226\n",
      "[47]\tvalid_0's binary_logloss: 0.0866525\tvalid_0's aucprc: 0.786093\n",
      "[48]\tvalid_0's binary_logloss: 0.0839376\tvalid_0's aucprc: 0.786525\n",
      "[49]\tvalid_0's binary_logloss: 0.0812571\tvalid_0's aucprc: 0.785993\n",
      "[50]\tvalid_0's binary_logloss: 0.0787495\tvalid_0's aucprc: 0.786682\n",
      "Early stopping, best iteration is:\n",
      "[40]\tvalid_0's binary_logloss: 0.109706\tvalid_0's aucprc: 0.788329\n",
      "[1]\tvalid_0's binary_logloss: 0.64924\tvalid_0's aucprc: 0.461325\n",
      "Training until validation scores don't improve for 10 rounds.\n",
      "[2]\tvalid_0's binary_logloss: 0.608993\tvalid_0's aucprc: 0.577916\n",
      "[3]\tvalid_0's binary_logloss: 0.572413\tvalid_0's aucprc: 0.578995\n",
      "[4]\tvalid_0's binary_logloss: 0.538666\tvalid_0's aucprc: 0.703014\n",
      "[5]\tvalid_0's binary_logloss: 0.507685\tvalid_0's aucprc: 0.707522\n",
      "[6]\tvalid_0's binary_logloss: 0.479095\tvalid_0's aucprc: 0.710908\n",
      "[7]\tvalid_0's binary_logloss: 0.452528\tvalid_0's aucprc: 0.712738\n",
      "[8]\tvalid_0's binary_logloss: 0.428161\tvalid_0's aucprc: 0.714267\n",
      "[9]\tvalid_0's binary_logloss: 0.40545\tvalid_0's aucprc: 0.713294\n",
      "[10]\tvalid_0's binary_logloss: 0.384378\tvalid_0's aucprc: 0.732469\n",
      "[11]\tvalid_0's binary_logloss: 0.364661\tvalid_0's aucprc: 0.733917\n",
      "[12]\tvalid_0's binary_logloss: 0.346398\tvalid_0's aucprc: 0.733763\n",
      "[13]\tvalid_0's binary_logloss: 0.329326\tvalid_0's aucprc: 0.731789\n",
      "[14]\tvalid_0's binary_logloss: 0.313158\tvalid_0's aucprc: 0.733064\n",
      "[15]\tvalid_0's binary_logloss: 0.298001\tvalid_0's aucprc: 0.732822\n",
      "[16]\tvalid_0's binary_logloss: 0.283791\tvalid_0's aucprc: 0.733515\n",
      "[17]\tvalid_0's binary_logloss: 0.270456\tvalid_0's aucprc: 0.734023\n",
      "[18]\tvalid_0's binary_logloss: 0.258084\tvalid_0's aucprc: 0.762727\n",
      "[19]\tvalid_0's binary_logloss: 0.246383\tvalid_0's aucprc: 0.762585\n",
      "[20]\tvalid_0's binary_logloss: 0.235423\tvalid_0's aucprc: 0.761246\n",
      "[21]\tvalid_0's binary_logloss: 0.224944\tvalid_0's aucprc: 0.761809\n",
      "[22]\tvalid_0's binary_logloss: 0.215024\tvalid_0's aucprc: 0.763195\n",
      "[23]\tvalid_0's binary_logloss: 0.20558\tvalid_0's aucprc: 0.760369\n",
      "[24]\tvalid_0's binary_logloss: 0.196673\tvalid_0's aucprc: 0.760341\n",
      "[25]\tvalid_0's binary_logloss: 0.188227\tvalid_0's aucprc: 0.761336\n",
      "[26]\tvalid_0's binary_logloss: 0.180321\tvalid_0's aucprc: 0.761626\n",
      "[27]\tvalid_0's binary_logloss: 0.172803\tvalid_0's aucprc: 0.762185\n",
      "[28]\tvalid_0's binary_logloss: 0.165613\tvalid_0's aucprc: 0.76322\n",
      "[29]\tvalid_0's binary_logloss: 0.158734\tvalid_0's aucprc: 0.76274\n",
      "[30]\tvalid_0's binary_logloss: 0.152085\tvalid_0's aucprc: 0.765209\n",
      "[31]\tvalid_0's binary_logloss: 0.146052\tvalid_0's aucprc: 0.765535\n",
      "[32]\tvalid_0's binary_logloss: 0.14039\tvalid_0's aucprc: 0.76617\n",
      "[33]\tvalid_0's binary_logloss: 0.134914\tvalid_0's aucprc: 0.766241\n",
      "[34]\tvalid_0's binary_logloss: 0.129714\tvalid_0's aucprc: 0.766498\n",
      "[35]\tvalid_0's binary_logloss: 0.124794\tvalid_0's aucprc: 0.766575\n",
      "[36]\tvalid_0's binary_logloss: 0.120132\tvalid_0's aucprc: 0.767398\n",
      "[37]\tvalid_0's binary_logloss: 0.115673\tvalid_0's aucprc: 0.767187\n",
      "[38]\tvalid_0's binary_logloss: 0.111485\tvalid_0's aucprc: 0.766793\n",
      "[39]\tvalid_0's binary_logloss: 0.107512\tvalid_0's aucprc: 0.766296\n",
      "[40]\tvalid_0's binary_logloss: 0.1035\tvalid_0's aucprc: 0.766608\n",
      "[41]\tvalid_0's binary_logloss: 0.0999196\tvalid_0's aucprc: 0.766209\n",
      "[42]\tvalid_0's binary_logloss: 0.0963888\tvalid_0's aucprc: 0.764601\n",
      "[43]\tvalid_0's binary_logloss: 0.0929501\tvalid_0's aucprc: 0.764535\n",
      "[44]\tvalid_0's binary_logloss: 0.0897229\tvalid_0's aucprc: 0.76389\n",
      "[45]\tvalid_0's binary_logloss: 0.0865995\tvalid_0's aucprc: 0.763344\n",
      "[46]\tvalid_0's binary_logloss: 0.0836481\tvalid_0's aucprc: 0.758759\n",
      "Early stopping, best iteration is:\n",
      "[36]\tvalid_0's binary_logloss: 0.120132\tvalid_0's aucprc: 0.767398\n",
      "[1]\tvalid_0's binary_logloss: 0.649017\tvalid_0's aucprc: 0.603148\n",
      "Training until validation scores don't improve for 10 rounds.\n",
      "[2]\tvalid_0's binary_logloss: 0.608983\tvalid_0's aucprc: 0.605488\n",
      "[3]\tvalid_0's binary_logloss: 0.57277\tvalid_0's aucprc: 0.608658\n",
      "[4]\tvalid_0's binary_logloss: 0.539262\tvalid_0's aucprc: 0.708094\n",
      "[5]\tvalid_0's binary_logloss: 0.508731\tvalid_0's aucprc: 0.708827\n",
      "[6]\tvalid_0's binary_logloss: 0.480323\tvalid_0's aucprc: 0.708776\n",
      "[7]\tvalid_0's binary_logloss: 0.454235\tvalid_0's aucprc: 0.710012\n",
      "[8]\tvalid_0's binary_logloss: 0.430073\tvalid_0's aucprc: 0.719712\n",
      "[9]\tvalid_0's binary_logloss: 0.40749\tvalid_0's aucprc: 0.723832\n",
      "[10]\tvalid_0's binary_logloss: 0.386334\tvalid_0's aucprc: 0.723662\n",
      "[11]\tvalid_0's binary_logloss: 0.366849\tvalid_0's aucprc: 0.724039\n",
      "[12]\tvalid_0's binary_logloss: 0.348715\tvalid_0's aucprc: 0.72417\n",
      "[13]\tvalid_0's binary_logloss: 0.331755\tvalid_0's aucprc: 0.73579\n",
      "[14]\tvalid_0's binary_logloss: 0.315845\tvalid_0's aucprc: 0.73572\n",
      "[15]\tvalid_0's binary_logloss: 0.300909\tvalid_0's aucprc: 0.737313\n",
      "[16]\tvalid_0's binary_logloss: 0.286612\tvalid_0's aucprc: 0.737343\n",
      "[17]\tvalid_0's binary_logloss: 0.273514\tvalid_0's aucprc: 0.737222\n",
      "[18]\tvalid_0's binary_logloss: 0.260958\tvalid_0's aucprc: 0.738552\n",
      "[19]\tvalid_0's binary_logloss: 0.249167\tvalid_0's aucprc: 0.74636\n",
      "[20]\tvalid_0's binary_logloss: 0.237997\tvalid_0's aucprc: 0.754867\n",
      "[21]\tvalid_0's binary_logloss: 0.227447\tvalid_0's aucprc: 0.755973\n",
      "[22]\tvalid_0's binary_logloss: 0.217562\tvalid_0's aucprc: 0.757323\n",
      "[23]\tvalid_0's binary_logloss: 0.208072\tvalid_0's aucprc: 0.759152\n",
      "[24]\tvalid_0's binary_logloss: 0.199216\tvalid_0's aucprc: 0.760311\n",
      "[25]\tvalid_0's binary_logloss: 0.190849\tvalid_0's aucprc: 0.763209\n",
      "[26]\tvalid_0's binary_logloss: 0.182974\tvalid_0's aucprc: 0.763298\n",
      "[27]\tvalid_0's binary_logloss: 0.175533\tvalid_0's aucprc: 0.763821\n",
      "[28]\tvalid_0's binary_logloss: 0.16851\tvalid_0's aucprc: 0.763637\n",
      "[29]\tvalid_0's binary_logloss: 0.161823\tvalid_0's aucprc: 0.76399\n",
      "[30]\tvalid_0's binary_logloss: 0.155505\tvalid_0's aucprc: 0.764102\n",
      "[31]\tvalid_0's binary_logloss: 0.149492\tvalid_0's aucprc: 0.764893\n",
      "[32]\tvalid_0's binary_logloss: 0.143772\tvalid_0's aucprc: 0.765776\n",
      "[33]\tvalid_0's binary_logloss: 0.13836\tvalid_0's aucprc: 0.765714\n",
      "[34]\tvalid_0's binary_logloss: 0.133245\tvalid_0's aucprc: 0.765055\n",
      "[35]\tvalid_0's binary_logloss: 0.128353\tvalid_0's aucprc: 0.765559\n",
      "[36]\tvalid_0's binary_logloss: 0.123625\tvalid_0's aucprc: 0.765887\n",
      "[37]\tvalid_0's binary_logloss: 0.119136\tvalid_0's aucprc: 0.76576\n",
      "[38]\tvalid_0's binary_logloss: 0.114899\tvalid_0's aucprc: 0.766418\n",
      "[39]\tvalid_0's binary_logloss: 0.110825\tvalid_0's aucprc: 0.765342\n",
      "[40]\tvalid_0's binary_logloss: 0.107025\tvalid_0's aucprc: 0.764015\n",
      "[41]\tvalid_0's binary_logloss: 0.103352\tvalid_0's aucprc: 0.763949\n",
      "[42]\tvalid_0's binary_logloss: 0.0998387\tvalid_0's aucprc: 0.762159\n",
      "[43]\tvalid_0's binary_logloss: 0.0964489\tvalid_0's aucprc: 0.760185\n",
      "[44]\tvalid_0's binary_logloss: 0.0931674\tvalid_0's aucprc: 0.760293\n"
     ]
    },
    {
     "name": "stdout",
     "output_type": "stream",
     "text": [
      "[45]\tvalid_0's binary_logloss: 0.0902165\tvalid_0's aucprc: 0.759308\n",
      "[46]\tvalid_0's binary_logloss: 0.0872584\tvalid_0's aucprc: 0.759767\n",
      "[47]\tvalid_0's binary_logloss: 0.0844573\tvalid_0's aucprc: 0.758776\n",
      "[48]\tvalid_0's binary_logloss: 0.0817018\tvalid_0's aucprc: 0.755538\n",
      "Early stopping, best iteration is:\n",
      "[38]\tvalid_0's binary_logloss: 0.114899\tvalid_0's aucprc: 0.766418\n",
      "[1]\tvalid_0's binary_logloss: 0.649436\tvalid_0's aucprc: 0.721443\n",
      "Training until validation scores don't improve for 10 rounds.\n",
      "[2]\tvalid_0's binary_logloss: 0.609819\tvalid_0's aucprc: 0.721535\n",
      "[3]\tvalid_0's binary_logloss: 0.573543\tvalid_0's aucprc: 0.784598\n",
      "[4]\tvalid_0's binary_logloss: 0.540203\tvalid_0's aucprc: 0.786156\n",
      "[5]\tvalid_0's binary_logloss: 0.509756\tvalid_0's aucprc: 0.786152\n",
      "[6]\tvalid_0's binary_logloss: 0.481618\tvalid_0's aucprc: 0.787327\n",
      "[7]\tvalid_0's binary_logloss: 0.455739\tvalid_0's aucprc: 0.795424\n",
      "[8]\tvalid_0's binary_logloss: 0.431659\tvalid_0's aucprc: 0.795976\n",
      "[9]\tvalid_0's binary_logloss: 0.409173\tvalid_0's aucprc: 0.795809\n",
      "[10]\tvalid_0's binary_logloss: 0.388425\tvalid_0's aucprc: 0.795947\n",
      "[11]\tvalid_0's binary_logloss: 0.369033\tvalid_0's aucprc: 0.796693\n",
      "[12]\tvalid_0's binary_logloss: 0.351144\tvalid_0's aucprc: 0.797508\n",
      "[13]\tvalid_0's binary_logloss: 0.334264\tvalid_0's aucprc: 0.797975\n",
      "[14]\tvalid_0's binary_logloss: 0.318334\tvalid_0's aucprc: 0.794818\n",
      "[15]\tvalid_0's binary_logloss: 0.303276\tvalid_0's aucprc: 0.794748\n",
      "[16]\tvalid_0's binary_logloss: 0.289105\tvalid_0's aucprc: 0.818223\n",
      "[17]\tvalid_0's binary_logloss: 0.275951\tvalid_0's aucprc: 0.818224\n",
      "[18]\tvalid_0's binary_logloss: 0.263579\tvalid_0's aucprc: 0.828003\n",
      "[19]\tvalid_0's binary_logloss: 0.251913\tvalid_0's aucprc: 0.828207\n",
      "[20]\tvalid_0's binary_logloss: 0.240892\tvalid_0's aucprc: 0.827651\n",
      "[21]\tvalid_0's binary_logloss: 0.23058\tvalid_0's aucprc: 0.827227\n",
      "[22]\tvalid_0's binary_logloss: 0.220858\tvalid_0's aucprc: 0.827926\n",
      "[23]\tvalid_0's binary_logloss: 0.211686\tvalid_0's aucprc: 0.827647\n",
      "[24]\tvalid_0's binary_logloss: 0.202858\tvalid_0's aucprc: 0.828174\n",
      "[25]\tvalid_0's binary_logloss: 0.194493\tvalid_0's aucprc: 0.825575\n",
      "[26]\tvalid_0's binary_logloss: 0.186605\tvalid_0's aucprc: 0.840721\n",
      "[27]\tvalid_0's binary_logloss: 0.179181\tvalid_0's aucprc: 0.840873\n",
      "[28]\tvalid_0's binary_logloss: 0.172156\tvalid_0's aucprc: 0.839029\n",
      "[29]\tvalid_0's binary_logloss: 0.16549\tvalid_0's aucprc: 0.841061\n",
      "[30]\tvalid_0's binary_logloss: 0.159164\tvalid_0's aucprc: 0.84198\n",
      "[31]\tvalid_0's binary_logloss: 0.153054\tvalid_0's aucprc: 0.8401\n",
      "[32]\tvalid_0's binary_logloss: 0.147352\tvalid_0's aucprc: 0.846939\n",
      "[33]\tvalid_0's binary_logloss: 0.141837\tvalid_0's aucprc: 0.848073\n",
      "[34]\tvalid_0's binary_logloss: 0.136676\tvalid_0's aucprc: 0.848162\n",
      "[35]\tvalid_0's binary_logloss: 0.131604\tvalid_0's aucprc: 0.848943\n",
      "[36]\tvalid_0's binary_logloss: 0.126807\tvalid_0's aucprc: 0.848768\n",
      "[37]\tvalid_0's binary_logloss: 0.122275\tvalid_0's aucprc: 0.850199\n",
      "[38]\tvalid_0's binary_logloss: 0.117946\tvalid_0's aucprc: 0.84957\n",
      "[39]\tvalid_0's binary_logloss: 0.113913\tvalid_0's aucprc: 0.849475\n",
      "[40]\tvalid_0's binary_logloss: 0.109883\tvalid_0's aucprc: 0.850519\n",
      "[41]\tvalid_0's binary_logloss: 0.106102\tvalid_0's aucprc: 0.850135\n",
      "[42]\tvalid_0's binary_logloss: 0.102501\tvalid_0's aucprc: 0.860402\n",
      "[43]\tvalid_0's binary_logloss: 0.0991071\tvalid_0's aucprc: 0.860352\n",
      "[44]\tvalid_0's binary_logloss: 0.0958588\tvalid_0's aucprc: 0.860095\n",
      "[45]\tvalid_0's binary_logloss: 0.0927775\tvalid_0's aucprc: 0.860543\n",
      "[46]\tvalid_0's binary_logloss: 0.0896622\tvalid_0's aucprc: 0.860758\n",
      "[47]\tvalid_0's binary_logloss: 0.0867188\tvalid_0's aucprc: 0.860968\n",
      "[48]\tvalid_0's binary_logloss: 0.0838967\tvalid_0's aucprc: 0.861468\n",
      "[49]\tvalid_0's binary_logloss: 0.0811597\tvalid_0's aucprc: 0.861126\n",
      "[50]\tvalid_0's binary_logloss: 0.0786131\tvalid_0's aucprc: 0.857921\n",
      "[51]\tvalid_0's binary_logloss: 0.0760426\tvalid_0's aucprc: 0.858411\n",
      "[52]\tvalid_0's binary_logloss: 0.0736222\tvalid_0's aucprc: 0.859719\n",
      "[53]\tvalid_0's binary_logloss: 0.071373\tvalid_0's aucprc: 0.859322\n",
      "[54]\tvalid_0's binary_logloss: 0.0691727\tvalid_0's aucprc: 0.860044\n",
      "[55]\tvalid_0's binary_logloss: 0.0671488\tvalid_0's aucprc: 0.860306\n",
      "[56]\tvalid_0's binary_logloss: 0.065114\tvalid_0's aucprc: 0.859935\n",
      "[57]\tvalid_0's binary_logloss: 0.0631803\tvalid_0's aucprc: 0.860276\n",
      "[58]\tvalid_0's binary_logloss: 0.0613406\tvalid_0's aucprc: 0.861512\n",
      "[59]\tvalid_0's binary_logloss: 0.0595714\tvalid_0's aucprc: 0.862647\n",
      "[60]\tvalid_0's binary_logloss: 0.057876\tvalid_0's aucprc: 0.862943\n",
      "[61]\tvalid_0's binary_logloss: 0.0562647\tvalid_0's aucprc: 0.862771\n",
      "[62]\tvalid_0's binary_logloss: 0.0546738\tvalid_0's aucprc: 0.862633\n",
      "[63]\tvalid_0's binary_logloss: 0.0531474\tvalid_0's aucprc: 0.862656\n",
      "[64]\tvalid_0's binary_logloss: 0.0516921\tvalid_0's aucprc: 0.862869\n",
      "[65]\tvalid_0's binary_logloss: 0.0503006\tvalid_0's aucprc: 0.862516\n",
      "[66]\tvalid_0's binary_logloss: 0.0488613\tvalid_0's aucprc: 0.862255\n",
      "[67]\tvalid_0's binary_logloss: 0.0475253\tvalid_0's aucprc: 0.862108\n",
      "[68]\tvalid_0's binary_logloss: 0.0462558\tvalid_0's aucprc: 0.862363\n",
      "[69]\tvalid_0's binary_logloss: 0.0450501\tvalid_0's aucprc: 0.862077\n",
      "[70]\tvalid_0's binary_logloss: 0.0438768\tvalid_0's aucprc: 0.861451\n",
      "Early stopping, best iteration is:\n",
      "[60]\tvalid_0's binary_logloss: 0.057876\tvalid_0's aucprc: 0.862943\n",
      "[1]\tvalid_0's binary_logloss: 0.64903\tvalid_0's aucprc: 0.64647\n",
      "Training until validation scores don't improve for 10 rounds.\n",
      "[2]\tvalid_0's binary_logloss: 0.608807\tvalid_0's aucprc: 0.646944\n",
      "[3]\tvalid_0's binary_logloss: 0.572531\tvalid_0's aucprc: 0.650225\n",
      "[4]\tvalid_0's binary_logloss: 0.53901\tvalid_0's aucprc: 0.651845\n",
      "[5]\tvalid_0's binary_logloss: 0.508575\tvalid_0's aucprc: 0.64997\n",
      "[6]\tvalid_0's binary_logloss: 0.480264\tvalid_0's aucprc: 0.720262\n",
      "[7]\tvalid_0's binary_logloss: 0.454318\tvalid_0's aucprc: 0.710797\n",
      "[8]\tvalid_0's binary_logloss: 0.430026\tvalid_0's aucprc: 0.709564\n",
      "[9]\tvalid_0's binary_logloss: 0.407587\tvalid_0's aucprc: 0.713135\n",
      "[10]\tvalid_0's binary_logloss: 0.386612\tvalid_0's aucprc: 0.715128\n",
      "[11]\tvalid_0's binary_logloss: 0.367096\tvalid_0's aucprc: 0.720074\n",
      "[12]\tvalid_0's binary_logloss: 0.348818\tvalid_0's aucprc: 0.721926\n",
      "[13]\tvalid_0's binary_logloss: 0.33183\tvalid_0's aucprc: 0.718576\n",
      "[14]\tvalid_0's binary_logloss: 0.315855\tvalid_0's aucprc: 0.719744\n",
      "[15]\tvalid_0's binary_logloss: 0.30096\tvalid_0's aucprc: 0.71946\n",
      "[16]\tvalid_0's binary_logloss: 0.286858\tvalid_0's aucprc: 0.719975\n",
      "[17]\tvalid_0's binary_logloss: 0.273634\tvalid_0's aucprc: 0.72098\n",
      "[18]\tvalid_0's binary_logloss: 0.261303\tvalid_0's aucprc: 0.72122\n",
      "[19]\tvalid_0's binary_logloss: 0.24954\tvalid_0's aucprc: 0.722987\n",
      "[20]\tvalid_0's binary_logloss: 0.238528\tvalid_0's aucprc: 0.724176\n",
      "[21]\tvalid_0's binary_logloss: 0.228146\tvalid_0's aucprc: 0.725847\n",
      "[22]\tvalid_0's binary_logloss: 0.218304\tvalid_0's aucprc: 0.728787\n",
      "[23]\tvalid_0's binary_logloss: 0.20904\tvalid_0's aucprc: 0.730075\n",
      "[24]\tvalid_0's binary_logloss: 0.200309\tvalid_0's aucprc: 0.730295\n",
      "[25]\tvalid_0's binary_logloss: 0.191891\tvalid_0's aucprc: 0.731065\n",
      "[26]\tvalid_0's binary_logloss: 0.183867\tvalid_0's aucprc: 0.734502\n",
      "[27]\tvalid_0's binary_logloss: 0.176365\tvalid_0's aucprc: 0.737074\n",
      "[28]\tvalid_0's binary_logloss: 0.169018\tvalid_0's aucprc: 0.767282\n",
      "[29]\tvalid_0's binary_logloss: 0.162128\tvalid_0's aucprc: 0.766383\n",
      "[30]\tvalid_0's binary_logloss: 0.155657\tvalid_0's aucprc: 0.766483\n",
      "[31]\tvalid_0's binary_logloss: 0.149422\tvalid_0's aucprc: 0.767217\n",
      "[32]\tvalid_0's binary_logloss: 0.143584\tvalid_0's aucprc: 0.767598\n",
      "[33]\tvalid_0's binary_logloss: 0.138039\tvalid_0's aucprc: 0.768567\n",
      "[34]\tvalid_0's binary_logloss: 0.132752\tvalid_0's aucprc: 0.768188\n",
      "[35]\tvalid_0's binary_logloss: 0.127677\tvalid_0's aucprc: 0.767968\n",
      "[36]\tvalid_0's binary_logloss: 0.122832\tvalid_0's aucprc: 0.767907\n",
      "[37]\tvalid_0's binary_logloss: 0.118239\tvalid_0's aucprc: 0.76907\n",
      "[38]\tvalid_0's binary_logloss: 0.113896\tvalid_0's aucprc: 0.767379\n",
      "[39]\tvalid_0's binary_logloss: 0.109806\tvalid_0's aucprc: 0.767535\n",
      "[40]\tvalid_0's binary_logloss: 0.105879\tvalid_0's aucprc: 0.76807\n",
      "[41]\tvalid_0's binary_logloss: 0.102169\tvalid_0's aucprc: 0.767502\n",
      "[42]\tvalid_0's binary_logloss: 0.0984647\tvalid_0's aucprc: 0.765819\n",
      "[43]\tvalid_0's binary_logloss: 0.0951262\tvalid_0's aucprc: 0.766343\n",
      "[44]\tvalid_0's binary_logloss: 0.0919398\tvalid_0's aucprc: 0.767315\n"
     ]
    },
    {
     "name": "stdout",
     "output_type": "stream",
     "text": [
      "[45]\tvalid_0's binary_logloss: 0.0887592\tvalid_0's aucprc: 0.768\n",
      "[46]\tvalid_0's binary_logloss: 0.0859045\tvalid_0's aucprc: 0.768277\n",
      "[47]\tvalid_0's binary_logloss: 0.0829355\tvalid_0's aucprc: 0.769078\n",
      "[48]\tvalid_0's binary_logloss: 0.0802843\tvalid_0's aucprc: 0.769167\n",
      "[49]\tvalid_0's binary_logloss: 0.0776609\tvalid_0's aucprc: 0.769789\n",
      "[50]\tvalid_0's binary_logloss: 0.0750676\tvalid_0's aucprc: 0.77053\n",
      "[51]\tvalid_0's binary_logloss: 0.072539\tvalid_0's aucprc: 0.771632\n",
      "[52]\tvalid_0's binary_logloss: 0.0702278\tvalid_0's aucprc: 0.771267\n",
      "[53]\tvalid_0's binary_logloss: 0.0680022\tvalid_0's aucprc: 0.772108\n",
      "[54]\tvalid_0's binary_logloss: 0.0659155\tvalid_0's aucprc: 0.772878\n",
      "[55]\tvalid_0's binary_logloss: 0.0638471\tvalid_0's aucprc: 0.772886\n",
      "[56]\tvalid_0's binary_logloss: 0.0618216\tvalid_0's aucprc: 0.773665\n",
      "[57]\tvalid_0's binary_logloss: 0.0599307\tvalid_0's aucprc: 0.774294\n",
      "[58]\tvalid_0's binary_logloss: 0.0581317\tvalid_0's aucprc: 0.77545\n",
      "[59]\tvalid_0's binary_logloss: 0.0563565\tvalid_0's aucprc: 0.777136\n",
      "[60]\tvalid_0's binary_logloss: 0.0547424\tvalid_0's aucprc: 0.778806\n",
      "[61]\tvalid_0's binary_logloss: 0.053155\tvalid_0's aucprc: 0.780121\n",
      "[62]\tvalid_0's binary_logloss: 0.0516257\tvalid_0's aucprc: 0.778724\n",
      "[63]\tvalid_0's binary_logloss: 0.0501231\tvalid_0's aucprc: 0.779626\n",
      "[64]\tvalid_0's binary_logloss: 0.048761\tvalid_0's aucprc: 0.779818\n",
      "[65]\tvalid_0's binary_logloss: 0.0473499\tvalid_0's aucprc: 0.780327\n",
      "[66]\tvalid_0's binary_logloss: 0.0460507\tvalid_0's aucprc: 0.782393\n",
      "[67]\tvalid_0's binary_logloss: 0.0447646\tvalid_0's aucprc: 0.783052\n",
      "[68]\tvalid_0's binary_logloss: 0.0434654\tvalid_0's aucprc: 0.784852\n",
      "[69]\tvalid_0's binary_logloss: 0.0423488\tvalid_0's aucprc: 0.785437\n",
      "[70]\tvalid_0's binary_logloss: 0.0412547\tvalid_0's aucprc: 0.785768\n",
      "[71]\tvalid_0's binary_logloss: 0.0400679\tvalid_0's aucprc: 0.785717\n",
      "[72]\tvalid_0's binary_logloss: 0.0390355\tvalid_0's aucprc: 0.785893\n",
      "[73]\tvalid_0's binary_logloss: 0.0381023\tvalid_0's aucprc: 0.786\n",
      "[74]\tvalid_0's binary_logloss: 0.0371465\tvalid_0's aucprc: 0.786166\n",
      "[75]\tvalid_0's binary_logloss: 0.0362675\tvalid_0's aucprc: 0.786599\n",
      "[76]\tvalid_0's binary_logloss: 0.0353414\tvalid_0's aucprc: 0.786311\n",
      "[77]\tvalid_0's binary_logloss: 0.0344214\tvalid_0's aucprc: 0.777353\n",
      "[78]\tvalid_0's binary_logloss: 0.0335859\tvalid_0's aucprc: 0.778059\n",
      "[79]\tvalid_0's binary_logloss: 0.0327284\tvalid_0's aucprc: 0.778467\n",
      "[80]\tvalid_0's binary_logloss: 0.0319341\tvalid_0's aucprc: 0.774139\n",
      "[81]\tvalid_0's binary_logloss: 0.0311785\tvalid_0's aucprc: 0.774716\n",
      "[82]\tvalid_0's binary_logloss: 0.0305249\tvalid_0's aucprc: 0.77479\n",
      "[83]\tvalid_0's binary_logloss: 0.0297668\tvalid_0's aucprc: 0.775731\n",
      "[84]\tvalid_0's binary_logloss: 0.0291165\tvalid_0's aucprc: 0.775473\n",
      "[85]\tvalid_0's binary_logloss: 0.0284247\tvalid_0's aucprc: 0.775358\n",
      "Early stopping, best iteration is:\n",
      "[75]\tvalid_0's binary_logloss: 0.0362675\tvalid_0's aucprc: 0.786599\n",
      "[1]\tvalid_0's binary_logloss: 0.649015\tvalid_0's aucprc: 0.456665\n",
      "Training until validation scores don't improve for 10 rounds.\n",
      "[2]\tvalid_0's binary_logloss: 0.60887\tvalid_0's aucprc: 0.456544\n",
      "[3]\tvalid_0's binary_logloss: 0.572031\tvalid_0's aucprc: 0.628614\n",
      "[4]\tvalid_0's binary_logloss: 0.538526\tvalid_0's aucprc: 0.687078\n",
      "[5]\tvalid_0's binary_logloss: 0.507472\tvalid_0's aucprc: 0.690691\n",
      "[6]\tvalid_0's binary_logloss: 0.478894\tvalid_0's aucprc: 0.698203\n",
      "[7]\tvalid_0's binary_logloss: 0.452516\tvalid_0's aucprc: 0.694681\n",
      "[8]\tvalid_0's binary_logloss: 0.428062\tvalid_0's aucprc: 0.693721\n",
      "[9]\tvalid_0's binary_logloss: 0.405432\tvalid_0's aucprc: 0.695\n",
      "[10]\tvalid_0's binary_logloss: 0.384373\tvalid_0's aucprc: 0.696178\n",
      "[11]\tvalid_0's binary_logloss: 0.364753\tvalid_0's aucprc: 0.694561\n",
      "[12]\tvalid_0's binary_logloss: 0.346569\tvalid_0's aucprc: 0.697552\n",
      "[13]\tvalid_0's binary_logloss: 0.329478\tvalid_0's aucprc: 0.697553\n",
      "[14]\tvalid_0's binary_logloss: 0.313536\tvalid_0's aucprc: 0.696477\n",
      "[15]\tvalid_0's binary_logloss: 0.298532\tvalid_0's aucprc: 0.693503\n",
      "[16]\tvalid_0's binary_logloss: 0.28447\tvalid_0's aucprc: 0.694371\n",
      "Early stopping, best iteration is:\n",
      "[6]\tvalid_0's binary_logloss: 0.478894\tvalid_0's aucprc: 0.698203\n",
      "\n",
      "0 features with zero importance after one-hot encoding.\n",
      "\n"
     ]
    }
   ],
   "source": [
    "#/!\\ \"LONG\"\n",
    "#fsDataScale.identify_feat_imp()"
   ]
  },
  {
   "cell_type": "markdown",
   "metadata": {
    "kernel": "Python3"
   },
   "source": [
    "zero feath with 0 "
   ]
  },
  {
   "cell_type": "code",
   "execution_count": 534,
   "metadata": {
    "kernel": "Python3"
   },
   "outputs": [
    {
     "name": "stdout",
     "output_type": "stream",
     "text": [
      "26 features required for cumulative importance of 0.95 after one hot encoding.\n",
      "4 features do not contribute to cumulative importance of 0.95.\n",
      "\n"
     ]
    }
   ],
   "source": [
    "fsDataScale.identify_low_importance(0.95)"
   ]
  },
  {
   "cell_type": "code",
   "execution_count": 533,
   "metadata": {
    "kernel": "Python3"
   },
   "outputs": [
    {
     "data": {
      "image/png": "[encoded data removed]",
      "text/plain": [
       "<matplotlib.figure.Figure at 0x7fcd64d7dda0>"
      ]
     },
     "metadata": {},
     "output_type": "display_data"
    },
    {
     "data": {
      "image/png": "[encoded data removed]",
      "text/plain": [
       "<matplotlib.figure.Figure at 0x7fcd64f75b70>"
      ]
     },
     "metadata": {},
     "output_type": "display_data"
    }
   ],
   "source": [
    "fsDataScale.plot_feature_importances(plot_n=300)"
   ]
  },
  {
   "cell_type": "code",
   "execution_count": 537,
   "metadata": {
    "kernel": "Python3"
   },
   "outputs": [
    {
     "data": {
      "text/plain": [
       "0.57596096592296187"
      ]
     },
     "execution_count": 537,
     "metadata": {},
     "output_type": "execute_result"
    }
   ],
   "source": [
    "max(fsDataScale.scores)"
   ]
  },
  {
   "cell_type": "markdown",
   "metadata": {
    "kernel": "Python3"
   },
   "source": [
    "\"bonne features \""
   ]
  },
  {
   "cell_type": "code",
   "execution_count": 541,
   "metadata": {
    "kernel": "Python3"
   },
   "outputs": [
    {
     "data": {
      "text/html": [
       "<div>\n",
       "<style scoped>\n",
       "    .dataframe tbody tr th:only-of-type {\n",
       "        vertical-align: middle;\n",
       "    }\n",
       "\n",
       "    .dataframe tbody tr th {\n",
       "        vertical-align: top;\n",
       "    }\n",
       "\n",
       "    .dataframe thead th {\n",
       "        text-align: right;\n",
       "    }\n",
       "</style>\n",
       "<table border=\"1\" class=\"dataframe\">\n",
       "  <thead>\n",
       "    <tr style=\"text-align: right;\">\n",
       "      <th></th>\n",
       "      <th>feature</th>\n",
       "      <th>importance</th>\n",
       "      <th>normalized_importance</th>\n",
       "      <th>cumulative_importance</th>\n",
       "    </tr>\n",
       "  </thead>\n",
       "  <tbody>\n",
       "    <tr>\n",
       "      <th>0</th>\n",
       "      <td>V14</td>\n",
       "      <td>128.6</td>\n",
       "      <td>0.099922</td>\n",
       "      <td>0.099922</td>\n",
       "    </tr>\n",
       "    <tr>\n",
       "      <th>1</th>\n",
       "      <td>V4</td>\n",
       "      <td>124.6</td>\n",
       "      <td>0.096814</td>\n",
       "      <td>0.196737</td>\n",
       "    </tr>\n",
       "    <tr>\n",
       "      <th>2</th>\n",
       "      <td>V8</td>\n",
       "      <td>65.9</td>\n",
       "      <td>0.051204</td>\n",
       "      <td>0.247941</td>\n",
       "    </tr>\n",
       "    <tr>\n",
       "      <th>3</th>\n",
       "      <td>V7</td>\n",
       "      <td>63.7</td>\n",
       "      <td>0.049495</td>\n",
       "      <td>0.297436</td>\n",
       "    </tr>\n",
       "    <tr>\n",
       "      <th>4</th>\n",
       "      <td>V10</td>\n",
       "      <td>57.1</td>\n",
       "      <td>0.044367</td>\n",
       "      <td>0.341803</td>\n",
       "    </tr>\n",
       "  </tbody>\n",
       "</table>\n",
       "</div>"
      ],
      "text/plain": [
       "  feature  importance  normalized_importance  cumulative_importance\n",
       "0     V14       128.6               0.099922               0.099922\n",
       "1      V4       124.6               0.096814               0.196737\n",
       "2      V8        65.9               0.051204               0.247941\n",
       "3      V7        63.7               0.049495               0.297436\n",
       "4     V10        57.1               0.044367               0.341803"
      ]
     },
     "execution_count": 541,
     "metadata": {},
     "output_type": "execute_result"
    }
   ],
   "source": [
    "fsDataScale.feature_importances.sort_values(\"importance\",ascending=F)[:5]"
   ]
  },
  {
   "cell_type": "markdown",
   "metadata": {
    "kernel": "Python3"
   },
   "source": [
    "\"bad feat\""
   ]
  },
  {
   "cell_type": "code",
   "execution_count": 543,
   "metadata": {
    "kernel": "Python3"
   },
   "outputs": [
    {
     "data": {
      "text/html": [
       "<div>\n",
       "<style scoped>\n",
       "    .dataframe tbody tr th:only-of-type {\n",
       "        vertical-align: middle;\n",
       "    }\n",
       "\n",
       "    .dataframe tbody tr th {\n",
       "        vertical-align: top;\n",
       "    }\n",
       "\n",
       "    .dataframe thead th {\n",
       "        text-align: right;\n",
       "    }\n",
       "</style>\n",
       "<table border=\"1\" class=\"dataframe\">\n",
       "  <thead>\n",
       "    <tr style=\"text-align: right;\">\n",
       "      <th></th>\n",
       "      <th>feature</th>\n",
       "      <th>importance</th>\n",
       "      <th>normalized_importance</th>\n",
       "      <th>cumulative_importance</th>\n",
       "    </tr>\n",
       "  </thead>\n",
       "  <tbody>\n",
       "    <tr>\n",
       "      <th>29</th>\n",
       "      <td>V6</td>\n",
       "      <td>13.9</td>\n",
       "      <td>0.010800</td>\n",
       "      <td>1.000000</td>\n",
       "    </tr>\n",
       "    <tr>\n",
       "      <th>28</th>\n",
       "      <td>V28</td>\n",
       "      <td>17.5</td>\n",
       "      <td>0.013598</td>\n",
       "      <td>0.989200</td>\n",
       "    </tr>\n",
       "    <tr>\n",
       "      <th>27</th>\n",
       "      <td>V27</td>\n",
       "      <td>18.9</td>\n",
       "      <td>0.014685</td>\n",
       "      <td>0.975602</td>\n",
       "    </tr>\n",
       "    <tr>\n",
       "      <th>26</th>\n",
       "      <td>V9</td>\n",
       "      <td>20.0</td>\n",
       "      <td>0.015540</td>\n",
       "      <td>0.960917</td>\n",
       "    </tr>\n",
       "    <tr>\n",
       "      <th>25</th>\n",
       "      <td>V5</td>\n",
       "      <td>20.1</td>\n",
       "      <td>0.015618</td>\n",
       "      <td>0.945377</td>\n",
       "    </tr>\n",
       "  </tbody>\n",
       "</table>\n",
       "</div>"
      ],
      "text/plain": [
       "   feature  importance  normalized_importance  cumulative_importance\n",
       "29      V6        13.9               0.010800               1.000000\n",
       "28     V28        17.5               0.013598               0.989200\n",
       "27     V27        18.9               0.014685               0.975602\n",
       "26      V9        20.0               0.015540               0.960917\n",
       "25      V5        20.1               0.015618               0.945377"
      ]
     },
     "execution_count": 543,
     "metadata": {},
     "output_type": "execute_result"
    }
   ],
   "source": [
    "fsDataScale.feature_importances.sort_values(\"importance\",ascending=T)[:5]"
   ]
  },
  {
   "cell_type": "markdown",
   "metadata": {
    "kernel": "Python3"
   },
   "source": [
    "#### Etude Corr avec class"
   ]
  },
  {
   "cell_type": "markdown",
   "metadata": {
    "kernel": "Python3"
   },
   "source": [
    "corr between binary and continious -> pearsonr [Why ?](https://medium.com/@outside2SDs/an-overview-of-correlation-measures-between-categorical-and-continuous-variables-4c7f85610365)"
   ]
  },
  {
   "cell_type": "markdown",
   "metadata": {
    "kernel": "Python3"
   },
   "source": [
    "Cor pearson Asumption: absence of outliers, normality of variables, linearity, and homoscedasticity."
   ]
  },
  {
   "cell_type": "code",
   "execution_count": 432,
   "metadata": {
    "kernel": "Python3"
   },
   "outputs": [],
   "source": [
    "def criticalCorr(n,alpha=0.05):\n",
    "    df=n-2\n",
    "    t=scipy.stats.t.ppf([alpha/2],df)[0];\n",
    "    t2=t**2\n",
    "    st2=sqrt(t2)\n",
    "    return st2/sqrt(t2+df)"
   ]
  },
  {
   "cell_type": "markdown",
   "metadata": {
    "kernel": "Python3"
   },
   "source": [
    "look at corr and p_value (we want p_value < 0.05)"
   ]
  },
  {
   "cell_type": "code",
   "execution_count": 449,
   "metadata": {
    "kernel": "Python3"
   },
   "outputs": [],
   "source": [
    "def plotCorr(data,dataClass,corr=scipy.stats.pearsonr):\n",
    "    corrD=data.apply(lambda a:corr(dataClass,a)[0]).abs()\n",
    "    pValue=data.apply(lambda a:corr(dataClass,a)[1])\n",
    "    plt.matshow([corrD.values])\n",
    "    plt.yticks([0],[\"Class\"])\n",
    "    plt.colorbar()\n",
    "    plt.xticks(range(data.shape[1]),data.columns,rotation=60,ha=\"left\");\n",
    "    plt.matshow([pValue.values])\n",
    "    plt.yticks([0],[\"p_value\"])\n",
    "    plt.colorbar()\n",
    "    plt.xticks(range(data.shape[1]),data.columns,rotation=60,ha=\"left\");\n",
    "    return (corrD,pValue)"
   ]
  },
  {
   "cell_type": "code",
   "execution_count": null,
   "metadata": {
    "kernel": "Python3"
   },
   "outputs": [],
   "source": []
  },
  {
   "cell_type": "code",
   "execution_count": 450,
   "metadata": {
    "kernel": "Python3",
    "scrolled": true
   },
   "outputs": [
    {
     "data": {
      "image/png": "[encoded data removed]",
      "text/plain": [
       "<matplotlib.figure.Figure at 0x7fcd5e11bfd0>"
      ]
     },
     "metadata": {},
     "output_type": "display_data"
    },
    {
     "data": {
      "image/png": "[encoded data removed]",
      "text/plain": [
       "<matplotlib.figure.Figure at 0x7fcd5dfda278>"
      ]
     },
     "metadata": {},
     "output_type": "display_data"
    }
   ],
   "source": [
    "#https://medium.com/@outside2SDs/an-overview-of-correlation-measures-between-categorical-and-continuous-variables-4c7f85610365\n",
    "corrD,pValue=plotCorr(dataScale,dataClass)"
   ]
  },
  {
   "cell_type": "code",
   "execution_count": 451,
   "metadata": {
    "kernel": "Python3"
   },
   "outputs": [
    {
     "name": "stdout",
     "output_type": "stream",
     "text": [
      "seuil critique pour 213605 est: r=0.004\n"
     ]
    }
   ],
   "source": [
    "seuilCriticalCor=criticalCorr(dataShape[0])\n",
    "print(\"seuil critique pour {} est: r={:.3f}\".format(dataShape[0],seuilCriticalCor))"
   ]
  },
  {
   "cell_type": "markdown",
   "metadata": {
    "kernel": "Python3"
   },
   "source": [
    "Les correlations significatives sont:"
   ]
  },
  {
   "cell_type": "code",
   "execution_count": 452,
   "metadata": {
    "kernel": "Python3",
    "scrolled": true
   },
   "outputs": [
    {
     "data": {
      "text/plain": [
       "V17    0.330414\n",
       "V14    0.303963\n",
       "V12    0.266206\n",
       "V10    0.222506\n",
       "V16    0.199069\n",
       "dtype: float64"
      ]
     },
     "execution_count": 452,
     "metadata": {},
     "output_type": "execute_result"
    }
   ],
   "source": [
    "corrD.sort_values(ascending=F).abs().whereDrop(lambda a:a>seuilCriticalCor)[:5]"
   ]
  },
  {
   "cell_type": "markdown",
   "metadata": {
    "kernel": "Python3"
   },
   "source": [
    "Les pValues n'indiquant pas de correlation significative sont:"
   ]
  },
  {
   "cell_type": "code",
   "execution_count": 453,
   "metadata": {
    "kernel": "Python3"
   },
   "outputs": [
    {
     "data": {
      "text/plain": [
       "V22    0.161416\n",
       "V23    0.114773\n",
       "V25    0.286897\n",
       "dtype: float64"
      ]
     },
     "execution_count": 453,
     "metadata": {},
     "output_type": "execute_result"
    }
   ],
   "source": [
    "pValue.whereDrop(lambda a:a>0.05)"
   ]
  },
  {
   "cell_type": "markdown",
   "metadata": {
    "kernel": "Python3"
   },
   "source": [
    "Confirmé par :"
   ]
  },
  {
   "cell_type": "code",
   "execution_count": 454,
   "metadata": {
    "kernel": "Python3"
   },
   "outputs": [
    {
     "data": {
      "text/plain": [
       "V22    0.003030\n",
       "V23    0.003412\n",
       "V25    0.002304\n",
       "dtype: float64"
      ]
     },
     "execution_count": 454,
     "metadata": {},
     "output_type": "execute_result"
    }
   ],
   "source": [
    "corrD.whereDrop(lambda a:a<seuilCriticalCor)"
   ]
  },
  {
   "cell_type": "markdown",
   "metadata": {
    "kernel": "Python3"
   },
   "source": [
    "Les variables les plus correlées aux classes sont: V14, V17,V12,V16"
   ]
  },
  {
   "cell_type": "markdown",
   "metadata": {
    "kernel": "Python3"
   },
   "source": [
    "#### Spearman"
   ]
  },
  {
   "cell_type": "code",
   "execution_count": 455,
   "metadata": {
    "kernel": "Python3"
   },
   "outputs": [
    {
     "data": {
      "image/png": "[encoded data removed]",
      "text/plain": [
       "<matplotlib.figure.Figure at 0x7fcd5defa6a0>"
      ]
     },
     "metadata": {},
     "output_type": "display_data"
    },
    {
     "data": {
      "image/png": "[encoded data removed]",
      "text/plain": [
       "<matplotlib.figure.Figure at 0x7fcd5e1c0710>"
      ]
     },
     "metadata": {},
     "output_type": "display_data"
    }
   ],
   "source": [
    "#https://medium.com/@outside2SDs/an-overview-of-correlation-measures-between-categorical-and-continuous-variables-4c7f85610365\n",
    "corrD,pValue=plotCorr(dataScale,dataClass,scipy.stats.spearmanr)"
   ]
  },
  {
   "cell_type": "code",
   "execution_count": 460,
   "metadata": {
    "kernel": "Python3"
   },
   "outputs": [
    {
     "data": {
      "text/plain": [
       "V14    0.064867\n",
       "V4     0.064122\n",
       "V12    0.063023\n",
       "V10    0.060432\n",
       "V11    0.059965\n",
       "dtype: float64"
      ]
     },
     "execution_count": 460,
     "metadata": {},
     "output_type": "execute_result"
    }
   ],
   "source": [
    "corrD.abs().sort_values(ascending=F)[:5]"
   ]
  },
  {
   "cell_type": "code",
   "execution_count": 464,
   "metadata": {
    "kernel": "Python3"
   },
   "outputs": [
    {
     "data": {
      "text/plain": [
       "V23    0.170282\n",
       "V22    0.067181\n",
       "V15    0.053019\n",
       "dtype: float64"
      ]
     },
     "execution_count": 464,
     "metadata": {},
     "output_type": "execute_result"
    }
   ],
   "source": [
    "pValue[pValue>0.05].sort_values(ascending=F)"
   ]
  },
  {
   "cell_type": "markdown",
   "metadata": {
    "kernel": "Python3"
   },
   "source": [
    "pas de correlation pour spearman élevé mais confirm que V22,15,13 est vrmt pas correllé"
   ]
  },
  {
   "cell_type": "markdown",
   "metadata": {
    "kernel": "Python3"
   },
   "source": [
    "#### tau kendall"
   ]
  },
  {
   "cell_type": "code",
   "execution_count": 466,
   "metadata": {
    "kernel": "Python3",
    "scrolled": true
   },
   "outputs": [
    {
     "data": {
      "image/png": "[encoded data removed]",
      "text/plain": [
       "<matplotlib.figure.Figure at 0x7fcd64354588>"
      ]
     },
     "metadata": {},
     "output_type": "display_data"
    },
    {
     "data": {
      "image/png": "[encoded data removed]",
      "text/plain": [
       "<matplotlib.figure.Figure at 0x7fcd64f73128>"
      ]
     },
     "metadata": {},
     "output_type": "display_data"
    }
   ],
   "source": [
    "#https://medium.com/@outside2SDs/an-overview-of-correlation-measures-between-categorical-and-continuous-variables-4c7f85610365\n",
    "corrD,pValue=plotCorr(dataScale,dataClass,scipy.stats.kendalltau)"
   ]
  },
  {
   "cell_type": "code",
   "execution_count": 468,
   "metadata": {
    "kernel": "Python3"
   },
   "outputs": [
    {
     "data": {
      "text/plain": [
       "V14    0.052964\n",
       "V4     0.052356\n",
       "V12    0.051458\n",
       "V10    0.049343\n",
       "V11    0.048962\n",
       "dtype: float64"
      ]
     },
     "execution_count": 468,
     "metadata": {},
     "output_type": "execute_result"
    }
   ],
   "source": [
    "corrD.abs().sort_values(ascending=F)[:5]"
   ]
  },
  {
   "cell_type": "code",
   "execution_count": 467,
   "metadata": {
    "kernel": "Python3"
   },
   "outputs": [
    {
     "data": {
      "text/plain": [
       "V23    0.170282\n",
       "V22    0.067181\n",
       "V15    0.053019\n",
       "dtype: float64"
      ]
     },
     "execution_count": 467,
     "metadata": {},
     "output_type": "execute_result"
    }
   ],
   "source": [
    "pValue[pValue>0.05].sort_values(ascending=F)"
   ]
  },
  {
   "cell_type": "markdown",
   "metadata": {
    "kernel": "Python3"
   },
   "source": [
    "pas de correlation elevé pour kendall mais confirme que V22,15,13 est vrmt pas correllé"
   ]
  },
  {
   "cell_type": "markdown",
   "metadata": {
    "kernel": "Python3"
   },
   "source": [
    "### TODO\n",
    "supprimer V22,V23, V25 ?"
   ]
  },
  {
   "cell_type": "code",
   "execution_count": null,
   "metadata": {
    "kernel": "Python3"
   },
   "outputs": [],
   "source": []
  },
  {
   "cell_type": "markdown",
   "metadata": {
    "kernel": "Python3"
   },
   "source": [
    "### Etude Amount et Time"
   ]
  },
  {
   "cell_type": "markdown",
   "metadata": {
    "kernel": "Python3"
   },
   "source": [
    "Amount"
   ]
  },
  {
   "cell_type": "code",
   "execution_count": 43,
   "metadata": {
    "kernel": "Python3"
   },
   "outputs": [
    {
     "data": {
      "text/plain": [
       "Text(0.5,1,'Fraud')"
      ]
     },
     "execution_count": 43,
     "metadata": {},
     "output_type": "execute_result"
    },
    {
     "data": {
      "image/png": "[encoded data removed]",
      "text/plain": [
       "<matplotlib.figure.Figure at 0x7f51b7892908>"
      ]
     },
     "metadata": {},
     "output_type": "display_data"
    }
   ],
   "source": [
    "fig,ax=plt.subplots(1,2)\n",
    "ax[0].boxplot(dataScale[\"Amount\"][dataClass==0]);\n",
    "ax[0].set_ylim([-1,1])\n",
    "ax[0].set_title(\"Normal\")\n",
    "ax[1].boxplot(dataScale[\"Amount\"][dataClass==1]);\n",
    "ax[1].set_ylim([-1,1]);\n",
    "ax[1].set_yticks([])\n",
    "ax[1].set_title(\"Fraud\")"
   ]
  },
  {
   "cell_type": "markdown",
   "metadata": {
    "kernel": "Python3"
   },
   "source": [
    "retour au données initiale"
   ]
  },
  {
   "cell_type": "code",
   "execution_count": 44,
   "metadata": {
    "kernel": "Python3",
    "scrolled": true
   },
   "outputs": [
    {
     "data": {
      "text/html": [
       "<div>\n",
       "<style scoped>\n",
       "    .dataframe tbody tr th:only-of-type {\n",
       "        vertical-align: middle;\n",
       "    }\n",
       "\n",
       "    .dataframe tbody tr th {\n",
       "        vertical-align: top;\n",
       "    }\n",
       "\n",
       "    .dataframe thead th {\n",
       "        text-align: right;\n",
       "    }\n",
       "</style>\n",
       "<table border=\"1\" class=\"dataframe\">\n",
       "  <thead>\n",
       "    <tr style=\"text-align: right;\">\n",
       "      <th></th>\n",
       "      <th>count</th>\n",
       "      <th>mean</th>\n",
       "      <th>std</th>\n",
       "      <th>min</th>\n",
       "      <th>25%</th>\n",
       "      <th>50%</th>\n",
       "      <th>75%</th>\n",
       "      <th>max</th>\n",
       "    </tr>\n",
       "    <tr>\n",
       "      <th>Class</th>\n",
       "      <th></th>\n",
       "      <th></th>\n",
       "      <th></th>\n",
       "      <th></th>\n",
       "      <th></th>\n",
       "      <th></th>\n",
       "      <th></th>\n",
       "      <th></th>\n",
       "    </tr>\n",
       "  </thead>\n",
       "  <tbody>\n",
       "    <tr>\n",
       "      <th>0</th>\n",
       "      <td>284315.0</td>\n",
       "      <td>88.291022</td>\n",
       "      <td>250.105092</td>\n",
       "      <td>0.0</td>\n",
       "      <td>5.65</td>\n",
       "      <td>22.00</td>\n",
       "      <td>77.05</td>\n",
       "      <td>25691.16</td>\n",
       "    </tr>\n",
       "    <tr>\n",
       "      <th>1</th>\n",
       "      <td>492.0</td>\n",
       "      <td>122.211321</td>\n",
       "      <td>256.683288</td>\n",
       "      <td>0.0</td>\n",
       "      <td>1.00</td>\n",
       "      <td>9.25</td>\n",
       "      <td>105.89</td>\n",
       "      <td>2125.87</td>\n",
       "    </tr>\n",
       "  </tbody>\n",
       "</table>\n",
       "</div>"
      ],
      "text/plain": [
       "          count        mean         std  min   25%    50%     75%       max\n",
       "Class                                                                      \n",
       "0      284315.0   88.291022  250.105092  0.0  5.65  22.00   77.05  25691.16\n",
       "1         492.0  122.211321  256.683288  0.0  1.00   9.25  105.89   2125.87"
      ]
     },
     "execution_count": 44,
     "metadata": {},
     "output_type": "execute_result"
    }
   ],
   "source": [
    "data.Amount.groupby(dataClass).describe()"
   ]
  },
  {
   "cell_type": "markdown",
   "metadata": {
    "kernel": "Python3"
   },
   "source": [
    "On remarque que Amount a 75% est plus grand, ainsi quand mean<br>\n",
    "il y a bcp d'outlier"
   ]
  },
  {
   "cell_type": "markdown",
   "metadata": {
    "kernel": "Python3"
   },
   "source": [
    "Time"
   ]
  },
  {
   "cell_type": "code",
   "execution_count": 45,
   "metadata": {
    "kernel": "Python3"
   },
   "outputs": [
    {
     "data": {
      "text/plain": [
       "Text(0.5,1,'Fraud')"
      ]
     },
     "execution_count": 45,
     "metadata": {},
     "output_type": "execute_result"
    },
    {
     "data": {
      "image/png": "[encoded data removed]",
      "text/plain": [
       "<matplotlib.figure.Figure at 0x7f51b77c7710>"
      ]
     },
     "metadata": {},
     "output_type": "display_data"
    }
   ],
   "source": [
    "fig,ax=plt.subplots(1,2)\n",
    "ax[0].boxplot(dataScale[\"Time\"][dataClass==0]);\n",
    "ax[0].set_ylim([-3,3])\n",
    "ax[0].set_title(\"Normal\")\n",
    "ax[1].boxplot(dataScale[\"Time\"][dataClass==1]);\n",
    "ax[1].set_ylim([-3,3]);\n",
    "ax[1].set_yticks([])\n",
    "ax[1].set_title(\"Fraud\")"
   ]
  },
  {
   "cell_type": "code",
   "execution_count": 46,
   "metadata": {
    "kernel": "Python3",
    "scrolled": true
   },
   "outputs": [
    {
     "data": {
      "text/html": [
       "<div>\n",
       "<style scoped>\n",
       "    .dataframe tbody tr th:only-of-type {\n",
       "        vertical-align: middle;\n",
       "    }\n",
       "\n",
       "    .dataframe tbody tr th {\n",
       "        vertical-align: top;\n",
       "    }\n",
       "\n",
       "    .dataframe thead th {\n",
       "        text-align: right;\n",
       "    }\n",
       "</style>\n",
       "<table border=\"1\" class=\"dataframe\">\n",
       "  <thead>\n",
       "    <tr style=\"text-align: right;\">\n",
       "      <th></th>\n",
       "      <th>count</th>\n",
       "      <th>mean</th>\n",
       "      <th>std</th>\n",
       "      <th>min</th>\n",
       "      <th>25%</th>\n",
       "      <th>50%</th>\n",
       "      <th>75%</th>\n",
       "      <th>max</th>\n",
       "    </tr>\n",
       "    <tr>\n",
       "      <th>Class</th>\n",
       "      <th></th>\n",
       "      <th></th>\n",
       "      <th></th>\n",
       "      <th></th>\n",
       "      <th></th>\n",
       "      <th></th>\n",
       "      <th></th>\n",
       "      <th></th>\n",
       "    </tr>\n",
       "  </thead>\n",
       "  <tbody>\n",
       "    <tr>\n",
       "      <th>0</th>\n",
       "      <td>284315.0</td>\n",
       "      <td>94838.202258</td>\n",
       "      <td>47484.015786</td>\n",
       "      <td>0.0</td>\n",
       "      <td>54230.0</td>\n",
       "      <td>84711.0</td>\n",
       "      <td>139333.0</td>\n",
       "      <td>172792.0</td>\n",
       "    </tr>\n",
       "    <tr>\n",
       "      <th>1</th>\n",
       "      <td>492.0</td>\n",
       "      <td>80746.806911</td>\n",
       "      <td>47835.365138</td>\n",
       "      <td>406.0</td>\n",
       "      <td>41241.5</td>\n",
       "      <td>75568.5</td>\n",
       "      <td>128483.0</td>\n",
       "      <td>170348.0</td>\n",
       "    </tr>\n",
       "  </tbody>\n",
       "</table>\n",
       "</div>"
      ],
      "text/plain": [
       "          count          mean           std    min      25%      50%  \\\n",
       "Class                                                                  \n",
       "0      284315.0  94838.202258  47484.015786    0.0  54230.0  84711.0   \n",
       "1         492.0  80746.806911  47835.365138  406.0  41241.5  75568.5   \n",
       "\n",
       "            75%       max  \n",
       "Class                      \n",
       "0      139333.0  172792.0  \n",
       "1      128483.0  170348.0  "
      ]
     },
     "execution_count": 46,
     "metadata": {},
     "output_type": "execute_result"
    }
   ],
   "source": [
    "data.Time.groupby(dataClass).describe()"
   ]
  },
  {
   "cell_type": "markdown",
   "metadata": {
    "kernel": "Python3"
   },
   "source": [
    "on veux pas grand chose"
   ]
  },
  {
   "cell_type": "markdown",
   "metadata": {
    "kernel": "Python3"
   },
   "source": [
    "Creation d'un variable \"Periode\" -> toutes les 4h "
   ]
  },
  {
   "cell_type": "code",
   "execution_count": 47,
   "metadata": {
    "kernel": "Python3"
   },
   "outputs": [],
   "source": [
    "dataScale2=pd.concat([pd.Series(scale(data.Time%(60.*60.*4)),name=\"Period\"),dataScale],axis=1)"
   ]
  },
  {
   "cell_type": "code",
   "execution_count": 48,
   "metadata": {
    "kernel": "Python3"
   },
   "outputs": [
    {
     "data": {
      "text/plain": [
       "0.0081384271770936628"
      ]
     },
     "execution_count": 48,
     "metadata": {},
     "output_type": "execute_result"
    }
   ],
   "source": [
    "dataScale2.Period.corr(dataClass)"
   ]
  },
  {
   "cell_type": "markdown",
   "metadata": {
    "kernel": "Python3"
   },
   "source": [
    "0.0081384271770936628 > 0.004 Du coup corr significative"
   ]
  },
  {
   "cell_type": "markdown",
   "metadata": {
    "kernel": "Python3"
   },
   "source": [
    "### PREMIER MODEL"
   ]
  },
  {
   "cell_type": "markdown",
   "metadata": {
    "kernel": "Python3"
   },
   "source": [
    "##### split"
   ]
  },
  {
   "cell_type": "code",
   "execution_count": 234,
   "metadata": {
    "kernel": "Python3"
   },
   "outputs": [],
   "source": [
    "trainx,testx,trainy,testy = train_test_split(dataScale2,dataClass,stratify=dataClass, random_state=42)"
   ]
  },
  {
   "cell_type": "markdown",
   "metadata": {
    "kernel": "Python3"
   },
   "source": [
    "# VERSION PIPELINE"
   ]
  },
  {
   "cell_type": "code",
   "execution_count": 239,
   "metadata": {
    "kernel": "Python3"
   },
   "outputs": [],
   "source": [
    "def pipelineLaunch(trainx,testx,trainy,testy):\n",
    "    #LinearSVC,SVC -> long\n",
    "    #penser a n_jobs=-1\n",
    "    #ou autre solutions parralell\n",
    "    algo=[\\\n",
    "        LogisticRegression(),\n",
    "        LinearDiscriminantAnalysis(),\n",
    "        QuadraticDiscriminantAnalysis(),\n",
    "          GaussianNB(),\n",
    "         #KNeighborsClassifier()\n",
    "          #LinearSVC(),\n",
    "         # SVC(),\n",
    "         DecisionTreeClassifier(),\n",
    "         RandomForestClassifier()\n",
    "        ]\n",
    "    z=pd.DataFrame()\n",
    "    for i in tqdm(algo):\n",
    "        i.fit(trainx,trainy)\n",
    "        testP=i.predict(testx)\n",
    "        trainP=i.predict(trainx)\n",
    "        metricTrain=metrics(trainy,trainP)\n",
    "        metrixTest=metrics(testy,testP)\n",
    "        z=z.append(\n",
    "            pd.DataFrame.from_records([(\"type\",\"train\")]+metricTrain,\n",
    "                                      columns=[\"metrics\",repr(i.__class__).split(\".\")[-1][:-2]],\n",
    "                                      index=\"metrics\").T\n",
    "        ).append(\n",
    "            pd.DataFrame.from_records([(\"type\",\"test\")]+metrixTest,\n",
    "                                      columns=[\"metrics\",repr(i.__class__).split(\".\")[-1][:-2]],\n",
    "                                      index=\"metrics\").T\n",
    "        )\n",
    "    return (z,algo)\n",
    "        "
   ]
  },
  {
   "cell_type": "code",
   "execution_count": 240,
   "metadata": {
    "kernel": "Python3",
    "scrolled": false
   },
   "outputs": [
    {
     "name": "stderr",
     "output_type": "stream",
     "text": [
      "100%|██████████| 6/6 [00:49<00:00,  8.19s/it]\n"
     ]
    }
   ],
   "source": [
    "res=pipelineLaunch(trainx,testx,trainy,testy) #LinearSVC,SVC,knn -> long ()"
   ]
  },
  {
   "cell_type": "code",
   "execution_count": 241,
   "metadata": {
    "kernel": "Python3"
   },
   "outputs": [],
   "source": [
    "r=res[0]\n",
    "#r"
   ]
  },
  {
   "cell_type": "code",
   "execution_count": 242,
   "metadata": {
    "kernel": "Python3",
    "scrolled": false
   },
   "outputs": [
    {
     "data": {
      "text/html": [
       "<div>\n",
       "<style scoped>\n",
       "    .dataframe tbody tr th:only-of-type {\n",
       "        vertical-align: middle;\n",
       "    }\n",
       "\n",
       "    .dataframe tbody tr th {\n",
       "        vertical-align: top;\n",
       "    }\n",
       "\n",
       "    .dataframe thead th {\n",
       "        text-align: right;\n",
       "    }\n",
       "</style>\n",
       "<table border=\"1\" class=\"dataframe\">\n",
       "  <thead>\n",
       "    <tr style=\"text-align: right;\">\n",
       "      <th></th>\n",
       "      <th>metrics</th>\n",
       "      <th>aucprc</th>\n",
       "      <th>auc</th>\n",
       "      <th>acc</th>\n",
       "    </tr>\n",
       "    <tr>\n",
       "      <th>index</th>\n",
       "      <th>type</th>\n",
       "      <th></th>\n",
       "      <th></th>\n",
       "      <th></th>\n",
       "    </tr>\n",
       "  </thead>\n",
       "  <tbody>\n",
       "    <tr>\n",
       "      <th rowspan=\"2\" valign=\"top\">LogisticRegression</th>\n",
       "      <th>train</th>\n",
       "      <td>0.766936</td>\n",
       "      <td>0.82107</td>\n",
       "      <td>0.999246</td>\n",
       "    </tr>\n",
       "    <tr>\n",
       "      <th>test</th>\n",
       "      <td>0.731495</td>\n",
       "      <td>0.808845</td>\n",
       "      <td>0.999143</td>\n",
       "    </tr>\n",
       "    <tr>\n",
       "      <th rowspan=\"2\" valign=\"top\">LinearDiscriminantAnalysis</th>\n",
       "      <th>train</th>\n",
       "      <td>0.817112</td>\n",
       "      <td>0.87931</td>\n",
       "      <td>0.999396</td>\n",
       "    </tr>\n",
       "    <tr>\n",
       "      <th>test</th>\n",
       "      <td>0.798247</td>\n",
       "      <td>0.88198</td>\n",
       "      <td>0.999326</td>\n",
       "    </tr>\n",
       "    <tr>\n",
       "      <th rowspan=\"2\" valign=\"top\">QuadraticDiscriminantAnalysis</th>\n",
       "      <th>train</th>\n",
       "      <td>0.472622</td>\n",
       "      <td>0.929286</td>\n",
       "      <td>0.977646</td>\n",
       "    </tr>\n",
       "    <tr>\n",
       "      <th>test</th>\n",
       "      <td>0.458412</td>\n",
       "      <td>0.915827</td>\n",
       "      <td>0.977782</td>\n",
       "    </tr>\n",
       "    <tr>\n",
       "      <th rowspan=\"2\" valign=\"top\">GaussianNB</th>\n",
       "      <th>train</th>\n",
       "      <td>0.447138</td>\n",
       "      <td>0.9051</td>\n",
       "      <td>0.977969</td>\n",
       "    </tr>\n",
       "    <tr>\n",
       "      <th>test</th>\n",
       "      <td>0.440464</td>\n",
       "      <td>0.899335</td>\n",
       "      <td>0.977262</td>\n",
       "    </tr>\n",
       "    <tr>\n",
       "      <th rowspan=\"2\" valign=\"top\">DecisionTreeClassifier</th>\n",
       "      <th>train</th>\n",
       "      <td>1</td>\n",
       "      <td>1</td>\n",
       "      <td>1</td>\n",
       "    </tr>\n",
       "    <tr>\n",
       "      <th>test</th>\n",
       "      <td>0.710158</td>\n",
       "      <td>0.841252</td>\n",
       "      <td>0.999031</td>\n",
       "    </tr>\n",
       "    <tr>\n",
       "      <th rowspan=\"2\" valign=\"top\">RandomForestClassifier</th>\n",
       "      <th>train</th>\n",
       "      <td>0.971594</td>\n",
       "      <td>0.971545</td>\n",
       "      <td>0.999902</td>\n",
       "    </tr>\n",
       "    <tr>\n",
       "      <th>test</th>\n",
       "      <td>0.861909</td>\n",
       "      <td>0.882086</td>\n",
       "      <td>0.999537</td>\n",
       "    </tr>\n",
       "  </tbody>\n",
       "</table>\n",
       "</div>"
      ],
      "text/plain": [
       "metrics                                aucprc       auc       acc\n",
       "index                         type                               \n",
       "LogisticRegression            train  0.766936   0.82107  0.999246\n",
       "                              test   0.731495  0.808845  0.999143\n",
       "LinearDiscriminantAnalysis    train  0.817112   0.87931  0.999396\n",
       "                              test   0.798247   0.88198  0.999326\n",
       "QuadraticDiscriminantAnalysis train  0.472622  0.929286  0.977646\n",
       "                              test   0.458412  0.915827  0.977782\n",
       "GaussianNB                    train  0.447138    0.9051  0.977969\n",
       "                              test   0.440464  0.899335  0.977262\n",
       "DecisionTreeClassifier        train         1         1         1\n",
       "                              test   0.710158  0.841252  0.999031\n",
       "RandomForestClassifier        train  0.971594  0.971545  0.999902\n",
       "                              test   0.861909  0.882086  0.999537"
      ]
     },
     "execution_count": 242,
     "metadata": {},
     "output_type": "execute_result"
    }
   ],
   "source": [
    "resTab=r.reset_index().set_index([\"index\",\"type\"])\n",
    "#.stack().to_frame(name=\"value\")\n",
    "resTab"
   ]
  },
  {
   "cell_type": "markdown",
   "metadata": {
    "kernel": "Python3"
   },
   "source": [
    "Decision TRee et Random Forrest->gros surapprentissage"
   ]
  },
  {
   "cell_type": "markdown",
   "metadata": {
    "kernel": "Python3"
   },
   "source": [
    "GaussianNB et QuadraticDiscriminantAnalysis  -> a ameliorer ou enlever"
   ]
  },
  {
   "cell_type": "markdown",
   "metadata": {
    "kernel": "Python3"
   },
   "source": [
    "LogisticRegression\tet LinearDiscriminantAnalysis -> a ameliorer si possinle"
   ]
  },
  {
   "cell_type": "markdown",
   "metadata": {
    "kernel": "Python3"
   },
   "source": [
    "### TODO\n",
    "appliquer des tech pour umbalance classe (SMOTE, ROSE, etc) \n",
    "[more ?](https://shiring.github.io/machine_learning/2017/04/02/unbalanced)"
   ]
  },
  {
   "cell_type": "markdown",
   "metadata": {
    "kernel": "Python3"
   },
   "source": [
    "# VERSION SEQUENTIEL (mieux expliqué)"
   ]
  },
  {
   "cell_type": "markdown",
   "metadata": {
    "kernel": "Python3"
   },
   "source": [
    "###  Regression Logistique + Selection de Variable"
   ]
  },
  {
   "cell_type": "markdown",
   "metadata": {
    "kernel": "Python3"
   },
   "source": [
    "observations to be independent of each other.\n",
    "no multicollinearity among the independent variables\n",
    "[why?](https://www.statisticssolutions.com/assumptions-of-logistic-regression/)"
   ]
  },
  {
   "cell_type": "code",
   "execution_count": 88,
   "metadata": {
    "kernel": "Python3"
   },
   "outputs": [
    {
     "ename": "NameError",
     "evalue": "name 'RegLog' is not defined",
     "output_type": "error",
     "traceback": [
      "\u001b[0;31m---------------------------------------------------------------------------\u001b[0m",
      "\u001b[0;31mNameError\u001b[0m                                 Traceback (most recent call last)",
      "\u001b[0;32m<ipython-input-87-241a2afa6584>\u001b[0m in \u001b[0;36m<module>\u001b[0;34m()\u001b[0m\n\u001b[0;32m----> 1\u001b[0;31m \u001b[0mrepr\u001b[0m\u001b[0;34m(\u001b[0m\u001b[0mRegLog\u001b[0m\u001b[0;34m.\u001b[0m\u001b[0m__class__\u001b[0m\u001b[0;34m)\u001b[0m\u001b[0;34m.\u001b[0m\u001b[0msplit\u001b[0m\u001b[0;34m(\u001b[0m\u001b[0;34m\".\"\u001b[0m\u001b[0;34m)\u001b[0m\u001b[0;34m[\u001b[0m\u001b[0;34m-\u001b[0m\u001b[0;36m1\u001b[0m\u001b[0;34m]\u001b[0m\u001b[0;34m\u001b[0m\u001b[0m\n\u001b[0m",
      "\u001b[0;31mNameError\u001b[0m: name 'RegLog' is not defined"
     ]
    }
   ],
   "source": [
    "repr(RegLog.__class__).split(\".\")[-1]"
   ]
  },
  {
   "cell_type": "code",
   "execution_count": 89,
   "metadata": {
    "kernel": "Python3"
   },
   "outputs": [
    {
     "name": "stderr",
     "output_type": "stream",
     "text": [
      "/opt/conda/lib/python3.6/site-packages/sklearn/linear_model/logistic.py:1228: UserWarning: 'n_jobs' > 1 does not have any effect when 'solver' is set to 'liblinear'. Got 'n_jobs' = -1.\n",
      "  \" = {}.\".format(self.n_jobs))\n"
     ]
    },
    {
     "data": {
      "text/plain": [
       "LogisticRegression(C=10, class_weight=None, dual=False, fit_intercept=True,\n",
       "          intercept_scaling=1, max_iter=100, multi_class='ovr', n_jobs=-1,\n",
       "          penalty='l1', random_state=None, solver='liblinear', tol=0.0001,\n",
       "          verbose=0, warm_start=False)"
      ]
     },
     "execution_count": 89,
     "metadata": {},
     "output_type": "execute_result"
    }
   ],
   "source": [
    "RegLog=LogisticRegression(C=10,n_jobs=-1,penalty=\"l1\").fit(trainx,trainy)\n",
    "RegLog.fit(trainx,trainy)"
   ]
  },
  {
   "cell_type": "code",
   "execution_count": 90,
   "metadata": {
    "kernel": "Python3"
   },
   "outputs": [
    {
     "data": {
      "text/plain": [
       "[('aucprc', 0.75900228125729063),\n",
       " ('auc', 0.81564781258685048),\n",
       " ('acc', 0.99922286463331855)]"
      ]
     },
     "execution_count": 90,
     "metadata": {},
     "output_type": "execute_result"
    }
   ],
   "source": [
    "metrics(trainy,RegLog.predict(trainx))"
   ]
  },
  {
   "cell_type": "code",
   "execution_count": 91,
   "metadata": {
    "kernel": "Python3"
   },
   "outputs": [
    {
     "data": {
      "text/plain": [
       "[('aucprc', 0.75113360145596808),\n",
       " ('auc', 0.80887274516606222),\n",
       " ('acc', 0.99919946068930643)]"
      ]
     },
     "execution_count": 91,
     "metadata": {},
     "output_type": "execute_result"
    }
   ],
   "source": [
    "metrics(testy,RegLog.predict(testx))"
   ]
  },
  {
   "cell_type": "code",
   "execution_count": 92,
   "metadata": {
    "kernel": "Python3"
   },
   "outputs": [
    {
     "data": {
      "text/html": [
       "<div>\n",
       "<style scoped>\n",
       "    .dataframe tbody tr th:only-of-type {\n",
       "        vertical-align: middle;\n",
       "    }\n",
       "\n",
       "    .dataframe tbody tr th {\n",
       "        vertical-align: top;\n",
       "    }\n",
       "\n",
       "    .dataframe thead th {\n",
       "        text-align: right;\n",
       "    }\n",
       "</style>\n",
       "<table border=\"1\" class=\"dataframe\">\n",
       "  <thead>\n",
       "    <tr style=\"text-align: right;\">\n",
       "      <th>metrics</th>\n",
       "      <th>aucprc</th>\n",
       "      <th>auc</th>\n",
       "      <th>acc</th>\n",
       "    </tr>\n",
       "  </thead>\n",
       "  <tbody>\n",
       "    <tr>\n",
       "      <th>Dummy</th>\n",
       "      <td>0.500864</td>\n",
       "      <td>0.500000</td>\n",
       "      <td>0.998273</td>\n",
       "    </tr>\n",
       "    <tr>\n",
       "      <th>LogReg</th>\n",
       "      <td>0.751134</td>\n",
       "      <td>0.808873</td>\n",
       "      <td>0.999199</td>\n",
       "    </tr>\n",
       "  </tbody>\n",
       "</table>\n",
       "</div>"
      ],
      "text/plain": [
       "metrics    aucprc       auc       acc\n",
       "Dummy    0.500864  0.500000  0.998273\n",
       "LogReg   0.751134  0.808873  0.999199"
      ]
     },
     "execution_count": 92,
     "metadata": {},
     "output_type": "execute_result"
    }
   ],
   "source": [
    "dummyMetrics2=dummyMetrics.append(\n",
    "    pd.DataFrame.from_records(metrics(testy,RegLog.predict(testx)),columns=[\"metrics\",\"LogReg\"],index=\"metrics\").T\n",
    ")\n",
    "dummyMetrics2"
   ]
  },
  {
   "cell_type": "markdown",
   "metadata": {
    "kernel": "Python3"
   },
   "source": [
    "pb test meilleur que train (surapprentissage) malgres le changement de C | peut etre faire cv "
   ]
  },
  {
   "cell_type": "code",
   "execution_count": 158,
   "metadata": {
    "kernel": "Python3"
   },
   "outputs": [
    {
     "data": {
      "image/png": "[encoded data removed]",
      "text/plain": [
       "<matplotlib.figure.Figure at 0x7f2708a1f550>"
      ]
     },
     "metadata": {},
     "output_type": "display_data"
    }
   ],
   "source": [
    "pd.Series(RegLog.coef_[0],index=dataScale2.columns).plot.barh(figsize=(10,10));\n",
    "plt.yticks(rotation=0);"
   ]
  },
  {
   "cell_type": "code",
   "execution_count": 159,
   "metadata": {
    "kernel": "Python3"
   },
   "outputs": [
    {
     "data": {
      "text/plain": [
       "V4     1.085200\n",
       "V10    1.017194\n",
       "V14    0.483930\n",
       "V22    0.432999\n",
       "V20    0.324574\n",
       "V27    0.313734\n",
       "dtype: float64"
      ]
     },
     "execution_count": 159,
     "metadata": {},
     "output_type": "execute_result"
    }
   ],
   "source": [
    "pd.Series(RegLog.coef_[0],index=dataScale2.columns).abs().sort_values(ascending=F)[:6]"
   ]
  },
  {
   "cell_type": "markdown",
   "metadata": {
    "kernel": "Python3"
   },
   "source": [
    "Les variables les plus correlées aux classes sont: (V4, V10), V14, V22, V20, V27"
   ]
  },
  {
   "cell_type": "code",
   "execution_count": 80,
   "metadata": {
    "kernel": "Python3"
   },
   "outputs": [
    {
     "name": "stderr",
     "output_type": "stream",
     "text": [
      "100%|██████████████████████████████████████████████████████████████| 14/14 [01:09<00:00,  5.00s/it]\n"
     ]
    }
   ],
   "source": [
    "search=np.append(np.arange(0.01,0.1,0.01),(np.arange(0.1,1,0.2)))\n",
    "logRegFit=lambda c,:LogisticRegression(C=c).fit(trainx,trainy)\n",
    "def logRegPred(c): l=logRegFit(c);return (AUCPRC(trainy,l.predict(trainx))[0][1],AUCPRC(testy,l.predict(testx))[0][1])\n",
    "#grid=[logRegPred(i) for i in tqdm(search)]\n"
   ]
  },
  {
   "cell_type": "code",
   "execution_count": 96,
   "metadata": {
    "kernel": "Python3",
    "scrolled": true
   },
   "outputs": [],
   "source": [
    "#plt.plot(range(len(search)),np.array(grid)[:,0])\n",
    "#plt.plot(range(len(search)),np.array(grid)[:,1])\n",
    "#plt.xticks(range(len(search)),np.round(search,3).astype(\"str\"));"
   ]
  },
  {
   "cell_type": "markdown",
   "metadata": {
    "kernel": "Python3"
   },
   "source": [
    "### TODO: \n",
    "Selection des meilleurs variable<br>\n",
    "Les combiner (polynome)"
   ]
  },
  {
   "cell_type": "markdown",
   "metadata": {
    "kernel": "Python3"
   },
   "source": [
    "### LDA \n",
    "normality, same variance each variable (peux etre lié modele de melange, vu que minimise le ratio S_W/S_B) <br>\n",
    "[more?](https://machinelearningmastery.com/linear-discriminant-analysis-for-machine-learning/)"
   ]
  },
  {
   "cell_type": "markdown",
   "metadata": {
    "kernel": "Python3"
   },
   "source": [
    "### TODO: \n",
    "have to check normality<br>"
   ]
  },
  {
   "cell_type": "code",
   "execution_count": 57,
   "metadata": {
    "kernel": "Python3"
   },
   "outputs": [],
   "source": [
    "ldaDataScale=LinearDiscriminantAnalysis()\n",
    "dataScaleLDA=ldaDataScale.fit_transform(trainx,trainy)"
   ]
  },
  {
   "cell_type": "code",
   "execution_count": 58,
   "metadata": {
    "kernel": "Python3"
   },
   "outputs": [],
   "source": [
    "ldaPredict = ldaDataScale.predict(testx)"
   ]
  },
  {
   "cell_type": "code",
   "execution_count": 59,
   "metadata": {
    "kernel": "Python3"
   },
   "outputs": [
    {
     "data": {
      "text/plain": [
       "[('aucprc', 0.81327248758332227),\n",
       " ('auc', 0.88065563551581794),\n",
       " ('acc', 0.99938203693733763)]"
      ]
     },
     "execution_count": 59,
     "metadata": {},
     "output_type": "execute_result"
    }
   ],
   "source": [
    "metrics(trainy,ldaDataScale.predict(trainx))"
   ]
  },
  {
   "cell_type": "code",
   "execution_count": 60,
   "metadata": {
    "kernel": "Python3"
   },
   "outputs": [
    {
     "data": {
      "text/plain": [
       "[('aucprc', 0.82286593628714744),\n",
       " ('auc', 0.8901383860417762),\n",
       " ('acc', 0.99941012892896264)]"
      ]
     },
     "execution_count": 60,
     "metadata": {},
     "output_type": "execute_result"
    }
   ],
   "source": [
    "metrics(testy,ldaDataScale.predict(testx))"
   ]
  },
  {
   "cell_type": "code",
   "execution_count": 200,
   "metadata": {
    "kernel": "Python3"
   },
   "outputs": [
    {
     "data": {
      "text/html": [
       "<div>\n",
       "<style scoped>\n",
       "    .dataframe tbody tr th:only-of-type {\n",
       "        vertical-align: middle;\n",
       "    }\n",
       "\n",
       "    .dataframe tbody tr th {\n",
       "        vertical-align: top;\n",
       "    }\n",
       "\n",
       "    .dataframe thead th {\n",
       "        text-align: right;\n",
       "    }\n",
       "</style>\n",
       "<table border=\"1\" class=\"dataframe\">\n",
       "  <thead>\n",
       "    <tr style=\"text-align: right;\">\n",
       "      <th>metrics</th>\n",
       "      <th>aucprc</th>\n",
       "      <th>auc</th>\n",
       "      <th>acc</th>\n",
       "    </tr>\n",
       "  </thead>\n",
       "  <tbody>\n",
       "    <tr>\n",
       "      <th>Dummy</th>\n",
       "      <td>0.500864</td>\n",
       "      <td>0.500000</td>\n",
       "      <td>0.998273</td>\n",
       "    </tr>\n",
       "    <tr>\n",
       "      <th>LogReg</th>\n",
       "      <td>0.779563</td>\n",
       "      <td>0.829205</td>\n",
       "      <td>0.999284</td>\n",
       "    </tr>\n",
       "    <tr>\n",
       "      <th>LDA</th>\n",
       "      <td>0.822866</td>\n",
       "      <td>0.890138</td>\n",
       "      <td>0.999410</td>\n",
       "    </tr>\n",
       "  </tbody>\n",
       "</table>\n",
       "</div>"
      ],
      "text/plain": [
       "metrics    aucprc       auc       acc\n",
       "Dummy    0.500864  0.500000  0.998273\n",
       "LogReg   0.779563  0.829205  0.999284\n",
       "LDA      0.822866  0.890138  0.999410"
      ]
     },
     "execution_count": 200,
     "metadata": {},
     "output_type": "execute_result"
    }
   ],
   "source": [
    "dummyMetrics3=dummyMetrics2.append(\n",
    "    pd.DataFrame.from_records(metrics(testy,ldaPredict),columns=[\"metrics\",\"LDA\"],index=\"metrics\").T\n",
    ")\n",
    "dummyMetrics3"
   ]
  },
  {
   "cell_type": "code",
   "execution_count": 62,
   "metadata": {
    "kernel": "Python3"
   },
   "outputs": [
    {
     "data": {
      "text/plain": [
       "[<matplotlib.lines.Line2D at 0x7f270eb5f278>]"
      ]
     },
     "execution_count": 62,
     "metadata": {},
     "output_type": "execute_result"
    },
    {
     "data": {
      "image/png": "[encoded data removed]",
      "text/plain": [
       "<matplotlib.figure.Figure at 0x7f270eb46588>"
      ]
     },
     "metadata": {},
     "output_type": "display_data"
    }
   ],
   "source": [
    "plt.plot(dataScaleLDA[trainy==0],color=\"red\")\n",
    "plt.plot(dataScaleLDA[trainy!=0],color=\"blue\")"
   ]
  },
  {
   "cell_type": "markdown",
   "metadata": {
    "kernel": "Python3"
   },
   "source": [
    "juste avec lda on est à 0.80 >> 0.5"
   ]
  },
  {
   "cell_type": "markdown",
   "metadata": {
    "kernel": "Python3"
   },
   "source": [
    "### QDA\n",
    "Each class uses its own estimate of variance (or covariance when there are multiple input variables).<br>\n",
    "[more ?](http://uc-r.github.io/discriminant_analysis)"
   ]
  },
  {
   "cell_type": "code",
   "execution_count": 172,
   "metadata": {
    "kernel": "Python3",
    "scrolled": true
   },
   "outputs": [
    {
     "data": {
      "text/plain": [
       "QuadraticDiscriminantAnalysis(priors=None, reg_param=0.0,\n",
       "               store_covariance=False, store_covariances=None, tol=0.0001)"
      ]
     },
     "execution_count": 172,
     "metadata": {},
     "output_type": "execute_result"
    }
   ],
   "source": [
    "QdaDataScale=QuadraticDiscriminantAnalysis()\n",
    "QdaDataScale.fit(trainx,trainy)"
   ]
  },
  {
   "cell_type": "code",
   "execution_count": 173,
   "metadata": {
    "kernel": "Python3"
   },
   "outputs": [],
   "source": [
    "QdaPredict = QdaDataScale.predict(testx)"
   ]
  },
  {
   "cell_type": "code",
   "execution_count": 174,
   "metadata": {
    "kernel": "Python3"
   },
   "outputs": [
    {
     "data": {
      "text/plain": [
       "[('aucprc', 0.46189347065313913),\n",
       " ('auc', 0.91956648437312938),\n",
       " ('acc', 0.97714472975819855)]"
      ]
     },
     "execution_count": 174,
     "metadata": {},
     "output_type": "execute_result"
    }
   ],
   "source": [
    "metrics(trainy,QdaDataScale.predict(trainx))"
   ]
  },
  {
   "cell_type": "code",
   "execution_count": 175,
   "metadata": {
    "kernel": "Python3"
   },
   "outputs": [
    {
     "data": {
      "text/plain": [
       "[('aucprc', 0.47924110724670493),\n",
       " ('auc', 0.93583607933323243),\n",
       " ('acc', 0.97721974101851072)]"
      ]
     },
     "execution_count": 175,
     "metadata": {},
     "output_type": "execute_result"
    }
   ],
   "source": [
    "metrics(testy,QdaDataScale.predict(testx))"
   ]
  },
  {
   "cell_type": "code",
   "execution_count": 201,
   "metadata": {
    "kernel": "Python3"
   },
   "outputs": [
    {
     "data": {
      "text/html": [
       "<div>\n",
       "<style scoped>\n",
       "    .dataframe tbody tr th:only-of-type {\n",
       "        vertical-align: middle;\n",
       "    }\n",
       "\n",
       "    .dataframe tbody tr th {\n",
       "        vertical-align: top;\n",
       "    }\n",
       "\n",
       "    .dataframe thead th {\n",
       "        text-align: right;\n",
       "    }\n",
       "</style>\n",
       "<table border=\"1\" class=\"dataframe\">\n",
       "  <thead>\n",
       "    <tr style=\"text-align: right;\">\n",
       "      <th>metrics</th>\n",
       "      <th>aucprc</th>\n",
       "      <th>auc</th>\n",
       "      <th>acc</th>\n",
       "    </tr>\n",
       "  </thead>\n",
       "  <tbody>\n",
       "    <tr>\n",
       "      <th>Dummy</th>\n",
       "      <td>0.500864</td>\n",
       "      <td>0.500000</td>\n",
       "      <td>0.998273</td>\n",
       "    </tr>\n",
       "    <tr>\n",
       "      <th>LogReg</th>\n",
       "      <td>0.779563</td>\n",
       "      <td>0.829205</td>\n",
       "      <td>0.999284</td>\n",
       "    </tr>\n",
       "    <tr>\n",
       "      <th>LDA</th>\n",
       "      <td>0.822866</td>\n",
       "      <td>0.890138</td>\n",
       "      <td>0.999410</td>\n",
       "    </tr>\n",
       "    <tr>\n",
       "      <th>QDA</th>\n",
       "      <td>0.479241</td>\n",
       "      <td>0.935836</td>\n",
       "      <td>0.977220</td>\n",
       "    </tr>\n",
       "  </tbody>\n",
       "</table>\n",
       "</div>"
      ],
      "text/plain": [
       "metrics    aucprc       auc       acc\n",
       "Dummy    0.500864  0.500000  0.998273\n",
       "LogReg   0.779563  0.829205  0.999284\n",
       "LDA      0.822866  0.890138  0.999410\n",
       "QDA      0.479241  0.935836  0.977220"
      ]
     },
     "execution_count": 201,
     "metadata": {},
     "output_type": "execute_result"
    }
   ],
   "source": [
    "dummyMetrics4=dummyMetrics3.append(\n",
    "    pd.DataFrame.from_records(metrics(testy,QdaPredict),columns=[\"metrics\",\"QDA\"],index=\"metrics\").T\n",
    ")\n",
    "dummyMetrics4"
   ]
  },
  {
   "cell_type": "markdown",
   "metadata": {
    "kernel": "Python3"
   },
   "source": [
    "### TODO:\n",
    "modele de melange supervisé ?"
   ]
  },
  {
   "cell_type": "markdown",
   "metadata": {
    "kernel": "Python3"
   },
   "source": [
    "## NaiveBayes"
   ]
  },
  {
   "cell_type": "markdown",
   "metadata": {
    "kernel": "Python3"
   },
   "source": [
    " assumption of independence among predictors<br>\n",
    " si bernouliNB -> on pense que les feature sont 0-1<br>\n",
    " si GaussianNB -> on pense que les feature sont gaussien<br>\n",
    " si Multinomial ->  It is used for discrete counts<br>\n",
    "[more?](https://www.analyticsvidhya.com/blog/2017/09/naive-bayes-explained/)\n"
   ]
  },
  {
   "cell_type": "code",
   "execution_count": 545,
   "metadata": {
    "kernel": "Python3"
   },
   "outputs": [
    {
     "data": {
      "text/plain": [
       "GaussianNB(priors=None, var_smoothing=1e-09)"
      ]
     },
     "execution_count": 545,
     "metadata": {},
     "output_type": "execute_result"
    }
   ],
   "source": [
    "naiveBayes=GaussianNB()\n",
    "naiveBayes.fit(XTrain,YTrain)"
   ]
  },
  {
   "cell_type": "code",
   "execution_count": 547,
   "metadata": {
    "kernel": "Python3"
   },
   "outputs": [
    {
     "data": {
      "text/plain": [
       "[('aucprc', 0.39441517320901154),\n",
       " ('auc', 0.81788594628616385),\n",
       " ('acc', 0.99288874324102905),\n",
       " ('sensitivity', 0.9934954698081),\n",
       " ('specificity', 0.6422764227642277)]"
      ]
     },
     "execution_count": 547,
     "metadata": {},
     "output_type": "execute_result"
    }
   ],
   "source": [
    "metrics(YTrain,naiveBayes.predict(XTrain))"
   ]
  },
  {
   "cell_type": "code",
   "execution_count": 551,
   "metadata": {
    "kernel": "Python3",
    "scrolled": true
   },
   "outputs": [
    {
     "data": {
      "text/plain": [
       "[('aucprc', 0.390142843640856),\n",
       " ('auc', 0.81764913584644228),\n",
       " ('acc', 0.99241594337237715),\n",
       " ('sensitivity', 0.9930218489286569),\n",
       " ('specificity', 0.6422764227642277)]"
      ]
     },
     "execution_count": 551,
     "metadata": {},
     "output_type": "execute_result"
    }
   ],
   "source": [
    "metrics(YTest,naiveBayes.predict(XTest))"
   ]
  },
  {
   "cell_type": "code",
   "execution_count": 554,
   "metadata": {
    "kernel": "Python3"
   },
   "outputs": [
    {
     "name": "stdout",
     "output_type": "stream",
     "text": [
      "              precision    recall  f1-score   support\n",
      "\n",
      "           0       1.00      0.99      1.00     71079\n",
      "           1       0.14      0.64      0.23       123\n",
      "\n",
      "   micro avg       0.99      0.99      0.99     71202\n",
      "   macro avg       0.57      0.82      0.61     71202\n",
      "weighted avg       1.00      0.99      0.99     71202\n",
      "\n"
     ]
    }
   ],
   "source": [
    "print(classification_report(YTest,naiveBayes.predict(XTest)))"
   ]
  },
  {
   "cell_type": "code",
   "execution_count": 203,
   "metadata": {
    "kernel": "Python3"
   },
   "outputs": [
    {
     "data": {
      "text/html": [
       "<div>\n",
       "<style scoped>\n",
       "    .dataframe tbody tr th:only-of-type {\n",
       "        vertical-align: middle;\n",
       "    }\n",
       "\n",
       "    .dataframe tbody tr th {\n",
       "        vertical-align: top;\n",
       "    }\n",
       "\n",
       "    .dataframe thead th {\n",
       "        text-align: right;\n",
       "    }\n",
       "</style>\n",
       "<table border=\"1\" class=\"dataframe\">\n",
       "  <thead>\n",
       "    <tr style=\"text-align: right;\">\n",
       "      <th>metrics</th>\n",
       "      <th>aucprc</th>\n",
       "      <th>auc</th>\n",
       "      <th>acc</th>\n",
       "    </tr>\n",
       "  </thead>\n",
       "  <tbody>\n",
       "    <tr>\n",
       "      <th>Dummy</th>\n",
       "      <td>0.500864</td>\n",
       "      <td>0.500000</td>\n",
       "      <td>0.998273</td>\n",
       "    </tr>\n",
       "    <tr>\n",
       "      <th>LogReg</th>\n",
       "      <td>0.779563</td>\n",
       "      <td>0.829205</td>\n",
       "      <td>0.999284</td>\n",
       "    </tr>\n",
       "    <tr>\n",
       "      <th>LDA</th>\n",
       "      <td>0.822866</td>\n",
       "      <td>0.890138</td>\n",
       "      <td>0.999410</td>\n",
       "    </tr>\n",
       "    <tr>\n",
       "      <th>QDA</th>\n",
       "      <td>0.479241</td>\n",
       "      <td>0.935836</td>\n",
       "      <td>0.977220</td>\n",
       "    </tr>\n",
       "    <tr>\n",
       "      <th>NB</th>\n",
       "      <td>0.742829</td>\n",
       "      <td>0.829149</td>\n",
       "      <td>0.999171</td>\n",
       "    </tr>\n",
       "  </tbody>\n",
       "</table>\n",
       "</div>"
      ],
      "text/plain": [
       "metrics    aucprc       auc       acc\n",
       "Dummy    0.500864  0.500000  0.998273\n",
       "LogReg   0.779563  0.829205  0.999284\n",
       "LDA      0.822866  0.890138  0.999410\n",
       "QDA      0.479241  0.935836  0.977220\n",
       "NB       0.742829  0.829149  0.999171"
      ]
     },
     "execution_count": 203,
     "metadata": {},
     "output_type": "execute_result"
    }
   ],
   "source": [
    "dummyMetrics5=dummyMetrics4.append(\n",
    "    pd.DataFrame.from_records(metrics(testy,naiveBayes.predict(testx)),columns=[\"metrics\",\"NB\"],index=\"metrics\").T\n",
    ")\n",
    "dummyMetrics5"
   ]
  },
  {
   "cell_type": "markdown",
   "metadata": {
    "kernel": "Python3"
   },
   "source": [
    "## KNN"
   ]
  },
  {
   "cell_type": "markdown",
   "metadata": {
    "kernel": "Python3"
   },
   "source": [
    "Knn relou si grand"
   ]
  },
  {
   "cell_type": "markdown",
   "metadata": {
    "kernel": "Python3"
   },
   "source": [
    "/!\\ knn met cent ans ne pas le faire !"
   ]
  },
  {
   "cell_type": "code",
   "execution_count": null,
   "metadata": {
    "kernel": "Python3"
   },
   "outputs": [],
   "source": [
    "def knnLaunch():\n",
    "    knn=KNeighborsClassifier(n_neighbors=10)\n",
    "    knn.fit(trainx,trainy)\n",
    "    metrics(trainy,knn.predict(trainx))\n",
    "    metrics(testy,knn.predict(testx))\n",
    "    return knn\n",
    "#knnMod=knnLaunch()"
   ]
  },
  {
   "cell_type": "code",
   "execution_count": null,
   "metadata": {
    "kernel": "Python3"
   },
   "outputs": [],
   "source": [
    "#dummyMetrics5=dummyMetrics4.append(\n",
    "#    pd.DataFrame.from_records(metrics(testy,knnMod.predict(testx)),columns=[\"metrics\",\"NB\"],index=\"metrics\").T\n",
    "#)\n",
    "#dummyMetrics5"
   ]
  },
  {
   "cell_type": "markdown",
   "metadata": {
    "kernel": "Python3"
   },
   "source": [
    "## SVM"
   ]
  },
  {
   "cell_type": "code",
   "execution_count": null,
   "metadata": {
    "kernel": "Python3"
   },
   "outputs": [],
   "source": [
    "def svmLaunch():\n",
    "    knn=SVC()\n",
    "    knn.fit(trainx,trainy)\n",
    "    metrics(trainy,knn.predict(trainx))\n",
    "    metrics(testy,knn.predict(testx))\n",
    "    return knn"
   ]
  }
 ],
 "metadata": {
  "kernelspec": {
   "display_name": "SoS",
   "language": "sos",
   "name": "sos"
  },
  "language_info": {
   "codemirror_mode": "sos",
   "file_extension": ".sos",
   "mimetype": "text/x-sos",
   "name": "sos",
   "nbconvert_exporter": "sos_notebook.converter.SoS_Exporter",
   "pygments_lexer": "sos"
  },
  "sos": {
   "default_kernel": "Python3",
   "kernels": [
    [
     "Python3",
     "python3",
     "Python3",
     "#FFD91A"
    ]
   ],
   "panel": {
    "displayed": true,
    "height": "344px",
    "style": "side"
   },
   "version": "0.17.3"
  }
 },
 "nbformat": 4,
 "nbformat_minor": 2
}
